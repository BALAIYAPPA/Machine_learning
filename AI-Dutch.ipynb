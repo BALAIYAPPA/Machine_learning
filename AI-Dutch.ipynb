{
 "cells": [
  {
   "cell_type": "code",
   "execution_count": null,
   "metadata": {},
   "outputs": [],
   "source": [
    "https://github.com/sharmasaravanan/Machine_learning "
   ]
  },
  {
   "cell_type": "code",
   "execution_count": 2,
   "metadata": {},
   "outputs": [
    {
     "name": "stdout",
     "output_type": "stream",
     "text": [
      "15\n"
     ]
    }
   ],
   "source": [
    "a = 10\n",
    "b = 5\n",
    "print(a+b)"
   ]
  },
  {
   "cell_type": "markdown",
   "metadata": {},
   "source": [
    "## data types\n"
   ]
  },
  {
   "cell_type": "code",
   "execution_count": 3,
   "metadata": {},
   "outputs": [],
   "source": [
    "a = 10 #int\n",
    "pi = 3.14 #float\n",
    "name = \"apple\" #string\n",
    "b = True #bool"
   ]
  },
  {
   "cell_type": "code",
   "execution_count": 5,
   "metadata": {},
   "outputs": [
    {
     "name": "stdout",
     "output_type": "stream",
     "text": [
      "apple\n"
     ]
    }
   ],
   "source": [
    "print(name)"
   ]
  },
  {
   "cell_type": "code",
   "execution_count": 8,
   "metadata": {},
   "outputs": [
    {
     "name": "stdout",
     "output_type": "stream",
     "text": [
      "hello world!\n"
     ]
    }
   ],
   "source": [
    "print('hello world!')"
   ]
  },
  {
   "cell_type": "code",
   "execution_count": 10,
   "metadata": {},
   "outputs": [
    {
     "name": "stdout",
     "output_type": "stream",
     "text": [
      "15\n"
     ]
    }
   ],
   "source": [
    "print(15)"
   ]
  },
  {
   "cell_type": "code",
   "execution_count": 15,
   "metadata": {},
   "outputs": [
    {
     "name": "stdout",
     "output_type": "stream",
     "text": [
      "<class 'bool'>\n"
     ]
    }
   ],
   "source": [
    "print(type(b))"
   ]
  },
  {
   "cell_type": "code",
   "execution_count": 24,
   "metadata": {},
   "outputs": [
    {
     "name": "stdout",
     "output_type": "stream",
     "text": [
      "hello apple\n",
      "hello 10\n",
      "--------------------------\n",
      "hello apple\n",
      "hello 10\n",
      "--------------------------\n",
      "hello apple\n",
      "hello 10\n",
      "--------------------------\n",
      "hello apple\n",
      "hello 10\n"
     ]
    }
   ],
   "source": [
    "# hello apple\n",
    "# hell0 10\n",
    "\n",
    "#method 1\n",
    "print(\"hello \"+name)\n",
    "print(\"hello \"+str(a))\n",
    "\n",
    "print(\"--------------------------\")\n",
    "\n",
    "#method 2\n",
    "print(\"hello\",name)\n",
    "print(\"hello\",a)\n",
    "\n",
    "print(\"--------------------------\")\n",
    "\n",
    "#method 3\n",
    "print(\"hello %s\"%name)\n",
    "print(\"hello %d\"%a)\n",
    "\n",
    "print(\"--------------------------\")\n",
    "\n",
    "#method 4\n",
    "print(\"hello {}\".format(name))\n",
    "print(\"hello {}\".format(a))"
   ]
  },
  {
   "cell_type": "code",
   "execution_count": 23,
   "metadata": {},
   "outputs": [
    {
     "name": "stdout",
     "output_type": "stream",
     "text": [
      "I bought 2Kg of apple and 1Kg of mango which cost 75.36\n"
     ]
    }
   ],
   "source": [
    "print(\"I bought %dKg of %s and %dKg of %s which cost %0.2f\"%(2,\"apple\",1,\"mango\",75.360000))"
   ]
  },
  {
   "cell_type": "code",
   "execution_count": 27,
   "metadata": {},
   "outputs": [
    {
     "name": "stdout",
     "output_type": "stream",
     "text": [
      "I bought 2Kg of apple and 1Kg of mango which cost 75.36\n"
     ]
    }
   ],
   "source": [
    "print(\"I bought {0}Kg of {3} and {1}Kg of {2} which cost {4}\".format(2,1,\"mango\",\"apple\",75.360000))"
   ]
  },
  {
   "cell_type": "markdown",
   "metadata": {},
   "source": [
    "#### task 1\n",
    "\n",
    "assign a numerical value to a variable (n) and print the result in the following way\n",
    "\n",
    "output:-\n",
    "    nnn+nn+n\n",
    "\n",
    "example:-\n",
    "\n",
    "n=5\n",
    "\n",
    "555+55+5 = 615"
   ]
  },
  {
   "cell_type": "code",
   "execution_count": 30,
   "metadata": {},
   "outputs": [
    {
     "data": {
      "text/plain": [
       "615"
      ]
     },
     "execution_count": 30,
     "metadata": {},
     "output_type": "execute_result"
    }
   ],
   "source": [
    "n=5\n",
    "int(str(n)+str(n)+str(n))+int(str(n)+str(n))+n"
   ]
  },
  {
   "cell_type": "code",
   "execution_count": 32,
   "metadata": {},
   "outputs": [
    {
     "data": {
      "text/plain": [
       "615"
      ]
     },
     "execution_count": 32,
     "metadata": {},
     "output_type": "execute_result"
    }
   ],
   "source": [
    "n='5'\n",
    "int(n+n+n)+int(n+n)+int(n)"
   ]
  },
  {
   "cell_type": "code",
   "execution_count": 33,
   "metadata": {},
   "outputs": [
    {
     "ename": "SyntaxError",
     "evalue": "invalid syntax (<ipython-input-33-c6f28ea08a71>, line 2)",
     "output_type": "error",
     "traceback": [
      "\u001b[0;36m  File \u001b[0;32m\"<ipython-input-33-c6f28ea08a71>\"\u001b[0;36m, line \u001b[0;32m2\u001b[0m\n\u001b[0;31m    + - * / %\u001b[0m\n\u001b[0m        ^\u001b[0m\n\u001b[0;31mSyntaxError\u001b[0m\u001b[0;31m:\u001b[0m invalid syntax\n"
     ]
    }
   ],
   "source": [
    "#numeric value\n",
    "+ - * / %\n",
    "#string\n",
    "+ *"
   ]
  },
  {
   "cell_type": "code",
   "execution_count": 34,
   "metadata": {},
   "outputs": [
    {
     "data": {
      "text/plain": [
       "'5'"
      ]
     },
     "execution_count": 34,
     "metadata": {},
     "output_type": "execute_result"
    }
   ],
   "source": [
    "n"
   ]
  },
  {
   "cell_type": "code",
   "execution_count": 38,
   "metadata": {},
   "outputs": [
    {
     "data": {
      "text/plain": [
       "615"
      ]
     },
     "execution_count": 38,
     "metadata": {},
     "output_type": "execute_result"
    }
   ],
   "source": [
    "int(n*3)+int(n*2)+int(n)"
   ]
  },
  {
   "cell_type": "code",
   "execution_count": null,
   "metadata": {},
   "outputs": [],
   "source": [
    "#conditional operation\n",
    "< > <= >= == !=\n",
    "\n",
    "#logical operation\n",
    "and or not ^ \n",
    "\n",
    "#misc operation\n",
    "\n",
    "in, is in , not in ,is , is not\n"
   ]
  },
  {
   "cell_type": "code",
   "execution_count": 52,
   "metadata": {},
   "outputs": [
    {
     "name": "stdout",
     "output_type": "stream",
     "text": [
      "Enter the value for num :85\n",
      "Enter your name :mango\n"
     ]
    }
   ],
   "source": [
    "num = int(input(\"Enter the value for num :\"))\n",
    "name = input(\"Enter your name :\")"
   ]
  },
  {
   "cell_type": "code",
   "execution_count": 53,
   "metadata": {},
   "outputs": [
    {
     "data": {
      "text/plain": [
       "int"
      ]
     },
     "execution_count": 53,
     "metadata": {},
     "output_type": "execute_result"
    }
   ],
   "source": [
    "type(num)"
   ]
  },
  {
   "cell_type": "code",
   "execution_count": 54,
   "metadata": {},
   "outputs": [
    {
     "data": {
      "text/plain": [
       "170"
      ]
     },
     "execution_count": 54,
     "metadata": {},
     "output_type": "execute_result"
    }
   ],
   "source": [
    "num*2"
   ]
  },
  {
   "cell_type": "code",
   "execution_count": 55,
   "metadata": {},
   "outputs": [
    {
     "name": "stdout",
     "output_type": "stream",
     "text": [
      "mango\n"
     ]
    }
   ],
   "source": [
    "print(name)"
   ]
  },
  {
   "cell_type": "markdown",
   "metadata": {},
   "source": [
    "### task 2\n",
    "calculate the area of triangle ,square and rectangle by getting appropriate input from the user.\n",
    "\n",
    "output:-\n",
    "<br> The area of the triangle is 45 sq.cm whose base is 18 cm and height is 5 cm"
   ]
  },
  {
   "cell_type": "code",
   "execution_count": 64,
   "metadata": {},
   "outputs": [
    {
     "name": "stdout",
     "output_type": "stream",
     "text": [
      "Enter the numerical value :40\n",
      "even\n",
      "40\n"
     ]
    }
   ],
   "source": [
    "#if-else\n",
    "num = int(input(\"Enter the numerical value :\"))\n",
    "if num%2 == 0:\n",
    "    print(\"even\")\n",
    "    if num <= 50:\n",
    "        print(num)\n",
    "else:\n",
    "    print(\"odd\")"
   ]
  },
  {
   "cell_type": "code",
   "execution_count": 67,
   "metadata": {},
   "outputs": [
    {
     "name": "stdout",
     "output_type": "stream",
     "text": [
      "Enter the numerical value :5\n",
      "odd\n"
     ]
    }
   ],
   "source": [
    "num = int(input(\"Enter the numerical value :\"))\n",
    "if num%4 == 0:\n",
    "    print(\"divisible by 4 and even\")\n",
    "elif num%2 == 0:\n",
    "    print(\"even\")\n",
    "else:\n",
    "    print(\"odd\")"
   ]
  },
  {
   "cell_type": "markdown",
   "metadata": {},
   "source": [
    "### task 3\n",
    "make a two player rock-paper-scissor game\n",
    "\n",
    "Remember the rules:\n",
    "\n",
    "    Rock beats scissors\n",
    "    Scissors beats paper\n",
    "    Paper beats rock"
   ]
  },
  {
   "cell_type": "code",
   "execution_count": 75,
   "metadata": {},
   "outputs": [
    {
     "name": "stdout",
     "output_type": "stream",
     "text": [
      "Enter the numerical value :10\n",
      "even\n",
      "Do you want to continue? y/ny\n",
      "Enter the numerical value :36\n",
      "divisible by 4 and even\n",
      "Do you want to continue? y/ny\n",
      "Enter the numerical value :10\n",
      "even\n",
      "Do you want to continue? y/ny\n",
      "Enter the numerical value :25\n",
      "skipping....\n",
      "Enter the numerical value :10\n",
      "even\n",
      "Do you want to continue? y/nn\n"
     ]
    }
   ],
   "source": [
    "opt = 'y'\n",
    "cnt = 0\n",
    "while opt==\"y\":\n",
    "    num = int(input(\"Enter the numerical value :\"))\n",
    "    if num == 15:\n",
    "        print(\"bye....\")\n",
    "        break\n",
    "    elif num == 25:\n",
    "        print(\"skipping....\")\n",
    "        continue\n",
    "    elif num == 10:\n",
    "        cnt+=1\n",
    "        pass\n",
    "    if num%4 == 0:\n",
    "        print(\"divisible by 4 and even\")\n",
    "    elif num%2 == 0:\n",
    "        print(\"even\")\n",
    "    else:\n",
    "        print(\"odd\")\n",
    "    opt = input(\"Do you want to continue? y/n\")"
   ]
  },
  {
   "cell_type": "code",
   "execution_count": 76,
   "metadata": {},
   "outputs": [
    {
     "data": {
      "text/plain": [
       "3"
      ]
     },
     "execution_count": 76,
     "metadata": {},
     "output_type": "execute_result"
    }
   ],
   "source": [
    "cnt"
   ]
  },
  {
   "cell_type": "code",
   "execution_count": null,
   "metadata": {},
   "outputs": [],
   "source": []
  }
 ],
 "metadata": {
  "kernelspec": {
   "display_name": "Python 3",
   "language": "python",
   "name": "python3"
  },
  "language_info": {
   "codemirror_mode": {
    "name": "ipython",
    "version": 3
   },
   "file_extension": ".py",
   "mimetype": "text/x-python",
   "name": "python",
   "nbconvert_exporter": "python",
   "pygments_lexer": "ipython3",
   "version": "3.6.6"
  }
 },
 "nbformat": 4,
 "nbformat_minor": 2
}
