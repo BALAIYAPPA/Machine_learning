{
 "cells": [
  {
   "cell_type": "code",
   "execution_count": 5,
   "metadata": {},
   "outputs": [
    {
     "name": "stdout",
     "output_type": "stream",
     "text": [
      "Enter the value for num :5\n",
      "odd\n"
     ]
    }
   ],
   "source": [
    "num = int(input(\"Enter the value for num :\"))\n",
    "if num%4==0:\n",
    "    print(\"divisible by 4\")\n",
    "elif num%2==0:\n",
    "    print(\"even\")\n",
    "else:\n",
    "    print(\"odd\")"
   ]
  },
  {
   "cell_type": "code",
   "execution_count": 11,
   "metadata": {},
   "outputs": [
    {
     "name": "stdout",
     "output_type": "stream",
     "text": [
      "Enter the value for num :14\n",
      "even\n",
      "Enter the value for num :16\n",
      "divisible by 4\n",
      "Enter the value for num :18\n",
      "even\n",
      "Enter the value for num :19\n",
      "odd\n",
      "Enter the value for num :21\n",
      "odd\n",
      "Enter the value for num :48\n",
      "divisible by 4\n"
     ]
    }
   ],
   "source": [
    "cnt=0\n",
    "name=\"sharma\"\n",
    "while cnt<len(name):\n",
    "    num = int(input(\"Enter the value for num :\"))\n",
    "    if num==15:\n",
    "        print(\"Good bye..\")\n",
    "        break\n",
    "    elif num==25:\n",
    "        print(\"skipping..\")\n",
    "        continue\n",
    "    elif num == 10:\n",
    "        pass\n",
    "    if num%4==0:\n",
    "        print(\"divisible by 4\")\n",
    "    elif num%2==0:\n",
    "        print(\"even\")\n",
    "    else:\n",
    "        print(\"odd\")\n",
    "    cnt+=1"
   ]
  },
  {
   "cell_type": "code",
   "execution_count": 12,
   "metadata": {},
   "outputs": [],
   "source": [
    "import random as r\n"
   ]
  },
  {
   "cell_type": "code",
   "execution_count": 15,
   "metadata": {},
   "outputs": [
    {
     "data": {
      "text/plain": [
       "71"
      ]
     },
     "execution_count": 15,
     "metadata": {},
     "output_type": "execute_result"
    }
   ],
   "source": [
    " r.randint(0,99)"
   ]
  },
  {
   "cell_type": "code",
   "execution_count": 16,
   "metadata": {},
   "outputs": [],
   "source": [
    "name = \"apple\""
   ]
  },
  {
   "cell_type": "code",
   "execution_count": 19,
   "metadata": {},
   "outputs": [
    {
     "data": {
      "text/plain": [
       "'ppl'"
      ]
     },
     "execution_count": 19,
     "metadata": {},
     "output_type": "execute_result"
    }
   ],
   "source": [
    "name[1:4]"
   ]
  },
  {
   "cell_type": "code",
   "execution_count": 20,
   "metadata": {},
   "outputs": [
    {
     "data": {
      "text/plain": [
       "'l'"
      ]
     },
     "execution_count": 20,
     "metadata": {},
     "output_type": "execute_result"
    }
   ],
   "source": [
    "name[3]"
   ]
  },
  {
   "cell_type": "code",
   "execution_count": 21,
   "metadata": {},
   "outputs": [
    {
     "data": {
      "text/plain": [
       "'app'"
      ]
     },
     "execution_count": 21,
     "metadata": {},
     "output_type": "execute_result"
    }
   ],
   "source": [
    "name[:3]"
   ]
  },
  {
   "cell_type": "code",
   "execution_count": 22,
   "metadata": {},
   "outputs": [
    {
     "data": {
      "text/plain": [
       "'ple'"
      ]
     },
     "execution_count": 22,
     "metadata": {},
     "output_type": "execute_result"
    }
   ],
   "source": [
    "name[2:]"
   ]
  },
  {
   "cell_type": "code",
   "execution_count": 32,
   "metadata": {},
   "outputs": [
    {
     "data": {
      "text/plain": [
       "'elppa'"
      ]
     },
     "execution_count": 32,
     "metadata": {},
     "output_type": "execute_result"
    }
   ],
   "source": [
    "name[::-1]"
   ]
  },
  {
   "cell_type": "code",
   "execution_count": 27,
   "metadata": {},
   "outputs": [
    {
     "data": {
      "text/plain": [
       "'apple'"
      ]
     },
     "execution_count": 27,
     "metadata": {},
     "output_type": "execute_result"
    }
   ],
   "source": [
    "name"
   ]
  },
  {
   "cell_type": "code",
   "execution_count": 33,
   "metadata": {},
   "outputs": [
    {
     "data": {
      "text/plain": [
       "'Apple'"
      ]
     },
     "execution_count": 33,
     "metadata": {},
     "output_type": "execute_result"
    }
   ],
   "source": [
    "name.capitalize()"
   ]
  },
  {
   "cell_type": "code",
   "execution_count": 38,
   "metadata": {},
   "outputs": [
    {
     "data": {
      "text/plain": [
       "'ape'"
      ]
     },
     "execution_count": 38,
     "metadata": {},
     "output_type": "execute_result"
    }
   ],
   "source": [
    "name[0:5:2]"
   ]
  },
  {
   "cell_type": "code",
   "execution_count": 42,
   "metadata": {},
   "outputs": [
    {
     "data": {
      "text/plain": [
       "2"
      ]
     },
     "execution_count": 42,
     "metadata": {},
     "output_type": "execute_result"
    }
   ],
   "source": [
    "name.count(\"p\")"
   ]
  },
  {
   "cell_type": "code",
   "execution_count": 43,
   "metadata": {},
   "outputs": [
    {
     "data": {
      "text/plain": [
       "True"
      ]
     },
     "execution_count": 43,
     "metadata": {},
     "output_type": "execute_result"
    }
   ],
   "source": [
    "name.endswith(\"le\")"
   ]
  },
  {
   "cell_type": "code",
   "execution_count": 45,
   "metadata": {},
   "outputs": [
    {
     "data": {
      "text/plain": [
       "False"
      ]
     },
     "execution_count": 45,
     "metadata": {},
     "output_type": "execute_result"
    }
   ],
   "source": [
    "name.startswith(\"apl\")"
   ]
  },
  {
   "cell_type": "code",
   "execution_count": 46,
   "metadata": {},
   "outputs": [
    {
     "data": {
      "text/plain": [
       "4"
      ]
     },
     "execution_count": 46,
     "metadata": {},
     "output_type": "execute_result"
    }
   ],
   "source": [
    "name.find('e')"
   ]
  },
  {
   "cell_type": "code",
   "execution_count": 48,
   "metadata": {},
   "outputs": [
    {
     "data": {
      "text/plain": [
       "3"
      ]
     },
     "execution_count": 48,
     "metadata": {},
     "output_type": "execute_result"
    }
   ],
   "source": [
    "name.index('le')"
   ]
  },
  {
   "cell_type": "code",
   "execution_count": 50,
   "metadata": {},
   "outputs": [
    {
     "data": {
      "text/plain": [
       "'bpple'"
      ]
     },
     "execution_count": 50,
     "metadata": {},
     "output_type": "execute_result"
    }
   ],
   "source": [
    "name.replace('a',\"b\")"
   ]
  },
  {
   "cell_type": "code",
   "execution_count": 51,
   "metadata": {},
   "outputs": [
    {
     "data": {
      "text/plain": [
       "True"
      ]
     },
     "execution_count": 51,
     "metadata": {},
     "output_type": "execute_result"
    }
   ],
   "source": [
    "name.isalnum()\n"
   ]
  },
  {
   "cell_type": "code",
   "execution_count": 52,
   "metadata": {},
   "outputs": [
    {
     "data": {
      "text/plain": [
       "True"
      ]
     },
     "execution_count": 52,
     "metadata": {},
     "output_type": "execute_result"
    }
   ],
   "source": [
    "name.isalpha()"
   ]
  },
  {
   "cell_type": "code",
   "execution_count": 53,
   "metadata": {},
   "outputs": [
    {
     "data": {
      "text/plain": [
       "False"
      ]
     },
     "execution_count": 53,
     "metadata": {},
     "output_type": "execute_result"
    }
   ],
   "source": [
    "name.isdecimal()"
   ]
  },
  {
   "cell_type": "code",
   "execution_count": 58,
   "metadata": {},
   "outputs": [],
   "source": [
    "n='5.5'\n"
   ]
  },
  {
   "cell_type": "code",
   "execution_count": 59,
   "metadata": {},
   "outputs": [
    {
     "data": {
      "text/plain": [
       "False"
      ]
     },
     "execution_count": 59,
     "metadata": {},
     "output_type": "execute_result"
    }
   ],
   "source": [
    "n.isdecimal()"
   ]
  },
  {
   "cell_type": "code",
   "execution_count": 60,
   "metadata": {},
   "outputs": [
    {
     "data": {
      "text/plain": [
       "False"
      ]
     },
     "execution_count": 60,
     "metadata": {},
     "output_type": "execute_result"
    }
   ],
   "source": [
    "n.isdigit()"
   ]
  },
  {
   "cell_type": "code",
   "execution_count": 61,
   "metadata": {},
   "outputs": [
    {
     "data": {
      "text/plain": [
       "True"
      ]
     },
     "execution_count": 61,
     "metadata": {},
     "output_type": "execute_result"
    }
   ],
   "source": [
    "name.islower()"
   ]
  },
  {
   "cell_type": "code",
   "execution_count": 62,
   "metadata": {},
   "outputs": [
    {
     "data": {
      "text/plain": [
       "False"
      ]
     },
     "execution_count": 62,
     "metadata": {},
     "output_type": "execute_result"
    }
   ],
   "source": [
    "name.isupper()"
   ]
  },
  {
   "cell_type": "code",
   "execution_count": 63,
   "metadata": {},
   "outputs": [
    {
     "data": {
      "text/plain": [
       "False"
      ]
     },
     "execution_count": 63,
     "metadata": {},
     "output_type": "execute_result"
    }
   ],
   "source": [
    "name.isspace()"
   ]
  },
  {
   "cell_type": "code",
   "execution_count": 64,
   "metadata": {},
   "outputs": [],
   "source": [
    "name = \" apple \""
   ]
  },
  {
   "cell_type": "code",
   "execution_count": 66,
   "metadata": {},
   "outputs": [
    {
     "data": {
      "text/plain": [
       "'apple '"
      ]
     },
     "execution_count": 66,
     "metadata": {},
     "output_type": "execute_result"
    }
   ],
   "source": [
    "name.lstrip()"
   ]
  },
  {
   "cell_type": "code",
   "execution_count": 67,
   "metadata": {},
   "outputs": [
    {
     "data": {
      "text/plain": [
       "' apple'"
      ]
     },
     "execution_count": 67,
     "metadata": {},
     "output_type": "execute_result"
    }
   ],
   "source": [
    "name.rstrip()"
   ]
  },
  {
   "cell_type": "code",
   "execution_count": 68,
   "metadata": {},
   "outputs": [
    {
     "data": {
      "text/plain": [
       "'apple'"
      ]
     },
     "execution_count": 68,
     "metadata": {},
     "output_type": "execute_result"
    }
   ],
   "source": [
    "name.strip()"
   ]
  },
  {
   "cell_type": "code",
   "execution_count": 69,
   "metadata": {},
   "outputs": [],
   "source": [
    "sent = \"Elephant is an animal\""
   ]
  },
  {
   "cell_type": "code",
   "execution_count": 72,
   "metadata": {},
   "outputs": [],
   "source": [
    "ss = sent.split('an')"
   ]
  },
  {
   "cell_type": "code",
   "execution_count": 73,
   "metadata": {},
   "outputs": [
    {
     "data": {
      "text/plain": [
       "['Eleph', 't is ', ' ', 'imal']"
      ]
     },
     "execution_count": 73,
     "metadata": {},
     "output_type": "execute_result"
    }
   ],
   "source": [
    "ss"
   ]
  },
  {
   "cell_type": "code",
   "execution_count": 76,
   "metadata": {},
   "outputs": [
    {
     "data": {
      "text/plain": [
       "'Elephant is an animal'"
      ]
     },
     "execution_count": 76,
     "metadata": {},
     "output_type": "execute_result"
    }
   ],
   "source": [
    "\"an\".join(ss)"
   ]
  },
  {
   "cell_type": "markdown",
   "metadata": {},
   "source": [
    "Elephant is an animal . -> . animal an is Elephant "
   ]
  },
  {
   "cell_type": "code",
   "execution_count": 80,
   "metadata": {},
   "outputs": [
    {
     "data": {
      "text/plain": [
       "'animal an is Elephant'"
      ]
     },
     "execution_count": 80,
     "metadata": {},
     "output_type": "execute_result"
    }
   ],
   "source": [
    "\" \".join(sent.split()[::-1])"
   ]
  },
  {
   "cell_type": "code",
   "execution_count": 1,
   "metadata": {},
   "outputs": [],
   "source": [
    "l=[]"
   ]
  },
  {
   "cell_type": "code",
   "execution_count": 3,
   "metadata": {},
   "outputs": [],
   "source": [
    "ll=[1,2,3,4,5,'a','b','c','d',\"apple\",\"ball\",\"cat\"]"
   ]
  },
  {
   "cell_type": "code",
   "execution_count": 12,
   "metadata": {},
   "outputs": [
    {
     "data": {
      "text/plain": [
       "[4, 'b', 'apple']"
      ]
     },
     "execution_count": 12,
     "metadata": {},
     "output_type": "execute_result"
    }
   ],
   "source": [
    "ll[3:11:3]"
   ]
  },
  {
   "cell_type": "code",
   "execution_count": 9,
   "metadata": {},
   "outputs": [
    {
     "data": {
      "text/plain": [
       "12"
      ]
     },
     "execution_count": 9,
     "metadata": {},
     "output_type": "execute_result"
    }
   ],
   "source": [
    "len(ll)"
   ]
  },
  {
   "cell_type": "code",
   "execution_count": 13,
   "metadata": {},
   "outputs": [],
   "source": [
    "ll[0]=\"dog\""
   ]
  },
  {
   "cell_type": "code",
   "execution_count": 15,
   "metadata": {},
   "outputs": [
    {
     "data": {
      "text/plain": [
       "7"
      ]
     },
     "execution_count": 15,
     "metadata": {},
     "output_type": "execute_result"
    }
   ],
   "source": [
    "ll.index('c')"
   ]
  },
  {
   "cell_type": "code",
   "execution_count": 16,
   "metadata": {},
   "outputs": [],
   "source": [
    "ll[7]=\"mango\""
   ]
  },
  {
   "cell_type": "code",
   "execution_count": 17,
   "metadata": {},
   "outputs": [
    {
     "data": {
      "text/plain": [
       "['dog', 2, 3, 4, 5, 'a', 'b', 'mango', 'd', 'apple', 'ball', 'cat']"
      ]
     },
     "execution_count": 17,
     "metadata": {},
     "output_type": "execute_result"
    }
   ],
   "source": [
    "ll"
   ]
  },
  {
   "cell_type": "code",
   "execution_count": 18,
   "metadata": {},
   "outputs": [
    {
     "data": {
      "text/plain": [
       "[]"
      ]
     },
     "execution_count": 18,
     "metadata": {},
     "output_type": "execute_result"
    }
   ],
   "source": [
    "l"
   ]
  },
  {
   "cell_type": "code",
   "execution_count": 19,
   "metadata": {},
   "outputs": [],
   "source": [
    "l.append(\"apple\")"
   ]
  },
  {
   "cell_type": "code",
   "execution_count": 25,
   "metadata": {},
   "outputs": [],
   "source": [
    "ll.append(\"orange\")"
   ]
  },
  {
   "cell_type": "code",
   "execution_count": 22,
   "metadata": {},
   "outputs": [
    {
     "data": {
      "text/plain": [
       "['dog', 2, 3, 4, 5, 'a', 'b', 'mango', 'd', 'apple', 'ball', 'cat', 'orange']"
      ]
     },
     "execution_count": 22,
     "metadata": {},
     "output_type": "execute_result"
    }
   ],
   "source": [
    "ll"
   ]
  },
  {
   "cell_type": "code",
   "execution_count": 23,
   "metadata": {},
   "outputs": [],
   "source": [
    "ll.insert(5,\"elephant\")"
   ]
  },
  {
   "cell_type": "code",
   "execution_count": 24,
   "metadata": {},
   "outputs": [
    {
     "data": {
      "text/plain": [
       "['dog',\n",
       " 2,\n",
       " 3,\n",
       " 4,\n",
       " 5,\n",
       " 'elephant',\n",
       " 'a',\n",
       " 'b',\n",
       " 'mango',\n",
       " 'd',\n",
       " 'apple',\n",
       " 'ball',\n",
       " 'cat',\n",
       " 'orange']"
      ]
     },
     "execution_count": 24,
     "metadata": {},
     "output_type": "execute_result"
    }
   ],
   "source": [
    "ll"
   ]
  },
  {
   "cell_type": "code",
   "execution_count": 27,
   "metadata": {},
   "outputs": [
    {
     "data": {
      "text/plain": [
       "'orange'"
      ]
     },
     "execution_count": 27,
     "metadata": {},
     "output_type": "execute_result"
    }
   ],
   "source": [
    "ll.pop()"
   ]
  },
  {
   "cell_type": "code",
   "execution_count": 28,
   "metadata": {},
   "outputs": [
    {
     "data": {
      "text/plain": [
       "['dog',\n",
       " 2,\n",
       " 3,\n",
       " 4,\n",
       " 5,\n",
       " 'elephant',\n",
       " 'a',\n",
       " 'b',\n",
       " 'mango',\n",
       " 'd',\n",
       " 'apple',\n",
       " 'ball',\n",
       " 'cat',\n",
       " 'orange']"
      ]
     },
     "execution_count": 28,
     "metadata": {},
     "output_type": "execute_result"
    }
   ],
   "source": [
    "ll"
   ]
  },
  {
   "cell_type": "code",
   "execution_count": 29,
   "metadata": {},
   "outputs": [],
   "source": [
    "ll.remove(5)"
   ]
  },
  {
   "cell_type": "code",
   "execution_count": 30,
   "metadata": {},
   "outputs": [
    {
     "data": {
      "text/plain": [
       "['dog',\n",
       " 2,\n",
       " 3,\n",
       " 4,\n",
       " 'elephant',\n",
       " 'a',\n",
       " 'b',\n",
       " 'mango',\n",
       " 'd',\n",
       " 'apple',\n",
       " 'ball',\n",
       " 'cat',\n",
       " 'orange']"
      ]
     },
     "execution_count": 30,
     "metadata": {},
     "output_type": "execute_result"
    }
   ],
   "source": [
    "ll"
   ]
  },
  {
   "cell_type": "code",
   "execution_count": 31,
   "metadata": {},
   "outputs": [
    {
     "data": {
      "text/plain": [
       "1"
      ]
     },
     "execution_count": 31,
     "metadata": {},
     "output_type": "execute_result"
    }
   ],
   "source": [
    "ll.count(2)"
   ]
  },
  {
   "cell_type": "code",
   "execution_count": 32,
   "metadata": {},
   "outputs": [],
   "source": [
    "l.clear()"
   ]
  },
  {
   "cell_type": "code",
   "execution_count": 34,
   "metadata": {},
   "outputs": [
    {
     "data": {
      "text/plain": [
       "['dog',\n",
       " 2,\n",
       " 3,\n",
       " 4,\n",
       " 'elephant',\n",
       " 'a',\n",
       " 'b',\n",
       " 'mango',\n",
       " 'd',\n",
       " 'apple',\n",
       " 'ball',\n",
       " 'cat',\n",
       " 'orange']"
      ]
     },
     "execution_count": 34,
     "metadata": {},
     "output_type": "execute_result"
    }
   ],
   "source": [
    "ll"
   ]
  },
  {
   "cell_type": "code",
   "execution_count": 35,
   "metadata": {},
   "outputs": [],
   "source": [
    " t=('dog',\n",
    " 2,\n",
    " 3,\n",
    " 4,\n",
    " 'elephant',\n",
    " 'a',\n",
    " 'b',\n",
    " 'mango',\n",
    " 'd',\n",
    " 'apple',\n",
    " 'ball',\n",
    " 'cat',\n",
    " 'orange')"
   ]
  },
  {
   "cell_type": "code",
   "execution_count": 37,
   "metadata": {},
   "outputs": [
    {
     "data": {
      "text/plain": [
       "(3, 4, 'elephant', 'a')"
      ]
     },
     "execution_count": 37,
     "metadata": {},
     "output_type": "execute_result"
    }
   ],
   "source": [
    "t[2:6]\n"
   ]
  },
  {
   "cell_type": "code",
   "execution_count": 39,
   "metadata": {},
   "outputs": [
    {
     "ename": "TypeError",
     "evalue": "'tuple' object does not support item assignment",
     "output_type": "error",
     "traceback": [
      "\u001b[0;31m---------------------------------------------------------------------------\u001b[0m",
      "\u001b[0;31mTypeError\u001b[0m                                 Traceback (most recent call last)",
      "\u001b[0;32m<ipython-input-39-96dc4981d602>\u001b[0m in \u001b[0;36m<module>\u001b[0;34m()\u001b[0m\n\u001b[0;32m----> 1\u001b[0;31m \u001b[0mt\u001b[0m\u001b[0;34m[\u001b[0m\u001b[0;36m2\u001b[0m\u001b[0;34m]\u001b[0m\u001b[0;34m=\u001b[0m\u001b[0;36m8\u001b[0m\u001b[0;34m\u001b[0m\u001b[0m\n\u001b[0m",
      "\u001b[0;31mTypeError\u001b[0m: 'tuple' object does not support item assignment"
     ]
    }
   ],
   "source": [
    "t[2]=8"
   ]
  },
  {
   "cell_type": "code",
   "execution_count": 40,
   "metadata": {},
   "outputs": [
    {
     "ename": "TypeError",
     "evalue": "'<' not supported between instances of 'int' and 'str'",
     "output_type": "error",
     "traceback": [
      "\u001b[0;31m---------------------------------------------------------------------------\u001b[0m",
      "\u001b[0;31mTypeError\u001b[0m                                 Traceback (most recent call last)",
      "\u001b[0;32m<ipython-input-40-eff265a0ba0c>\u001b[0m in \u001b[0;36m<module>\u001b[0;34m()\u001b[0m\n\u001b[0;32m----> 1\u001b[0;31m \u001b[0mll\u001b[0m\u001b[0;34m.\u001b[0m\u001b[0msort\u001b[0m\u001b[0;34m(\u001b[0m\u001b[0;34m)\u001b[0m\u001b[0;34m\u001b[0m\u001b[0m\n\u001b[0m",
      "\u001b[0;31mTypeError\u001b[0m: '<' not supported between instances of 'int' and 'str'"
     ]
    }
   ],
   "source": [
    "ll.sort()"
   ]
  },
  {
   "cell_type": "code",
   "execution_count": 52,
   "metadata": {},
   "outputs": [
    {
     "name": "stdout",
     "output_type": "stream",
     "text": [
      "0 dog\n",
      "1 2\n",
      "2 3\n",
      "3 4\n",
      "4 elephant\n",
      "5 a\n",
      "6 b\n",
      "7 mango\n",
      "8 d\n",
      "9 apple\n",
      "10 ball\n",
      "11 cat\n",
      "12 orange\n"
     ]
    }
   ],
   "source": [
    "for i,j in enumerate(ll):\n",
    "    print(i,j)"
   ]
  },
  {
   "cell_type": "code",
   "execution_count": 53,
   "metadata": {},
   "outputs": [
    {
     "ename": "SyntaxError",
     "evalue": "unexpected EOF while parsing (<ipython-input-53-0770b38e38cd>, line 3)",
     "output_type": "error",
     "traceback": [
      "\u001b[0;36m  File \u001b[0;32m\"<ipython-input-53-0770b38e38cd>\"\u001b[0;36m, line \u001b[0;32m3\u001b[0m\n\u001b[0;31m    if a[i]==b[j]:\u001b[0m\n\u001b[0m                  ^\u001b[0m\n\u001b[0;31mSyntaxError\u001b[0m\u001b[0;31m:\u001b[0m unexpected EOF while parsing\n"
     ]
    }
   ],
   "source": [
    "for i in range(len(a)):\n",
    "    for j in range(len(b)):\n",
    "        if a[i]==b[j]:\n",
    "            print(a[i])\n"
   ]
  },
  {
   "cell_type": "code",
   "execution_count": null,
   "metadata": {},
   "outputs": [],
   "source": [
    "for i in a:\n",
    "    for j in b:\n",
    "        if i==j:\n",
    "            print(a)"
   ]
  },
  {
   "cell_type": "code",
   "execution_count": null,
   "metadata": {},
   "outputs": [],
   "source": [
    "set(a)&set(b)"
   ]
  },
  {
   "cell_type": "code",
   "execution_count": null,
   "metadata": {},
   "outputs": [],
   "source": [
    "for i in a:\n",
    "    if i <=7:\n",
    "        c.append(i)"
   ]
  },
  {
   "cell_type": "code",
   "execution_count": null,
   "metadata": {},
   "outputs": [],
   "source": [
    "c=[i for i in a if i<=7]"
   ]
  },
  {
   "cell_type": "code",
   "execution_count": 63,
   "metadata": {},
   "outputs": [],
   "source": [
    "d={'a':'apple','b':'ball',2:'cat','d':4,2:\"bat\"}"
   ]
  },
  {
   "cell_type": "code",
   "execution_count": 55,
   "metadata": {},
   "outputs": [
    {
     "data": {
      "text/plain": [
       "dict_keys(['a', 'b', 2, 'd'])"
      ]
     },
     "execution_count": 55,
     "metadata": {},
     "output_type": "execute_result"
    }
   ],
   "source": [
    "d.keys()"
   ]
  },
  {
   "cell_type": "code",
   "execution_count": 56,
   "metadata": {},
   "outputs": [
    {
     "data": {
      "text/plain": [
       "dict_values(['apple', 'ball', 'cat', 4])"
      ]
     },
     "execution_count": 56,
     "metadata": {},
     "output_type": "execute_result"
    }
   ],
   "source": [
    "d.values()"
   ]
  },
  {
   "cell_type": "code",
   "execution_count": 61,
   "metadata": {},
   "outputs": [],
   "source": [
    "d[4]=\"dog\""
   ]
  },
  {
   "cell_type": "code",
   "execution_count": 64,
   "metadata": {},
   "outputs": [
    {
     "data": {
      "text/plain": [
       "{'a': 'apple', 'b': 'ball', 2: 'bat', 'd': 4}"
      ]
     },
     "execution_count": 64,
     "metadata": {},
     "output_type": "execute_result"
    }
   ],
   "source": [
    "d"
   ]
  },
  {
   "cell_type": "code",
   "execution_count": 68,
   "metadata": {},
   "outputs": [
    {
     "name": "stdout",
     "output_type": "stream",
     "text": [
      "('a', 'apple')\n",
      "('b', 'ball')\n",
      "(2, 'bat')\n",
      "('d', 4)\n"
     ]
    }
   ],
   "source": [
    "for i in d.items():\n",
    "    print(i)"
   ]
  },
  {
   "cell_type": "code",
   "execution_count": null,
   "metadata": {},
   "outputs": [],
   "source": [
    "user -> a-> adding     -> \"The date of birth of john has been added to the database\"\n",
    "        b-> displaying -> \"The date of birth of john is 01/01/01\""
   ]
  },
  {
   "cell_type": "code",
   "execution_count": 73,
   "metadata": {},
   "outputs": [],
   "source": [
    "f = open(\"olive.txt\",\"a\")\n",
    "f.write(\"\\nhow do you do?\")\n",
    "f.close()"
   ]
  },
  {
   "cell_type": "code",
   "execution_count": 80,
   "metadata": {},
   "outputs": [
    {
     "data": {
      "text/plain": [
       "['hi hello\\n', 'how are you?,\\n', 'i am good\\n', 'how do you do?']"
      ]
     },
     "execution_count": 80,
     "metadata": {},
     "output_type": "execute_result"
    }
   ],
   "source": [
    "fr = open(\"olive.txt\",\"r\")\n",
    "fr.readlines()"
   ]
  },
  {
   "cell_type": "code",
   "execution_count": 79,
   "metadata": {},
   "outputs": [
    {
     "data": {
      "text/plain": [
       "''"
      ]
     },
     "execution_count": 79,
     "metadata": {},
     "output_type": "execute_result"
    }
   ],
   "source": [
    "fr.readline()"
   ]
  },
  {
   "cell_type": "code",
   "execution_count": 91,
   "metadata": {},
   "outputs": [
    {
     "name": "stdout",
     "output_type": "stream",
     "text": [
      "there is some error\n",
      "10\n"
     ]
    }
   ],
   "source": [
    "try:\n",
    "    print(b)\n",
    "except NameError:\n",
    "    print(\"there is some error\")\n",
    "except ValueError\n",
    "finally:\n",
    "    a=10\n",
    "    print(a)"
   ]
  },
  {
   "cell_type": "code",
   "execution_count": 92,
   "metadata": {},
   "outputs": [],
   "source": [
    "import random as r"
   ]
  },
  {
   "cell_type": "code",
   "execution_count": 93,
   "metadata": {},
   "outputs": [],
   "source": [
    "import random"
   ]
  },
  {
   "cell_type": "code",
   "execution_count": 95,
   "metadata": {},
   "outputs": [
    {
     "data": {
      "text/plain": [
       "13"
      ]
     },
     "execution_count": 95,
     "metadata": {},
     "output_type": "execute_result"
    }
   ],
   "source": [
    "r.randint(0,20)"
   ]
  },
  {
   "cell_type": "code",
   "execution_count": 99,
   "metadata": {},
   "outputs": [
    {
     "data": {
      "text/plain": [
       "['p', 'p']"
      ]
     },
     "execution_count": 99,
     "metadata": {},
     "output_type": "execute_result"
    }
   ],
   "source": [
    "r.sample(\"apple\",2)"
   ]
  },
  {
   "cell_type": "code",
   "execution_count": 103,
   "metadata": {},
   "outputs": [
    {
     "data": {
      "text/plain": [
       "'mango'"
      ]
     },
     "execution_count": 103,
     "metadata": {},
     "output_type": "execute_result"
    }
   ],
   "source": [
    "r.choice(ll)"
   ]
  },
  {
   "cell_type": "code",
   "execution_count": 104,
   "metadata": {},
   "outputs": [],
   "source": [
    "from math import sin,cos,factorial"
   ]
  },
  {
   "cell_type": "code",
   "execution_count": 105,
   "metadata": {},
   "outputs": [
    {
     "data": {
      "text/plain": [
       "120"
      ]
     },
     "execution_count": 105,
     "metadata": {},
     "output_type": "execute_result"
    }
   ],
   "source": [
    "factorial(5)"
   ]
  },
  {
   "cell_type": "code",
   "execution_count": 106,
   "metadata": {},
   "outputs": [],
   "source": [
    "from math import *"
   ]
  },
  {
   "cell_type": "code",
   "execution_count": null,
   "metadata": {},
   "outputs": [],
   "source": [
    "A-Z,a-z,0-9,"
   ]
  },
  {
   "cell_type": "code",
   "execution_count": null,
   "metadata": {},
   "outputs": [],
   "source": [
    "#function"
   ]
  },
  {
   "cell_type": "code",
   "execution_count": 17,
   "metadata": {},
   "outputs": [],
   "source": [
    "def add(a,b=15):\n",
    "    return a+b,a*b\n"
   ]
  },
  {
   "cell_type": "code",
   "execution_count": 18,
   "metadata": {},
   "outputs": [
    {
     "name": "stdout",
     "output_type": "stream",
     "text": [
      "a: 5\n",
      "Addition is: 20 \n",
      "Multiplication is : 75\n"
     ]
    }
   ],
   "source": [
    "c=int(input(\"a: \"))\n",
    "#d=int(input(\"b: \"))\n",
    "s,m=add(c)\n",
    "print(\"Addition is:\",s,\"\\nMultiplication is :\",m)"
   ]
  },
  {
   "cell_type": "code",
   "execution_count": 6,
   "metadata": {},
   "outputs": [
    {
     "data": {
      "text/plain": [
       "40"
      ]
     },
     "execution_count": 6,
     "metadata": {},
     "output_type": "execute_result"
    }
   ],
   "source": [
    "s"
   ]
  },
  {
   "cell_type": "code",
   "execution_count": 7,
   "metadata": {},
   "outputs": [
    {
     "data": {
      "text/plain": [
       "300"
      ]
     },
     "execution_count": 7,
     "metadata": {},
     "output_type": "execute_result"
    }
   ],
   "source": [
    "m"
   ]
  },
  {
   "cell_type": "code",
   "execution_count": 19,
   "metadata": {},
   "outputs": [],
   "source": [
    "ind=[1,2,3,4,5,6,7,8,9]"
   ]
  },
  {
   "cell_type": "code",
   "execution_count": 20,
   "metadata": {},
   "outputs": [],
   "source": [
    "import numpy as np"
   ]
  },
  {
   "cell_type": "code",
   "execution_count": 29,
   "metadata": {},
   "outputs": [],
   "source": [
    "M=np.reshape(ind,[3,3])"
   ]
  },
  {
   "cell_type": "code",
   "execution_count": 30,
   "metadata": {},
   "outputs": [
    {
     "data": {
      "text/plain": [
       "array([[1, 2, 3],\n",
       "       [4, 5, 6],\n",
       "       [7, 8, 9]])"
      ]
     },
     "execution_count": 30,
     "metadata": {},
     "output_type": "execute_result"
    }
   ],
   "source": [
    "M"
   ]
  },
  {
   "cell_type": "code",
   "execution_count": 34,
   "metadata": {},
   "outputs": [
    {
     "data": {
      "text/plain": [
       "array([7, 8, 9])"
      ]
     },
     "execution_count": 34,
     "metadata": {},
     "output_type": "execute_result"
    }
   ],
   "source": [
    "M[2]"
   ]
  },
  {
   "cell_type": "code",
   "execution_count": 36,
   "metadata": {},
   "outputs": [
    {
     "data": {
      "text/plain": [
       "array([2, 5, 8])"
      ]
     },
     "execution_count": 36,
     "metadata": {},
     "output_type": "execute_result"
    }
   ],
   "source": [
    "M[:,1]"
   ]
  },
  {
   "cell_type": "code",
   "execution_count": 38,
   "metadata": {},
   "outputs": [
    {
     "data": {
      "text/plain": [
       "8"
      ]
     },
     "execution_count": 38,
     "metadata": {},
     "output_type": "execute_result"
    }
   ],
   "source": [
    "M[2][1]\n"
   ]
  },
  {
   "cell_type": "code",
   "execution_count": 1,
   "metadata": {},
   "outputs": [
    {
     "name": "stderr",
     "output_type": "stream",
     "text": [
      "/usr/local/lib/python3.6/dist-packages/sklearn/cross_validation.py:41: DeprecationWarning: This module was deprecated in version 0.18 in favor of the model_selection module into which all the refactored classes and functions are moved. Also note that the interface of the new CV iterators are different from that of this module. This module will be removed in 0.20.\n",
      "  \"This module will be removed in 0.20.\", DeprecationWarning)\n"
     ]
    }
   ],
   "source": [
    "import numpy as np\n",
    "import pandas as pd\n",
    "from sklearn.linear_model import LinearRegression\n",
    "from sklearn.cross_validation import train_test_split\n",
    "from sklearn import metrics\n",
    "import pickle"
   ]
  },
  {
   "cell_type": "code",
   "execution_count": 4,
   "metadata": {},
   "outputs": [],
   "source": [
    "data = pd.read_csv(\"./Advertising.csv\",index_col=0)"
   ]
  },
  {
   "cell_type": "code",
   "execution_count": 5,
   "metadata": {},
   "outputs": [
    {
     "data": {
      "text/html": [
       "<div>\n",
       "<style scoped>\n",
       "    .dataframe tbody tr th:only-of-type {\n",
       "        vertical-align: middle;\n",
       "    }\n",
       "\n",
       "    .dataframe tbody tr th {\n",
       "        vertical-align: top;\n",
       "    }\n",
       "\n",
       "    .dataframe thead th {\n",
       "        text-align: right;\n",
       "    }\n",
       "</style>\n",
       "<table border=\"1\" class=\"dataframe\">\n",
       "  <thead>\n",
       "    <tr style=\"text-align: right;\">\n",
       "      <th></th>\n",
       "      <th>TV</th>\n",
       "      <th>radio</th>\n",
       "      <th>newspaper</th>\n",
       "      <th>sales</th>\n",
       "    </tr>\n",
       "  </thead>\n",
       "  <tbody>\n",
       "    <tr>\n",
       "      <th>1</th>\n",
       "      <td>230.1</td>\n",
       "      <td>37.8</td>\n",
       "      <td>69.2</td>\n",
       "      <td>22.1</td>\n",
       "    </tr>\n",
       "    <tr>\n",
       "      <th>2</th>\n",
       "      <td>44.5</td>\n",
       "      <td>39.3</td>\n",
       "      <td>45.1</td>\n",
       "      <td>10.4</td>\n",
       "    </tr>\n",
       "    <tr>\n",
       "      <th>3</th>\n",
       "      <td>17.2</td>\n",
       "      <td>45.9</td>\n",
       "      <td>69.3</td>\n",
       "      <td>9.3</td>\n",
       "    </tr>\n",
       "    <tr>\n",
       "      <th>4</th>\n",
       "      <td>151.5</td>\n",
       "      <td>41.3</td>\n",
       "      <td>58.5</td>\n",
       "      <td>18.5</td>\n",
       "    </tr>\n",
       "    <tr>\n",
       "      <th>5</th>\n",
       "      <td>180.8</td>\n",
       "      <td>10.8</td>\n",
       "      <td>58.4</td>\n",
       "      <td>12.9</td>\n",
       "    </tr>\n",
       "  </tbody>\n",
       "</table>\n",
       "</div>"
      ],
      "text/plain": [
       "      TV  radio  newspaper  sales\n",
       "1  230.1   37.8       69.2   22.1\n",
       "2   44.5   39.3       45.1   10.4\n",
       "3   17.2   45.9       69.3    9.3\n",
       "4  151.5   41.3       58.5   18.5\n",
       "5  180.8   10.8       58.4   12.9"
      ]
     },
     "execution_count": 5,
     "metadata": {},
     "output_type": "execute_result"
    }
   ],
   "source": [
    "data.head()"
   ]
  },
  {
   "cell_type": "code",
   "execution_count": 38,
   "metadata": {},
   "outputs": [],
   "source": [
    "x = data[[\"TV\",\"radio\",\"newspaper\"]]"
   ]
  },
  {
   "cell_type": "code",
   "execution_count": 39,
   "metadata": {},
   "outputs": [],
   "source": [
    "y =  data.sales"
   ]
  },
  {
   "cell_type": "code",
   "execution_count": 40,
   "metadata": {},
   "outputs": [],
   "source": [
    "X_train, X_test, y_train, y_test = train_test_split(x, y)\n"
   ]
  },
  {
   "cell_type": "code",
   "execution_count": 41,
   "metadata": {},
   "outputs": [],
   "source": [
    "model = LinearRegression()"
   ]
  },
  {
   "cell_type": "code",
   "execution_count": 42,
   "metadata": {},
   "outputs": [
    {
     "data": {
      "text/plain": [
       "LinearRegression(copy_X=True, fit_intercept=True, n_jobs=1, normalize=False)"
      ]
     },
     "execution_count": 42,
     "metadata": {},
     "output_type": "execute_result"
    }
   ],
   "source": [
    "model.fit(X_train,y_train)"
   ]
  },
  {
   "cell_type": "code",
   "execution_count": 43,
   "metadata": {},
   "outputs": [
    {
     "name": "stdout",
     "output_type": "stream",
     "text": [
      "1.6616119550105768\n"
     ]
    }
   ],
   "source": [
    "y_pred = model.predict(X_test)\n",
    "\n",
    "print(np.sqrt(metrics.mean_squared_error(y_test, y_pred)))\n"
   ]
  },
  {
   "cell_type": "code",
   "execution_count": 45,
   "metadata": {},
   "outputs": [
    {
     "data": {
      "text/plain": [
       "array([20.33113237])"
      ]
     },
     "execution_count": 45,
     "metadata": {},
     "output_type": "execute_result"
    }
   ],
   "source": [
    "model.predict([[75,75,75]])"
   ]
  },
  {
   "cell_type": "code",
   "execution_count": 46,
   "metadata": {},
   "outputs": [],
   "source": [
    "fname=\"model_olive.sav\"\n",
    "\n",
    "pickle.dump(model, open(fname, 'wb'))"
   ]
  },
  {
   "cell_type": "code",
   "execution_count": 4,
   "metadata": {},
   "outputs": [],
   "source": [
    "import pickle\n",
    "fname=\"model_olive.sav\"\n",
    "loaded_model=pickle.load(open(fname, 'rb'))"
   ]
  },
  {
   "cell_type": "code",
   "execution_count": 5,
   "metadata": {},
   "outputs": [
    {
     "data": {
      "text/plain": [
       "array([20.33113237])"
      ]
     },
     "execution_count": 5,
     "metadata": {},
     "output_type": "execute_result"
    }
   ],
   "source": [
    "loaded_model.predict([[75,75,75]])"
   ]
  },
  {
   "cell_type": "code",
   "execution_count": 6,
   "metadata": {},
   "outputs": [],
   "source": [
    "import pandas as pd\n",
    "import numpy as np\n",
    "from sklearn.model_selection import train_test_split\n",
    "from sklearn.feature_extraction.text import CountVectorizer\n",
    "from sklearn.linear_model import LogisticRegression\n",
    "from sklearn.metrics import accuracy_score"
   ]
  },
  {
   "cell_type": "code",
   "execution_count": 8,
   "metadata": {},
   "outputs": [],
   "source": [
    "df = pd.read_csv(\"./labeledTrainData.tsv\",delimiter=\"\\t\")"
   ]
  },
  {
   "cell_type": "code",
   "execution_count": 9,
   "metadata": {},
   "outputs": [
    {
     "data": {
      "text/html": [
       "<div>\n",
       "<style scoped>\n",
       "    .dataframe tbody tr th:only-of-type {\n",
       "        vertical-align: middle;\n",
       "    }\n",
       "\n",
       "    .dataframe tbody tr th {\n",
       "        vertical-align: top;\n",
       "    }\n",
       "\n",
       "    .dataframe thead th {\n",
       "        text-align: right;\n",
       "    }\n",
       "</style>\n",
       "<table border=\"1\" class=\"dataframe\">\n",
       "  <thead>\n",
       "    <tr style=\"text-align: right;\">\n",
       "      <th></th>\n",
       "      <th>id</th>\n",
       "      <th>sentiment</th>\n",
       "      <th>review</th>\n",
       "    </tr>\n",
       "  </thead>\n",
       "  <tbody>\n",
       "    <tr>\n",
       "      <th>0</th>\n",
       "      <td>5814_8</td>\n",
       "      <td>1</td>\n",
       "      <td>With all this stuff going down at the moment w...</td>\n",
       "    </tr>\n",
       "    <tr>\n",
       "      <th>1</th>\n",
       "      <td>2381_9</td>\n",
       "      <td>1</td>\n",
       "      <td>\\The Classic War of the Worlds\\\" by Timothy Hi...</td>\n",
       "    </tr>\n",
       "    <tr>\n",
       "      <th>2</th>\n",
       "      <td>7759_3</td>\n",
       "      <td>0</td>\n",
       "      <td>The film starts with a manager (Nicholas Bell)...</td>\n",
       "    </tr>\n",
       "    <tr>\n",
       "      <th>3</th>\n",
       "      <td>3630_4</td>\n",
       "      <td>0</td>\n",
       "      <td>It must be assumed that those who praised this...</td>\n",
       "    </tr>\n",
       "    <tr>\n",
       "      <th>4</th>\n",
       "      <td>9495_8</td>\n",
       "      <td>1</td>\n",
       "      <td>Superbly trashy and wondrously unpretentious 8...</td>\n",
       "    </tr>\n",
       "  </tbody>\n",
       "</table>\n",
       "</div>"
      ],
      "text/plain": [
       "       id  sentiment                                             review\n",
       "0  5814_8          1  With all this stuff going down at the moment w...\n",
       "1  2381_9          1  \\The Classic War of the Worlds\\\" by Timothy Hi...\n",
       "2  7759_3          0  The film starts with a manager (Nicholas Bell)...\n",
       "3  3630_4          0  It must be assumed that those who praised this...\n",
       "4  9495_8          1  Superbly trashy and wondrously unpretentious 8..."
      ]
     },
     "execution_count": 9,
     "metadata": {},
     "output_type": "execute_result"
    }
   ],
   "source": [
    "df.head()"
   ]
  },
  {
   "cell_type": "code",
   "execution_count": 10,
   "metadata": {},
   "outputs": [],
   "source": [
    "df.dropna(inplace=True)\n"
   ]
  },
  {
   "cell_type": "code",
   "execution_count": 11,
   "metadata": {},
   "outputs": [],
   "source": [
    "df[\"rated\"]=np.where(df['sentiment']>0,1,0)\n"
   ]
  },
  {
   "cell_type": "code",
   "execution_count": 12,
   "metadata": {},
   "outputs": [
    {
     "data": {
      "text/html": [
       "<div>\n",
       "<style scoped>\n",
       "    .dataframe tbody tr th:only-of-type {\n",
       "        vertical-align: middle;\n",
       "    }\n",
       "\n",
       "    .dataframe tbody tr th {\n",
       "        vertical-align: top;\n",
       "    }\n",
       "\n",
       "    .dataframe thead th {\n",
       "        text-align: right;\n",
       "    }\n",
       "</style>\n",
       "<table border=\"1\" class=\"dataframe\">\n",
       "  <thead>\n",
       "    <tr style=\"text-align: right;\">\n",
       "      <th></th>\n",
       "      <th>id</th>\n",
       "      <th>sentiment</th>\n",
       "      <th>review</th>\n",
       "      <th>rated</th>\n",
       "    </tr>\n",
       "  </thead>\n",
       "  <tbody>\n",
       "    <tr>\n",
       "      <th>0</th>\n",
       "      <td>5814_8</td>\n",
       "      <td>1</td>\n",
       "      <td>With all this stuff going down at the moment w...</td>\n",
       "      <td>1</td>\n",
       "    </tr>\n",
       "    <tr>\n",
       "      <th>1</th>\n",
       "      <td>2381_9</td>\n",
       "      <td>1</td>\n",
       "      <td>\\The Classic War of the Worlds\\\" by Timothy Hi...</td>\n",
       "      <td>1</td>\n",
       "    </tr>\n",
       "    <tr>\n",
       "      <th>2</th>\n",
       "      <td>7759_3</td>\n",
       "      <td>0</td>\n",
       "      <td>The film starts with a manager (Nicholas Bell)...</td>\n",
       "      <td>0</td>\n",
       "    </tr>\n",
       "    <tr>\n",
       "      <th>3</th>\n",
       "      <td>3630_4</td>\n",
       "      <td>0</td>\n",
       "      <td>It must be assumed that those who praised this...</td>\n",
       "      <td>0</td>\n",
       "    </tr>\n",
       "    <tr>\n",
       "      <th>4</th>\n",
       "      <td>9495_8</td>\n",
       "      <td>1</td>\n",
       "      <td>Superbly trashy and wondrously unpretentious 8...</td>\n",
       "      <td>1</td>\n",
       "    </tr>\n",
       "  </tbody>\n",
       "</table>\n",
       "</div>"
      ],
      "text/plain": [
       "       id  sentiment                                             review  rated\n",
       "0  5814_8          1  With all this stuff going down at the moment w...      1\n",
       "1  2381_9          1  \\The Classic War of the Worlds\\\" by Timothy Hi...      1\n",
       "2  7759_3          0  The film starts with a manager (Nicholas Bell)...      0\n",
       "3  3630_4          0  It must be assumed that those who praised this...      0\n",
       "4  9495_8          1  Superbly trashy and wondrously unpretentious 8...      1"
      ]
     },
     "execution_count": 12,
     "metadata": {},
     "output_type": "execute_result"
    }
   ],
   "source": [
    "df.head()"
   ]
  },
  {
   "cell_type": "code",
   "execution_count": 13,
   "metadata": {},
   "outputs": [],
   "source": [
    "X_train, X_test, y_train, y_test = train_test_split(df['review'],df['rated'])\n"
   ]
  },
  {
   "cell_type": "code",
   "execution_count": 15,
   "metadata": {},
   "outputs": [],
   "source": [
    "vect=CountVectorizer(min_df=5,ngram_range=(1,2)).fit(X_train)\n",
    "\n",
    "X_train_vetorised=vect.transform(X_train)"
   ]
  },
  {
   "cell_type": "code",
   "execution_count": 16,
   "metadata": {},
   "outputs": [
    {
     "data": {
      "text/plain": [
       "<18750x123312 sparse matrix of type '<class 'numpy.int64'>'\n",
       "\twith 5107580 stored elements in Compressed Sparse Row format>"
      ]
     },
     "execution_count": 16,
     "metadata": {},
     "output_type": "execute_result"
    }
   ],
   "source": [
    "X_train_vetorised"
   ]
  },
  {
   "cell_type": "code",
   "execution_count": 17,
   "metadata": {},
   "outputs": [],
   "source": [
    "model=LogisticRegression()\n",
    "\n",
    "model.fit(X_train_vetorised,y_train)\n",
    "\n",
    "predictions=model.predict(vect.transform(X_test))"
   ]
  },
  {
   "cell_type": "code",
   "execution_count": 18,
   "metadata": {},
   "outputs": [
    {
     "data": {
      "text/plain": [
       "0.89072"
      ]
     },
     "execution_count": 18,
     "metadata": {},
     "output_type": "execute_result"
    }
   ],
   "source": [
    "accuracy_score(y_true=y_test,y_pred=predictions)"
   ]
  },
  {
   "cell_type": "code",
   "execution_count": 21,
   "metadata": {},
   "outputs": [
    {
     "name": "stdout",
     "output_type": "stream",
     "text": [
      "Enter the sentence for testing: the movie was not good at all.\n",
      "[0]\n"
     ]
    }
   ],
   "source": [
    "testing=input(\"Enter the sentence for testing: \")\n",
    "\n",
    "print(model.predict(vect.transform([testing])))"
   ]
  },
  {
   "cell_type": "code",
   "execution_count": 20,
   "metadata": {},
   "outputs": [
    {
     "name": "stdout",
     "output_type": "stream",
     "text": [
      "small coeff : {} ['worst' 'awful' 'waste' 'boring' 'disappointment' 'lacks' 'poorly'\n",
      " 'terrible' 'worse' 'poor']\n",
      "large coeff : {} ['excellent' 'perfect' 'superb' 'wonderful' 'enjoyable' 'amazing'\n",
      " 'better than' 'today' 'very good' '10 10']\n"
     ]
    }
   ],
   "source": [
    "\n",
    "feature_name=np.array(vect.get_feature_names())\n",
    "\n",
    "sort_coeff=model.coef_[0].argsort()\n",
    "\n",
    "print (\"small coeff : {}\",format(feature_name[sort_coeff[:10]]))\n",
    "\n",
    "print (\"large coeff : {}\",format(feature_name[sort_coeff[:-11:-1]]))"
   ]
  },
  {
   "cell_type": "code",
   "execution_count": 22,
   "metadata": {},
   "outputs": [
    {
     "data": {
      "text/plain": [
       "['00',\n",
       " '00 and',\n",
       " '00 in',\n",
       " '000',\n",
       " '000 00',\n",
       " '000 000',\n",
       " '000 and',\n",
       " '000 for',\n",
       " '000 the',\n",
       " '000 to',\n",
       " '000 year',\n",
       " '000 years',\n",
       " '007',\n",
       " '01',\n",
       " '02',\n",
       " '03',\n",
       " '05',\n",
       " '06',\n",
       " '07',\n",
       " '08',\n",
       " '09',\n",
       " '10',\n",
       " '10 000',\n",
       " '10 10',\n",
       " '10 15',\n",
       " '10 and',\n",
       " '10 as',\n",
       " '10 at',\n",
       " '10 because',\n",
       " '10 bethany',\n",
       " '10 br',\n",
       " '10 but',\n",
       " '10 dir',\n",
       " '10 don',\n",
       " '10 favorite',\n",
       " '10 for',\n",
       " '10 from',\n",
       " '10 good',\n",
       " '10 if',\n",
       " '10 in',\n",
       " '10 instead',\n",
       " '10 is',\n",
       " '10 it',\n",
       " '10 items',\n",
       " '10 just',\n",
       " '10 line',\n",
       " '10 lines',\n",
       " '10 million',\n",
       " '10 minute',\n",
       " '10 minutes',\n",
       " '10 movie',\n",
       " '10 movies',\n",
       " '10 my',\n",
       " '10 no',\n",
       " '10 not',\n",
       " '10 of',\n",
       " '10 on',\n",
       " '10 only',\n",
       " '10 or',\n",
       " '10 out',\n",
       " '10 overall',\n",
       " '10 people',\n",
       " '10 points',\n",
       " '10 rating',\n",
       " '10 seconds',\n",
       " '10 star',\n",
       " '10 stars',\n",
       " '10 that',\n",
       " '10 the',\n",
       " '10 there',\n",
       " '10 this',\n",
       " '10 times',\n",
       " '10 to',\n",
       " '10 was',\n",
       " '10 worst',\n",
       " '10 would',\n",
       " '10 year',\n",
       " '10 years',\n",
       " '100',\n",
       " '100 000',\n",
       " '100 films',\n",
       " '100 greatest',\n",
       " '100 million',\n",
       " '100 minutes',\n",
       " '100 movies',\n",
       " '100 of',\n",
       " '100 sure',\n",
       " '100 the',\n",
       " '100 times',\n",
       " '100 years',\n",
       " '1000',\n",
       " '1000 times',\n",
       " '100th',\n",
       " '101',\n",
       " '101 dalmatians',\n",
       " '101 minutes',\n",
       " '102',\n",
       " '102 dalmatians',\n",
       " '103',\n",
       " '104',\n",
       " '105',\n",
       " '105 minutes',\n",
       " '10s',\n",
       " '10th',\n",
       " '11',\n",
       " '11 2001',\n",
       " '11 and',\n",
       " '11 but',\n",
       " '11 in',\n",
       " '11 is',\n",
       " '11 minutes',\n",
       " '11 or',\n",
       " '11 year',\n",
       " '11 years',\n",
       " '110',\n",
       " '11th',\n",
       " '12',\n",
       " '12 000',\n",
       " '12 and',\n",
       " '12 million',\n",
       " '12 monkeys',\n",
       " '12 year',\n",
       " '12 years',\n",
       " '120',\n",
       " '12th',\n",
       " '13',\n",
       " '13 and',\n",
       " '13 br',\n",
       " '13 but',\n",
       " '13 for',\n",
       " '13 or',\n",
       " '13 rating',\n",
       " '13 year',\n",
       " '13 years',\n",
       " '135',\n",
       " '13th',\n",
       " '13th and',\n",
       " '13th part',\n",
       " '14',\n",
       " '14 and',\n",
       " '14 year',\n",
       " '14 years',\n",
       " '140',\n",
       " '14th',\n",
       " '14th arrondissement',\n",
       " '15',\n",
       " '15 20',\n",
       " '15 and',\n",
       " '15 min',\n",
       " '15 minute',\n",
       " '15 minutes',\n",
       " '15 or',\n",
       " '15 seconds',\n",
       " '15 year',\n",
       " '15 years',\n",
       " '150',\n",
       " '150 years',\n",
       " '15th',\n",
       " '16',\n",
       " '16 and',\n",
       " '16 year',\n",
       " '16 years',\n",
       " '160',\n",
       " '16mm',\n",
       " '16s',\n",
       " '16th',\n",
       " '16th century',\n",
       " '17',\n",
       " '17 and',\n",
       " '17 or',\n",
       " '17 year',\n",
       " '17 years',\n",
       " '17th',\n",
       " '17th century',\n",
       " '18',\n",
       " '18 and',\n",
       " '18 year',\n",
       " '18 years',\n",
       " '180',\n",
       " '1800',\n",
       " '1800s',\n",
       " '1830',\n",
       " '1840',\n",
       " '1860',\n",
       " '18th',\n",
       " '18th century',\n",
       " '19',\n",
       " '19 year',\n",
       " '19 years',\n",
       " '1900',\n",
       " '1900s',\n",
       " '1909',\n",
       " '1912',\n",
       " '1913',\n",
       " '1914',\n",
       " '1915',\n",
       " '1916',\n",
       " '1917',\n",
       " '1918',\n",
       " '1920',\n",
       " '1920s',\n",
       " '1920s and',\n",
       " '1921',\n",
       " '1922',\n",
       " '1924',\n",
       " '1925',\n",
       " '1926',\n",
       " '1927',\n",
       " '1928',\n",
       " '1929',\n",
       " '1930',\n",
       " '1930 and',\n",
       " '1930s',\n",
       " '1930s and',\n",
       " '1931',\n",
       " '1932',\n",
       " '1933',\n",
       " '1934',\n",
       " '1935',\n",
       " '1936',\n",
       " '1936 and',\n",
       " '1936 the',\n",
       " '1937',\n",
       " '1938',\n",
       " '1939',\n",
       " '1939 and',\n",
       " '1940',\n",
       " '1940 and',\n",
       " '1940s',\n",
       " '1940s and',\n",
       " '1941',\n",
       " '1942',\n",
       " '1943',\n",
       " '1944',\n",
       " '1944 and',\n",
       " '1945',\n",
       " '1945 is',\n",
       " '1946',\n",
       " '1947',\n",
       " '1948',\n",
       " '1949',\n",
       " '1949 and',\n",
       " '1950',\n",
       " '1950 and',\n",
       " '1950 br',\n",
       " '1950 it',\n",
       " '1950 the',\n",
       " '1950s',\n",
       " '1950s and',\n",
       " '1950s br',\n",
       " '1951',\n",
       " '1951 and',\n",
       " '1952',\n",
       " '1953',\n",
       " '1953 and',\n",
       " '1954',\n",
       " '1955',\n",
       " '1956',\n",
       " '1957',\n",
       " '1958',\n",
       " '1958 and',\n",
       " '1959',\n",
       " '1960',\n",
       " '1960 to',\n",
       " '1960 version',\n",
       " '1960s',\n",
       " '1960s and',\n",
       " '1961',\n",
       " '1962',\n",
       " '1963',\n",
       " '1964',\n",
       " '1965',\n",
       " '1966',\n",
       " '1967',\n",
       " '1968',\n",
       " '1968 and',\n",
       " '1969',\n",
       " '1969 and',\n",
       " '1970',\n",
       " '1970 and',\n",
       " '1970 the',\n",
       " '1970s',\n",
       " '1970s and',\n",
       " '1971',\n",
       " '1971 and',\n",
       " '1971 the',\n",
       " '1972',\n",
       " '1972 and',\n",
       " '1973',\n",
       " '1973 and',\n",
       " '1973 the',\n",
       " '1974',\n",
       " '1974 and',\n",
       " '1975',\n",
       " '1975 and',\n",
       " '1976',\n",
       " '1977',\n",
       " '1978',\n",
       " '1979',\n",
       " '1980',\n",
       " '1980 and',\n",
       " '1980 in',\n",
       " '1980 this',\n",
       " '1980s',\n",
       " '1980s and',\n",
       " '1980s the',\n",
       " '1981',\n",
       " '1981 and',\n",
       " '1982',\n",
       " '1983',\n",
       " '1983 and',\n",
       " '1984',\n",
       " '1984 the',\n",
       " '1984 was',\n",
       " '1985',\n",
       " '1985 and',\n",
       " '1986',\n",
       " '1986 and',\n",
       " '1987',\n",
       " '1988',\n",
       " '1989',\n",
       " '1989 and',\n",
       " '1990',\n",
       " '1990 and',\n",
       " '1990 the',\n",
       " '1990s',\n",
       " '1991',\n",
       " '1991 the',\n",
       " '1992',\n",
       " '1993',\n",
       " '1993 is',\n",
       " '1994',\n",
       " '1994 the',\n",
       " '1995',\n",
       " '1995 and',\n",
       " '1995 the',\n",
       " '1996',\n",
       " '1996 and',\n",
       " '1996 in',\n",
       " '1997',\n",
       " '1997 and',\n",
       " '1997 the',\n",
       " '1997 version',\n",
       " '1998',\n",
       " '1999',\n",
       " '1999 and',\n",
       " '1999 br',\n",
       " '1999 it',\n",
       " '19th',\n",
       " '19th century',\n",
       " '1st',\n",
       " '1st one',\n",
       " '1st season',\n",
       " '1st watched',\n",
       " '20',\n",
       " '20 000',\n",
       " '20 30',\n",
       " '20 and',\n",
       " '20 million',\n",
       " '20 minute',\n",
       " '20 minutes',\n",
       " '20 of',\n",
       " '20 or',\n",
       " '20 seconds',\n",
       " '20 something',\n",
       " '20 times',\n",
       " '20 year',\n",
       " '20 years',\n",
       " '200',\n",
       " '200 000',\n",
       " '2000',\n",
       " '2000 and',\n",
       " '2000 br',\n",
       " '2000 the',\n",
       " '2000s',\n",
       " '2001',\n",
       " '2001 and',\n",
       " '2001 br',\n",
       " '2001 space',\n",
       " '2001 the',\n",
       " '2002',\n",
       " '2002 and',\n",
       " '2002 out',\n",
       " '2003',\n",
       " '2003 and',\n",
       " '2003 the',\n",
       " '2004',\n",
       " '2004 and',\n",
       " '2005',\n",
       " '2005 and',\n",
       " '2005 br',\n",
       " '2005 it',\n",
       " '2005 the',\n",
       " '2006',\n",
       " '2006 and',\n",
       " '2006 br',\n",
       " '2006 but',\n",
       " '2006 it',\n",
       " '2006 the',\n",
       " '2007',\n",
       " '2007 and',\n",
       " '2007 br',\n",
       " '2008',\n",
       " '2008 and',\n",
       " '2008 it',\n",
       " '2009',\n",
       " '2009 out',\n",
       " '2010',\n",
       " '2022',\n",
       " '2036',\n",
       " '2054',\n",
       " '20s',\n",
       " '20th',\n",
       " '20th century',\n",
       " '21',\n",
       " '21 years',\n",
       " '21st',\n",
       " '21st century',\n",
       " '22',\n",
       " '22 minutes',\n",
       " '22 years',\n",
       " '23',\n",
       " '23 and',\n",
       " '23 year',\n",
       " '23 years',\n",
       " '24',\n",
       " '24 and',\n",
       " '24 but',\n",
       " '24 hour',\n",
       " '24 hours',\n",
       " '24 year',\n",
       " '24 years',\n",
       " '25',\n",
       " '25 000',\n",
       " '25 minutes',\n",
       " '25 times',\n",
       " '25 year',\n",
       " '25 years',\n",
       " '250',\n",
       " '250 000',\n",
       " '25th',\n",
       " '26',\n",
       " '26 years',\n",
       " '27',\n",
       " '28',\n",
       " '28 days',\n",
       " '29',\n",
       " '2d',\n",
       " '2nd',\n",
       " '2nd film',\n",
       " '2nd half',\n",
       " '30',\n",
       " '30 and',\n",
       " '30 mins',\n",
       " '30 minute',\n",
       " '30 minutes',\n",
       " '30 or',\n",
       " '30 seconds',\n",
       " '30 something',\n",
       " '30 year',\n",
       " '30 years',\n",
       " '300',\n",
       " '3000',\n",
       " '30s',\n",
       " '30s and',\n",
       " '30th',\n",
       " '31',\n",
       " '32',\n",
       " '33',\n",
       " '34',\n",
       " '35',\n",
       " '35 minutes',\n",
       " '35 mm',\n",
       " '35 years',\n",
       " '35mm',\n",
       " '36',\n",
       " '360',\n",
       " '360 degree',\n",
       " '37',\n",
       " '38',\n",
       " '39',\n",
       " '3d',\n",
       " '3k',\n",
       " '3rd',\n",
       " '3rd rate',\n",
       " '40',\n",
       " '40 and',\n",
       " '40 minute',\n",
       " '40 minutes',\n",
       " '40 or',\n",
       " '40 something',\n",
       " '40 year',\n",
       " '40 years',\n",
       " '400',\n",
       " '40s',\n",
       " '40s and',\n",
       " '41',\n",
       " '42',\n",
       " '42nd',\n",
       " '42nd street',\n",
       " '43',\n",
       " '44',\n",
       " '45',\n",
       " '45 minute',\n",
       " '45 minutes',\n",
       " '46',\n",
       " '47',\n",
       " '47 years',\n",
       " '48',\n",
       " '48 hours',\n",
       " '49',\n",
       " '4th',\n",
       " '4th man',\n",
       " '50',\n",
       " '50 000',\n",
       " '50 60',\n",
       " '50 and',\n",
       " '50 cars',\n",
       " '50 cents',\n",
       " '50 foot',\n",
       " '50 for',\n",
       " '50 million',\n",
       " '50 minute',\n",
       " '50 minutes',\n",
       " '50 movie',\n",
       " '50 of',\n",
       " '50 this',\n",
       " '50 times',\n",
       " '50 to',\n",
       " '50 when',\n",
       " '50 year',\n",
       " '50 years',\n",
       " '500',\n",
       " '500 years',\n",
       " '5000',\n",
       " '50s',\n",
       " '50s and',\n",
       " '50s sci',\n",
       " '51',\n",
       " '52',\n",
       " '53',\n",
       " '54',\n",
       " '55',\n",
       " '55 years',\n",
       " '56',\n",
       " '57',\n",
       " '58',\n",
       " '5th',\n",
       " '60',\n",
       " '60 000',\n",
       " '60 and',\n",
       " '60 but',\n",
       " '60 minutes',\n",
       " '60 seconds',\n",
       " '60 year',\n",
       " '60 years',\n",
       " '600',\n",
       " '60s',\n",
       " '60s and',\n",
       " '60s br',\n",
       " '60s early',\n",
       " '60s it',\n",
       " '60s the',\n",
       " '61',\n",
       " '62',\n",
       " '63',\n",
       " '64',\n",
       " '65',\n",
       " '65 minutes',\n",
       " '66',\n",
       " '666',\n",
       " '67',\n",
       " '68',\n",
       " '69',\n",
       " '6th',\n",
       " '70',\n",
       " '70 and',\n",
       " '70 br',\n",
       " '70 early',\n",
       " '70 film',\n",
       " '70 it',\n",
       " '70 made',\n",
       " '70 minutes',\n",
       " '70 of',\n",
       " '70 the',\n",
       " '70 was',\n",
       " '70 were',\n",
       " '70 when',\n",
       " '70 year',\n",
       " '70 years',\n",
       " '700',\n",
       " '700 club',\n",
       " '70s',\n",
       " '70s and',\n",
       " '70s it',\n",
       " '70s show',\n",
       " '71',\n",
       " '72',\n",
       " '73',\n",
       " '73 is',\n",
       " '73 minutes',\n",
       " '74',\n",
       " '75',\n",
       " '75 minutes',\n",
       " '75 of',\n",
       " '75 to',\n",
       " '750',\n",
       " '76',\n",
       " '76 minutes',\n",
       " '77',\n",
       " '78',\n",
       " '79',\n",
       " '7th',\n",
       " '80',\n",
       " '80 and',\n",
       " '80 but',\n",
       " '80 comedy',\n",
       " '80 horror',\n",
       " '80 it',\n",
       " '80 minute',\n",
       " '80 minutes',\n",
       " '80 movie',\n",
       " '80 of',\n",
       " '80 slasher',\n",
       " '80 slashers',\n",
       " '80 teen',\n",
       " '80 that',\n",
       " '80 the',\n",
       " '80 this',\n",
       " '80 were',\n",
       " '80 when',\n",
       " '80 with',\n",
       " '80 years',\n",
       " '80s',\n",
       " '80s and',\n",
       " '80s but',\n",
       " '80s music',\n",
       " '80s slasher',\n",
       " '80s the',\n",
       " '80s you',\n",
       " '81',\n",
       " '82',\n",
       " '82 minutes',\n",
       " '83',\n",
       " '84',\n",
       " '84 minutes',\n",
       " '85',\n",
       " '85 br',\n",
       " '85 minutes',\n",
       " '86',\n",
       " '86 minutes',\n",
       " '87',\n",
       " '88',\n",
       " '88 minutes',\n",
       " '89',\n",
       " '89 minutes',\n",
       " '8mm',\n",
       " '8th',\n",
       " '90',\n",
       " '90 and',\n",
       " '90 br',\n",
       " '90 but',\n",
       " '90 is',\n",
       " '90 min',\n",
       " '90 minute',\n",
       " '90 minutes',\n",
       " '90 odd',\n",
       " '90 of',\n",
       " '90 seconds',\n",
       " '90 the',\n",
       " '90 year',\n",
       " '90210',\n",
       " '90s',\n",
       " '90s and',\n",
       " '91',\n",
       " '911',\n",
       " '92',\n",
       " '93',\n",
       " '94',\n",
       " '94 minutes',\n",
       " '95',\n",
       " '95 minutes',\n",
       " '95 of',\n",
       " '96',\n",
       " '97',\n",
       " '97 minutes',\n",
       " '98',\n",
       " '98 minutes',\n",
       " '99',\n",
       " '99 cents',\n",
       " '99 of',\n",
       " '9th',\n",
       " 'aaa',\n",
       " 'aag',\n",
       " 'aames',\n",
       " 'aamir',\n",
       " 'aardman',\n",
       " 'aaron',\n",
       " 'ab',\n",
       " 'aback',\n",
       " 'aback by',\n",
       " 'abandon',\n",
       " 'abandon the',\n",
       " 'abandoned',\n",
       " 'abandoned baby',\n",
       " 'abandoned by',\n",
       " 'abandoned the',\n",
       " 'abandoning',\n",
       " 'abandonment',\n",
       " 'abandons',\n",
       " 'abbas',\n",
       " 'abbey',\n",
       " 'abbot',\n",
       " 'abbott',\n",
       " 'abbott and',\n",
       " 'abbott costello',\n",
       " 'abbreviated',\n",
       " 'abby',\n",
       " 'abc',\n",
       " 'abc family',\n",
       " 'abc has',\n",
       " 'abducted',\n",
       " 'abducted and',\n",
       " 'abducted by',\n",
       " 'abduction',\n",
       " 'abe',\n",
       " 'abe lincoln',\n",
       " 'abel',\n",
       " 'abetted',\n",
       " 'abetted by',\n",
       " 'abhay',\n",
       " 'abhay deol',\n",
       " 'abhishek',\n",
       " 'abhorrent',\n",
       " 'abiding',\n",
       " 'abigail',\n",
       " 'abilities',\n",
       " 'abilities and',\n",
       " 'abilities of',\n",
       " 'abilities to',\n",
       " 'ability',\n",
       " 'ability and',\n",
       " 'ability as',\n",
       " 'ability in',\n",
       " 'ability is',\n",
       " 'ability of',\n",
       " 'ability to',\n",
       " 'abject',\n",
       " 'able',\n",
       " 'able and',\n",
       " 'able to',\n",
       " 'ably',\n",
       " 'ably supported',\n",
       " 'abnormal',\n",
       " 'aboard',\n",
       " 'aboard the',\n",
       " 'abominable',\n",
       " 'abomination',\n",
       " 'abomination of',\n",
       " 'abominations',\n",
       " 'aboriginal',\n",
       " 'aborigine',\n",
       " 'aborigines',\n",
       " 'aborted',\n",
       " 'abortion',\n",
       " 'abortion and',\n",
       " 'abortions',\n",
       " 'abound',\n",
       " 'abound in',\n",
       " 'abounds',\n",
       " 'about',\n",
       " 'about 000',\n",
       " 'about 10',\n",
       " 'about 100',\n",
       " 'about 11',\n",
       " 'about 12',\n",
       " 'about 13',\n",
       " 'about 14',\n",
       " 'about 15',\n",
       " 'about 20',\n",
       " 'about 25',\n",
       " 'about 30',\n",
       " 'about 35',\n",
       " 'about 40',\n",
       " 'about 45',\n",
       " 'about 50',\n",
       " 'about 500',\n",
       " 'about 80',\n",
       " 'about 90',\n",
       " 'about acting',\n",
       " 'about all',\n",
       " 'about also',\n",
       " 'about america',\n",
       " 'about american',\n",
       " 'about an',\n",
       " 'about and',\n",
       " 'about another',\n",
       " 'about any',\n",
       " 'about anyone',\n",
       " 'about anything',\n",
       " 'about anyway',\n",
       " 'about are',\n",
       " 'about as',\n",
       " 'about at',\n",
       " 'about bad',\n",
       " 'about baseball',\n",
       " 'about beautiful',\n",
       " 'about because',\n",
       " 'about becoming',\n",
       " 'about being',\n",
       " 'about big',\n",
       " 'about black',\n",
       " 'about blood',\n",
       " 'about boy',\n",
       " 'about br',\n",
       " 'about bunch',\n",
       " 'about but',\n",
       " 'about buying',\n",
       " 'about by',\n",
       " 'about certain',\n",
       " 'about characters',\n",
       " 'about cinema',\n",
       " 'about computers',\n",
       " 'about cop',\n",
       " 'about couple',\n",
       " 'about dancing',\n",
       " 'about death',\n",
       " 'about different',\n",
       " 'about doing',\n",
       " 'about don',\n",
       " 'about dozen',\n",
       " 'about each',\n",
       " 'about eight',\n",
       " 'about eve',\n",
       " 'about even',\n",
       " 'about every',\n",
       " 'about everyone',\n",
       " 'about everything',\n",
       " 'about family',\n",
       " 'about female',\n",
       " 'about fifteen',\n",
       " 'about film',\n",
       " 'about films',\n",
       " 'about finding',\n",
       " 'about five',\n",
       " 'about following',\n",
       " 'about football',\n",
       " 'about for',\n",
       " 'about four',\n",
       " 'about friendship',\n",
       " 'about gay',\n",
       " 'about getting',\n",
       " 'about girl',\n",
       " 'about giving',\n",
       " 'about going',\n",
       " 'about good',\n",
       " 'about group',\n",
       " 'about growing',\n",
       " 'about guy',\n",
       " 'about half',\n",
       " 'about halfway',\n",
       " 'about having',\n",
       " 'about he',\n",
       " 'about her',\n",
       " 'about here',\n",
       " 'about herself',\n",
       " 'about high',\n",
       " 'about him',\n",
       " 'about himself',\n",
       " 'about his',\n",
       " 'about hitler',\n",
       " 'about horror',\n",
       " 'about hours',\n",
       " 'about how',\n",
       " 'about human',\n",
       " 'about humanity',\n",
       " 'about ideas',\n",
       " 'about if',\n",
       " 'about in',\n",
       " 'about is',\n",
       " 'about it',\n",
       " 'about its',\n",
       " 'about jack',\n",
       " 'about japanese',\n",
       " 'about jesus',\n",
       " 'about just',\n",
       " 'about kid',\n",
       " 'about kids',\n",
       " 'about killer',\n",
       " 'about killing',\n",
       " 'about life',\n",
       " 'about like',\n",
       " 'about little',\n",
       " 'about living',\n",
       " 'about lost',\n",
       " 'about lot',\n",
       " 'about love',\n",
       " 'about low',\n",
       " 'about making',\n",
       " 'about man',\n",
       " 'about many',\n",
       " 'about mary',\n",
       " 'about me',\n",
       " 'about men',\n",
       " 'about michael',\n",
       " 'about middle',\n",
       " 'about million',\n",
       " 'about minute',\n",
       " 'about minutes',\n",
       " 'about missing',\n",
       " 'about modern',\n",
       " 'about more',\n",
       " 'about movie',\n",
       " 'about movies',\n",
       " 'about mr',\n",
       " 'about murder',\n",
       " 'about music',\n",
       " 'about my',\n",
       " 'about new',\n",
       " 'about nine',\n",
       " 'about non',\n",
       " 'about not',\n",
       " 'about nothing',\n",
       " 'about now',\n",
       " 'about of',\n",
       " 'about old',\n",
       " 'about on',\n",
       " 'about once',\n",
       " 'about one',\n",
       " 'about or',\n",
       " 'about other',\n",
       " 'about our',\n",
       " 'about out',\n",
       " 'about people',\n",
       " 'about peter',\n",
       " 'about plot',\n",
       " 'about politics',\n",
       " 'about poor',\n",
       " 'about racism',\n",
       " 'about real',\n",
       " 'about really',\n",
       " 'about relationships',\n",
       " 'about religion',\n",
       " 'about renting',\n",
       " 'about rich',\n",
       " 'about right',\n",
       " 'about sam',\n",
       " 'about school',\n",
       " 'about seconds',\n",
       " 'about seeing',\n",
       " 'about self',\n",
       " 'about serial',\n",
       " 'about seven',\n",
       " 'about sex',\n",
       " 'about sexual',\n",
       " 'about showing',\n",
       " 'about six',\n",
       " 'about small',\n",
       " 'about so',\n",
       " 'about soccer',\n",
       " 'about some',\n",
       " 'about something',\n",
       " 'about story',\n",
       " 'about such',\n",
       " 'about sums',\n",
       " 'about survival',\n",
       " 'about taking',\n",
       " 'about teenage',\n",
       " 'about ten',\n",
       " 'about that',\n",
       " 'about the',\n",
       " 'about their',\n",
       " 'about them',\n",
       " 'about themselves',\n",
       " 'about there',\n",
       " 'about these',\n",
       " 'about they',\n",
       " 'about things',\n",
       " 'about third',\n",
       " 'about thirty',\n",
       " 'about this',\n",
       " 'about those',\n",
       " 'about three',\n",
       " 'about time',\n",
       " 'about times',\n",
       " 'about to',\n",
       " 'about tom',\n",
       " 'about town',\n",
       " 'about troubled',\n",
       " 'about true',\n",
       " 'about trying',\n",
       " 'about twenty',\n",
       " 'about two',\n",
       " 'about us',\n",
       " 'about vampires',\n",
       " 'about very',\n",
       " 'about vietnam',\n",
       " 'about war',\n",
       " 'about was',\n",
       " 'about watching',\n",
       " ...]"
      ]
     },
     "execution_count": 22,
     "metadata": {},
     "output_type": "execute_result"
    }
   ],
   "source": [
    "vect.get_feature_names()"
   ]
  },
  {
   "cell_type": "code",
   "execution_count": null,
   "metadata": {},
   "outputs": [],
   "source": []
  }
 ],
 "metadata": {
  "kernelspec": {
   "display_name": "Python 3",
   "language": "python",
   "name": "python3"
  }
 },
 "nbformat": 4,
 "nbformat_minor": 2
}
