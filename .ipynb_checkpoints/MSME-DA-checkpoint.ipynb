{
 "cells": [
  {
   "cell_type": "code",
   "execution_count": 4,
   "metadata": {},
   "outputs": [
    {
     "name": "stdout",
     "output_type": "stream",
     "text": [
      "15\n"
     ]
    }
   ],
   "source": [
    "a = 5\n",
    "b = 10\n",
    "print(a+b)\n"
   ]
  },
  {
   "cell_type": "code",
   "execution_count": 7,
   "metadata": {},
   "outputs": [],
   "source": [
    "num = 10\n",
    "pi = 3.14\n",
    "name = \"apple\"\n",
    "p = True "
   ]
  },
  {
   "cell_type": "code",
   "execution_count": 8,
   "metadata": {},
   "outputs": [
    {
     "name": "stdout",
     "output_type": "stream",
     "text": [
      "<class 'int'>\n"
     ]
    }
   ],
   "source": [
    "print(type(num))"
   ]
  },
  {
   "cell_type": "code",
   "execution_count": 9,
   "metadata": {},
   "outputs": [
    {
     "data": {
      "text/plain": [
       "float"
      ]
     },
     "execution_count": 9,
     "metadata": {},
     "output_type": "execute_result"
    }
   ],
   "source": [
    "type(pi)"
   ]
  },
  {
   "cell_type": "code",
   "execution_count": 11,
   "metadata": {},
   "outputs": [
    {
     "data": {
      "text/plain": [
       "str"
      ]
     },
     "execution_count": 11,
     "metadata": {},
     "output_type": "execute_result"
    }
   ],
   "source": [
    "type(name)"
   ]
  },
  {
   "cell_type": "code",
   "execution_count": 12,
   "metadata": {},
   "outputs": [
    {
     "data": {
      "text/plain": [
       "bool"
      ]
     },
     "execution_count": 12,
     "metadata": {},
     "output_type": "execute_result"
    }
   ],
   "source": [
    "type(p)"
   ]
  },
  {
   "cell_type": "code",
   "execution_count": 15,
   "metadata": {},
   "outputs": [
    {
     "name": "stdout",
     "output_type": "stream",
     "text": [
      "hello world!!!\n"
     ]
    }
   ],
   "source": [
    "print('hello world!!!')"
   ]
  },
  {
   "cell_type": "code",
   "execution_count": 22,
   "metadata": {},
   "outputs": [
    {
     "name": "stdout",
     "output_type": "stream",
     "text": [
      "apple 3.14 10\n"
     ]
    }
   ],
   "source": [
    "print(name,pi,num)\n"
   ]
  },
  {
   "cell_type": "code",
   "execution_count": 20,
   "metadata": {},
   "outputs": [
    {
     "name": "stdout",
     "output_type": "stream",
     "text": [
      "<class 'str'>\n"
     ]
    }
   ],
   "source": [
    "print(type(n))"
   ]
  },
  {
   "cell_type": "code",
   "execution_count": 25,
   "metadata": {},
   "outputs": [
    {
     "name": "stdout",
     "output_type": "stream",
     "text": [
      "hello apple\n"
     ]
    }
   ],
   "source": [
    "print(\"hello \"+name)"
   ]
  },
  {
   "cell_type": "code",
   "execution_count": 27,
   "metadata": {},
   "outputs": [
    {
     "name": "stdout",
     "output_type": "stream",
     "text": [
      "hello 10\n"
     ]
    }
   ],
   "source": [
    "print(\"hello \"+str(num))"
   ]
  },
  {
   "cell_type": "code",
   "execution_count": 28,
   "metadata": {},
   "outputs": [
    {
     "name": "stdout",
     "output_type": "stream",
     "text": [
      "hello 10\n"
     ]
    }
   ],
   "source": [
    "print(\"hello\",num)"
   ]
  },
  {
   "cell_type": "code",
   "execution_count": 39,
   "metadata": {},
   "outputs": [
    {
     "name": "stdout",
     "output_type": "stream",
     "text": [
      "615\n"
     ]
    }
   ],
   "source": [
    "n=\"5\"\n",
    "print(int(n*3)+int(n*2)+int(n))"
   ]
  },
  {
   "cell_type": "code",
   "execution_count": 50,
   "metadata": {},
   "outputs": [
    {
     "name": "stdout",
     "output_type": "stream",
     "text": [
      "Enter numerical value :4\n",
      "Enter the string :hi\n"
     ]
    }
   ],
   "source": [
    "num = float(input('Enter numerical value :'))\n",
    "name = input(\"Enter the string :\")"
   ]
  },
  {
   "cell_type": "code",
   "execution_count": 51,
   "metadata": {},
   "outputs": [
    {
     "data": {
      "text/plain": [
       "4.0"
      ]
     },
     "execution_count": 51,
     "metadata": {},
     "output_type": "execute_result"
    }
   ],
   "source": [
    "num"
   ]
  },
  {
   "cell_type": "code",
   "execution_count": 48,
   "metadata": {},
   "outputs": [
    {
     "data": {
      "text/plain": [
       "'hello'"
      ]
     },
     "execution_count": 48,
     "metadata": {},
     "output_type": "execute_result"
    }
   ],
   "source": [
    "name"
   ]
  },
  {
   "cell_type": "code",
   "execution_count": null,
   "metadata": {},
   "outputs": [],
   "source": [
    "+ - * / %\n",
    "and or not\n",
    "> < >= <= == != \n"
   ]
  },
  {
   "cell_type": "code",
   "execution_count": 52,
   "metadata": {},
   "outputs": [],
   "source": [
    "name =\"apple\""
   ]
  },
  {
   "cell_type": "code",
   "execution_count": 53,
   "metadata": {},
   "outputs": [
    {
     "name": "stdout",
     "output_type": "stream",
     "text": [
      "An apple a day keeps doctor away...!!!\n"
     ]
    }
   ],
   "source": [
    "print(\"An\",name,\"a day keeps doctor away...!!!\")"
   ]
  },
  {
   "cell_type": "code",
   "execution_count": 54,
   "metadata": {},
   "outputs": [
    {
     "name": "stdout",
     "output_type": "stream",
     "text": [
      "An apple a day keeps doctor away...!!!\n"
     ]
    }
   ],
   "source": [
    "print(\"An \"+name+\" a day keeps doctor away...!!!\")"
   ]
  },
  {
   "cell_type": "code",
   "execution_count": 55,
   "metadata": {},
   "outputs": [
    {
     "name": "stdout",
     "output_type": "stream",
     "text": [
      "An apple a day keeps doctor away...!!!\n"
     ]
    }
   ],
   "source": [
    "print(\"An %s a day keeps doctor away...!!!\"%name)"
   ]
  },
  {
   "cell_type": "code",
   "execution_count": 58,
   "metadata": {},
   "outputs": [
    {
     "name": "stdout",
     "output_type": "stream",
     "text": [
      "An apple a day keeps doctor away.. 4.00 .!!!\n"
     ]
    }
   ],
   "source": [
    "print(\"An %s a day keeps doctor away.. %0.2f .!!!\"%(name,num))"
   ]
  },
  {
   "cell_type": "code",
   "execution_count": 71,
   "metadata": {},
   "outputs": [
    {
     "data": {
      "text/plain": [
       "'\\nr = int(input(\"Enter the radius of the circle :\"))\\narea_c =3.14*r*r\\nprint(\"The area of the circle is %0.2f sq.cm\"%(area_c))\\n'"
      ]
     },
     "execution_count": 71,
     "metadata": {},
     "output_type": "execute_result"
    }
   ],
   "source": [
    "r = int(input(\"Enter the radius of the circle :\"))\n",
    "area_c =3.14*r*r\n",
    "print(\"The area of the circle is %0.2f sq.cm\"%(area_c))"
   ]
  },
  {
   "cell_type": "code",
   "execution_count": 76,
   "metadata": {},
   "outputs": [
    {
     "name": "stdout",
     "output_type": "stream",
     "text": [
      "Enter any number :48\n",
      "Even\n"
     ]
    }
   ],
   "source": [
    "#if-else\n",
    "num = int(input(\"Enter any number :\"))\n",
    "if num%2!=0:\n",
    "    print(\"odd\")\n",
    "else:\n",
    "    print(\"Even\")"
   ]
  },
  {
   "cell_type": "code",
   "execution_count": 79,
   "metadata": {},
   "outputs": [
    {
     "name": "stdout",
     "output_type": "stream",
     "text": [
      "Enter any number :15\n",
      "Odd\n"
     ]
    }
   ],
   "source": [
    "#if-elseif \n",
    "num = int(input(\"Enter any number :\"))\n",
    "if num%4==0:\n",
    "    print(\"divisible by 4 and even\")\n",
    "elif num%2==0:\n",
    "    print(\"Even\")\n",
    "else:\n",
    "    print(\"Odd\")"
   ]
  },
  {
   "cell_type": "code",
   "execution_count": 83,
   "metadata": {},
   "outputs": [
    {
     "name": "stdout",
     "output_type": "stream",
     "text": [
      "Enter any of the following \n",
      "a. circle\n",
      "b. rectangle\n",
      "c. triangle\n",
      "a\n",
      "circle\n"
     ]
    }
   ],
   "source": [
    "opt = input(\"Enter any of the following \\na. circle\\nb. rectangle\\nc. triangle\\n\")\n",
    "if opt==\"circle\" or opt=='a':\n",
    "    r = \n",
    "    area_c\n",
    "    print()\n",
    "elif opt == \"re\"\n",
    "elif opt == tr\n",
    "else:\n",
    "    print()"
   ]
  },
  {
   "cell_type": "code",
   "execution_count": 91,
   "metadata": {},
   "outputs": [
    {
     "name": "stdout",
     "output_type": "stream",
     "text": [
      "Enter any number :65\n",
      "Odd\n",
      "Do you want to continue y/n :y\n",
      "Enter any number :78\n",
      "Even\n",
      "Do you want to continue y/n :n\n"
     ]
    }
   ],
   "source": [
    "i = 0\n",
    "while i<=len(name):\n",
    "    num = int(input(\"Enter any number :\"))\n",
    "    if num == 15:\n",
    "        print(\"stopping.....\")\n",
    "        break\n",
    "    elif num == 10:\n",
    "        print(\"skipping......\")\n",
    "        continue\n",
    "    elif num == 20:\n",
    "        print(\"Notification.....\")\n",
    "        pass\n",
    "    if num%4==0:\n",
    "        print(\"divisible by 4 and even\")\n",
    "    elif num%2==0:\n",
    "        print(\"Even\")\n",
    "    else:\n",
    "        print(\"Odd\")\n",
    "    i+=1"
   ]
  },
  {
   "cell_type": "code",
   "execution_count": 93,
   "metadata": {},
   "outputs": [
    {
     "data": {
      "text/plain": [
       "5"
      ]
     },
     "execution_count": 93,
     "metadata": {},
     "output_type": "execute_result"
    }
   ],
   "source": [
    "rock,paper,scissor"
   ]
  },
  {
   "cell_type": "code",
   "execution_count": null,
   "metadata": {},
   "outputs": [],
   "source": [
    "rock -> paper = paper\n",
    "rock -> scissor = rock\n",
    "paper -> scissor = scissor"
   ]
  },
  {
   "cell_type": "code",
   "execution_count": 94,
   "metadata": {},
   "outputs": [],
   "source": [
    "import random as r\n",
    "j=[\"rock\",\"scissor\",\"paper\"]"
   ]
  },
  {
   "cell_type": "code",
   "execution_count": 97,
   "metadata": {},
   "outputs": [
    {
     "data": {
      "text/plain": [
       "'scissor'"
      ]
     },
     "execution_count": 97,
     "metadata": {},
     "output_type": "execute_result"
    }
   ],
   "source": [
    "r.choice(j)"
   ]
  },
  {
   "cell_type": "code",
   "execution_count": 98,
   "metadata": {},
   "outputs": [],
   "source": [
    "#https://github.com/sharmasaravanan/Machine_learning"
   ]
  },
  {
   "cell_type": "code",
   "execution_count": 99,
   "metadata": {},
   "outputs": [],
   "source": [
    "#pip install numpy"
   ]
  },
  {
   "cell_type": "code",
   "execution_count": 100,
   "metadata": {},
   "outputs": [],
   "source": [
    "import numpy "
   ]
  },
  {
   "cell_type": "code",
   "execution_count": null,
   "metadata": {},
   "outputs": [],
   "source": [
    "numpy.matrix"
   ]
  },
  {
   "cell_type": "code",
   "execution_count": 101,
   "metadata": {},
   "outputs": [],
   "source": [
    "import numpy as np"
   ]
  },
  {
   "cell_type": "code",
   "execution_count": null,
   "metadata": {},
   "outputs": [],
   "source": [
    "np.matrix"
   ]
  },
  {
   "cell_type": "code",
   "execution_count": 115,
   "metadata": {},
   "outputs": [],
   "source": [
    "from math import sin,cos,tan,factorial"
   ]
  },
  {
   "cell_type": "code",
   "execution_count": 103,
   "metadata": {},
   "outputs": [
    {
     "data": {
      "text/plain": [
       "0.8939966636005579"
      ]
     },
     "execution_count": 103,
     "metadata": {},
     "output_type": "execute_result"
    }
   ],
   "source": [
    "sin(90)"
   ]
  },
  {
   "cell_type": "code",
   "execution_count": 104,
   "metadata": {},
   "outputs": [],
   "source": [
    "from random import *"
   ]
  },
  {
   "cell_type": "code",
   "execution_count": 108,
   "metadata": {},
   "outputs": [
    {
     "data": {
      "text/plain": [
       "3"
      ]
     },
     "execution_count": 108,
     "metadata": {},
     "output_type": "execute_result"
    }
   ],
   "source": [
    "randint(0,20)"
   ]
  },
  {
   "cell_type": "code",
   "execution_count": 109,
   "metadata": {},
   "outputs": [
    {
     "data": {
      "text/plain": [
       "['rock', 'scissor', 'paper']"
      ]
     },
     "execution_count": 109,
     "metadata": {},
     "output_type": "execute_result"
    }
   ],
   "source": [
    "j"
   ]
  },
  {
   "cell_type": "code",
   "execution_count": 111,
   "metadata": {},
   "outputs": [
    {
     "data": {
      "text/plain": [
       "'paper'"
      ]
     },
     "execution_count": 111,
     "metadata": {},
     "output_type": "execute_result"
    }
   ],
   "source": [
    "choice(j)"
   ]
  },
  {
   "cell_type": "code",
   "execution_count": 114,
   "metadata": {},
   "outputs": [
    {
     "data": {
      "text/plain": [
       "4"
      ]
     },
     "execution_count": 114,
     "metadata": {},
     "output_type": "execute_result"
    }
   ],
   "source": [
    "randrange(0,10)"
   ]
  },
  {
   "cell_type": "code",
   "execution_count": 116,
   "metadata": {},
   "outputs": [
    {
     "data": {
      "text/plain": [
       "120"
      ]
     },
     "execution_count": 116,
     "metadata": {},
     "output_type": "execute_result"
    }
   ],
   "source": [
    "factorial(5)"
   ]
  },
  {
   "cell_type": "code",
   "execution_count": null,
   "metadata": {},
   "outputs": [],
   "source": [
    "numpy,matplotlib,scipy,scikit-learn,nltk"
   ]
  },
  {
   "cell_type": "code",
   "execution_count": null,
   "metadata": {},
   "outputs": [],
   "source": [
    "funtion\n",
    "text file read and write\n",
    "charts\n",
    "for loop\n",
    "list \n"
   ]
  },
  {
   "cell_type": "code",
   "execution_count": 1,
   "metadata": {},
   "outputs": [],
   "source": [
    "#pip install scikit-learn\n"
   ]
  },
  {
   "cell_type": "code",
   "execution_count": 2,
   "metadata": {},
   "outputs": [
    {
     "name": "stderr",
     "output_type": "stream",
     "text": [
      "/usr/local/lib/python3.6/dist-packages/sklearn/cross_validation.py:41: DeprecationWarning: This module was deprecated in version 0.18 in favor of the model_selection module into which all the refactored classes and functions are moved. Also note that the interface of the new CV iterators are different from that of this module. This module will be removed in 0.20.\n",
      "  \"This module will be removed in 0.20.\", DeprecationWarning)\n"
     ]
    }
   ],
   "source": [
    "import numpy as np\n",
    "import pandas as pd\n",
    "from sklearn.linear_model import LinearRegression\n",
    "from sklearn.cross_validation import train_test_split\n",
    "from sklearn import metrics"
   ]
  },
  {
   "cell_type": "code",
   "execution_count": 5,
   "metadata": {},
   "outputs": [],
   "source": [
    "df = pd.read_csv(\"./Advertising.csv\",index_col=0)"
   ]
  },
  {
   "cell_type": "code",
   "execution_count": 6,
   "metadata": {},
   "outputs": [
    {
     "data": {
      "text/html": [
       "<div>\n",
       "<style scoped>\n",
       "    .dataframe tbody tr th:only-of-type {\n",
       "        vertical-align: middle;\n",
       "    }\n",
       "\n",
       "    .dataframe tbody tr th {\n",
       "        vertical-align: top;\n",
       "    }\n",
       "\n",
       "    .dataframe thead th {\n",
       "        text-align: right;\n",
       "    }\n",
       "</style>\n",
       "<table border=\"1\" class=\"dataframe\">\n",
       "  <thead>\n",
       "    <tr style=\"text-align: right;\">\n",
       "      <th></th>\n",
       "      <th>TV</th>\n",
       "      <th>radio</th>\n",
       "      <th>newspaper</th>\n",
       "      <th>sales</th>\n",
       "    </tr>\n",
       "  </thead>\n",
       "  <tbody>\n",
       "    <tr>\n",
       "      <th>1</th>\n",
       "      <td>230.1</td>\n",
       "      <td>37.8</td>\n",
       "      <td>69.2</td>\n",
       "      <td>22.1</td>\n",
       "    </tr>\n",
       "    <tr>\n",
       "      <th>2</th>\n",
       "      <td>44.5</td>\n",
       "      <td>39.3</td>\n",
       "      <td>45.1</td>\n",
       "      <td>10.4</td>\n",
       "    </tr>\n",
       "    <tr>\n",
       "      <th>3</th>\n",
       "      <td>17.2</td>\n",
       "      <td>45.9</td>\n",
       "      <td>69.3</td>\n",
       "      <td>9.3</td>\n",
       "    </tr>\n",
       "    <tr>\n",
       "      <th>4</th>\n",
       "      <td>151.5</td>\n",
       "      <td>41.3</td>\n",
       "      <td>58.5</td>\n",
       "      <td>18.5</td>\n",
       "    </tr>\n",
       "    <tr>\n",
       "      <th>5</th>\n",
       "      <td>180.8</td>\n",
       "      <td>10.8</td>\n",
       "      <td>58.4</td>\n",
       "      <td>12.9</td>\n",
       "    </tr>\n",
       "  </tbody>\n",
       "</table>\n",
       "</div>"
      ],
      "text/plain": [
       "      TV  radio  newspaper  sales\n",
       "1  230.1   37.8       69.2   22.1\n",
       "2   44.5   39.3       45.1   10.4\n",
       "3   17.2   45.9       69.3    9.3\n",
       "4  151.5   41.3       58.5   18.5\n",
       "5  180.8   10.8       58.4   12.9"
      ]
     },
     "execution_count": 6,
     "metadata": {},
     "output_type": "execute_result"
    }
   ],
   "source": [
    "df.head()"
   ]
  },
  {
   "cell_type": "code",
   "execution_count": 53,
   "metadata": {},
   "outputs": [],
   "source": [
    "#x = df.loc[:,\"TV\":\"newspaper\"]\n",
    "\n",
    "feature_names = ['TV', 'radio', 'newspaper']\n",
    "\n",
    "x = df[feature_names]"
   ]
  },
  {
   "cell_type": "code",
   "execution_count": 54,
   "metadata": {},
   "outputs": [],
   "source": [
    "y = df.sales"
   ]
  },
  {
   "cell_type": "code",
   "execution_count": 55,
   "metadata": {},
   "outputs": [],
   "source": [
    "X_train, X_test, y_train, y_test = train_test_split(x, y)"
   ]
  },
  {
   "cell_type": "code",
   "execution_count": 56,
   "metadata": {},
   "outputs": [],
   "source": [
    "model = LinearRegression()"
   ]
  },
  {
   "cell_type": "code",
   "execution_count": 57,
   "metadata": {},
   "outputs": [
    {
     "data": {
      "text/plain": [
       "LinearRegression(copy_X=True, fit_intercept=True, n_jobs=1, normalize=False)"
      ]
     },
     "execution_count": 57,
     "metadata": {},
     "output_type": "execute_result"
    }
   ],
   "source": [
    "model.fit(X_train,y_train)"
   ]
  },
  {
   "cell_type": "code",
   "execution_count": 58,
   "metadata": {},
   "outputs": [],
   "source": [
    "y_pred =  model.predict(X_test)"
   ]
  },
  {
   "cell_type": "code",
   "execution_count": 59,
   "metadata": {},
   "outputs": [
    {
     "data": {
      "text/plain": [
       "array([ 6.24752277, 19.1894622 ,  7.07586723, 16.73367284, 23.97246775,\n",
       "       18.11679769, 15.51455022, 16.29017453, 22.30979248, 21.30208189,\n",
       "        9.16651644, 13.89882295, 18.2578397 ,  6.62423878, 12.55452437,\n",
       "       13.80998197, 20.41893787, 16.40189661, 21.92170459, 12.74432341,\n",
       "       11.88610891, 19.75926552,  7.49818929, 17.63995058, 12.54605476,\n",
       "        5.49572445,  7.09118767, 17.22591628, 24.70433941, 21.08142129,\n",
       "        9.08278425, 20.25143937,  8.73725161, 20.39640368, 10.07190482,\n",
       "        9.6562075 , 10.11384768,  9.59208758,  3.6807437 , 14.29158584,\n",
       "        5.4591075 , 10.60619108, 14.52990017, 14.2981262 ,  7.79853297,\n",
       "       14.63308739,  8.88621503,  6.98411842, 12.76751223,  9.20734122])"
      ]
     },
     "execution_count": 59,
     "metadata": {},
     "output_type": "execute_result"
    }
   ],
   "source": [
    "y_pred"
   ]
  },
  {
   "cell_type": "code",
   "execution_count": 60,
   "metadata": {},
   "outputs": [
    {
     "name": "stdout",
     "output_type": "stream",
     "text": [
      "1.8276057635836431\n"
     ]
    }
   ],
   "source": [
    "print(np.sqrt(metrics.mean_squared_error(y_test, y_pred)))\n"
   ]
  },
  {
   "cell_type": "code",
   "execution_count": 44,
   "metadata": {},
   "outputs": [
    {
     "data": {
      "text/plain": [
       "array([19.91376538])"
      ]
     },
     "execution_count": 44,
     "metadata": {},
     "output_type": "execute_result"
    }
   ],
   "source": [
    "model.predict([[75,75,75]])"
   ]
  },
  {
   "cell_type": "code",
   "execution_count": 1,
   "metadata": {},
   "outputs": [],
   "source": [
    "import pandas as pd\n",
    "import numpy as np\n",
    "import re\n",
    "import nltk\n",
    "from bs4 import BeautifulSoup\n",
    "from sklearn.model_selection import train_test_split\n",
    "from sklearn.feature_extraction.text import CountVectorizer\n",
    "from sklearn.linear_model import LogisticRegression\n",
    "from sklearn.metrics import roc_auc_score\n",
    "from nltk.corpus import stopwords"
   ]
  },
  {
   "cell_type": "code",
   "execution_count": 2,
   "metadata": {},
   "outputs": [],
   "source": [
    "df = pd.read_csv(\"labeledTrainData.tsv\", header=0, delimiter=\"\\t\", quoting=3)\n"
   ]
  },
  {
   "cell_type": "code",
   "execution_count": 4,
   "metadata": {},
   "outputs": [
    {
     "data": {
      "text/html": [
       "<div>\n",
       "<style scoped>\n",
       "    .dataframe tbody tr th:only-of-type {\n",
       "        vertical-align: middle;\n",
       "    }\n",
       "\n",
       "    .dataframe tbody tr th {\n",
       "        vertical-align: top;\n",
       "    }\n",
       "\n",
       "    .dataframe thead th {\n",
       "        text-align: right;\n",
       "    }\n",
       "</style>\n",
       "<table border=\"1\" class=\"dataframe\">\n",
       "  <thead>\n",
       "    <tr style=\"text-align: right;\">\n",
       "      <th></th>\n",
       "      <th>id</th>\n",
       "      <th>sentiment</th>\n",
       "      <th>review</th>\n",
       "    </tr>\n",
       "  </thead>\n",
       "  <tbody>\n",
       "    <tr>\n",
       "      <th>0</th>\n",
       "      <td>\"5814_8\"</td>\n",
       "      <td>1</td>\n",
       "      <td>\"With all this stuff going down at the moment ...</td>\n",
       "    </tr>\n",
       "    <tr>\n",
       "      <th>1</th>\n",
       "      <td>\"2381_9\"</td>\n",
       "      <td>1</td>\n",
       "      <td>\"\\\"The Classic War of the Worlds\\\" by Timothy ...</td>\n",
       "    </tr>\n",
       "    <tr>\n",
       "      <th>2</th>\n",
       "      <td>\"7759_3\"</td>\n",
       "      <td>0</td>\n",
       "      <td>\"The film starts with a manager (Nicholas Bell...</td>\n",
       "    </tr>\n",
       "    <tr>\n",
       "      <th>3</th>\n",
       "      <td>\"3630_4\"</td>\n",
       "      <td>0</td>\n",
       "      <td>\"It must be assumed that those who praised thi...</td>\n",
       "    </tr>\n",
       "    <tr>\n",
       "      <th>4</th>\n",
       "      <td>\"9495_8\"</td>\n",
       "      <td>1</td>\n",
       "      <td>\"Superbly trashy and wondrously unpretentious ...</td>\n",
       "    </tr>\n",
       "  </tbody>\n",
       "</table>\n",
       "</div>"
      ],
      "text/plain": [
       "         id  sentiment                                             review\n",
       "0  \"5814_8\"          1  \"With all this stuff going down at the moment ...\n",
       "1  \"2381_9\"          1  \"\\\"The Classic War of the Worlds\\\" by Timothy ...\n",
       "2  \"7759_3\"          0  \"The film starts with a manager (Nicholas Bell...\n",
       "3  \"3630_4\"          0  \"It must be assumed that those who praised thi...\n",
       "4  \"9495_8\"          1  \"Superbly trashy and wondrously unpretentious ..."
      ]
     },
     "execution_count": 4,
     "metadata": {},
     "output_type": "execute_result"
    }
   ],
   "source": [
    "df.head()"
   ]
  },
  {
   "cell_type": "code",
   "execution_count": 5,
   "metadata": {},
   "outputs": [],
   "source": [
    "df.dropna(inplace=True)\n",
    "df[\"rated\"]=np.where(df['sentiment']>0,1,0)"
   ]
  },
  {
   "cell_type": "code",
   "execution_count": 6,
   "metadata": {},
   "outputs": [
    {
     "data": {
      "text/html": [
       "<div>\n",
       "<style scoped>\n",
       "    .dataframe tbody tr th:only-of-type {\n",
       "        vertical-align: middle;\n",
       "    }\n",
       "\n",
       "    .dataframe tbody tr th {\n",
       "        vertical-align: top;\n",
       "    }\n",
       "\n",
       "    .dataframe thead th {\n",
       "        text-align: right;\n",
       "    }\n",
       "</style>\n",
       "<table border=\"1\" class=\"dataframe\">\n",
       "  <thead>\n",
       "    <tr style=\"text-align: right;\">\n",
       "      <th></th>\n",
       "      <th>id</th>\n",
       "      <th>sentiment</th>\n",
       "      <th>review</th>\n",
       "      <th>rated</th>\n",
       "    </tr>\n",
       "  </thead>\n",
       "  <tbody>\n",
       "    <tr>\n",
       "      <th>0</th>\n",
       "      <td>\"5814_8\"</td>\n",
       "      <td>1</td>\n",
       "      <td>\"With all this stuff going down at the moment ...</td>\n",
       "      <td>1</td>\n",
       "    </tr>\n",
       "    <tr>\n",
       "      <th>1</th>\n",
       "      <td>\"2381_9\"</td>\n",
       "      <td>1</td>\n",
       "      <td>\"\\\"The Classic War of the Worlds\\\" by Timothy ...</td>\n",
       "      <td>1</td>\n",
       "    </tr>\n",
       "    <tr>\n",
       "      <th>2</th>\n",
       "      <td>\"7759_3\"</td>\n",
       "      <td>0</td>\n",
       "      <td>\"The film starts with a manager (Nicholas Bell...</td>\n",
       "      <td>0</td>\n",
       "    </tr>\n",
       "    <tr>\n",
       "      <th>3</th>\n",
       "      <td>\"3630_4\"</td>\n",
       "      <td>0</td>\n",
       "      <td>\"It must be assumed that those who praised thi...</td>\n",
       "      <td>0</td>\n",
       "    </tr>\n",
       "    <tr>\n",
       "      <th>4</th>\n",
       "      <td>\"9495_8\"</td>\n",
       "      <td>1</td>\n",
       "      <td>\"Superbly trashy and wondrously unpretentious ...</td>\n",
       "      <td>1</td>\n",
       "    </tr>\n",
       "  </tbody>\n",
       "</table>\n",
       "</div>"
      ],
      "text/plain": [
       "         id  sentiment                                             review  \\\n",
       "0  \"5814_8\"          1  \"With all this stuff going down at the moment ...   \n",
       "1  \"2381_9\"          1  \"\\\"The Classic War of the Worlds\\\" by Timothy ...   \n",
       "2  \"7759_3\"          0  \"The film starts with a manager (Nicholas Bell...   \n",
       "3  \"3630_4\"          0  \"It must be assumed that those who praised thi...   \n",
       "4  \"9495_8\"          1  \"Superbly trashy and wondrously unpretentious ...   \n",
       "\n",
       "   rated  \n",
       "0      1  \n",
       "1      1  \n",
       "2      0  \n",
       "3      0  \n",
       "4      1  "
      ]
     },
     "execution_count": 6,
     "metadata": {},
     "output_type": "execute_result"
    }
   ],
   "source": [
    "df.head()"
   ]
  },
  {
   "cell_type": "code",
   "execution_count": 7,
   "metadata": {},
   "outputs": [
    {
     "data": {
      "text/plain": [
       "(25000, 4)"
      ]
     },
     "execution_count": 7,
     "metadata": {},
     "output_type": "execute_result"
    }
   ],
   "source": [
    "df.shape"
   ]
  },
  {
   "cell_type": "code",
   "execution_count": 14,
   "metadata": {},
   "outputs": [],
   "source": [
    "def cleaning_words(raw_words):\n",
    "    exam=BeautifulSoup(raw_words,\"html.parser\") #removing html tags\n",
    "    letters=re.sub(\"[^a-zA-Z]\",\" \",exam.get_text()) #removing numbers and others except small and capital alphabets\n",
    "    low=letters.lower() #Converting everything to lower case\n",
    "    words=low.split() #spiliting sentences into words\n",
    "    useful= [w for w in words if not w in stopwords.words(\"english\")] #removing stopping words \n",
    "    use_sent= \" \".join(useful)\n",
    "    return use_sent"
   ]
  },
  {
   "cell_type": "code",
   "execution_count": 15,
   "metadata": {},
   "outputs": [
    {
     "name": "stdout",
     "output_type": "stream",
     "text": [
      "0\n",
      "1000\n",
      "2000\n",
      "3000\n",
      "4000\n",
      "5000\n",
      "6000\n",
      "7000\n",
      "8000\n",
      "9000\n",
      "10000\n",
      "11000\n",
      "12000\n",
      "13000\n",
      "14000\n",
      "15000\n",
      "16000\n",
      "17000\n",
      "18000\n",
      "19000\n",
      "20000\n",
      "21000\n",
      "22000\n",
      "23000\n",
      "24000\n"
     ]
    }
   ],
   "source": [
    "perfect_review = []\n",
    "for i,rev in enumerate(df[\"review\"]):\n",
    "    if i%1000==0:\n",
    "        print(i)\n",
    "    perfect_review.append(cleaning_words(rev))"
   ]
  },
  {
   "cell_type": "code",
   "execution_count": 17,
   "metadata": {},
   "outputs": [],
   "source": [
    "X_train, X_test, y_train, y_test = train_test_split(perfect_review,df['rated'])"
   ]
  },
  {
   "cell_type": "code",
   "execution_count": 19,
   "metadata": {},
   "outputs": [],
   "source": [
    "vect=CountVectorizer(min_df=5,ngram_range=(1,2)).fit(X_train)\n",
    "\n",
    "X_train_vetorised=vect.transform(X_train)"
   ]
  },
  {
   "cell_type": "code",
   "execution_count": 23,
   "metadata": {},
   "outputs": [
    {
     "data": {
      "text/plain": [
       "LogisticRegression(C=1.0, class_weight=None, dual=False, fit_intercept=True,\n",
       "          intercept_scaling=1, max_iter=100, multi_class='ovr', n_jobs=1,\n",
       "          penalty='l2', random_state=None, solver='liblinear', tol=0.0001,\n",
       "          verbose=0, warm_start=False)"
      ]
     },
     "execution_count": 23,
     "metadata": {},
     "output_type": "execute_result"
    }
   ],
   "source": [
    "model=LogisticRegression()\n",
    "model.fit(X_train_vetorised,y_train)\n",
    "\n"
   ]
  },
  {
   "cell_type": "code",
   "execution_count": 24,
   "metadata": {},
   "outputs": [
    {
     "name": "stdout",
     "output_type": "stream",
     "text": [
      "AUC: 0.8930727430644632\n"
     ]
    }
   ],
   "source": [
    "predictions=model.predict(vect.transform(X_test))\n",
    "print (\"AUC:\",roc_auc_score(y_test,predictions))"
   ]
  },
  {
   "cell_type": "code",
   "execution_count": 25,
   "metadata": {},
   "outputs": [
    {
     "data": {
      "text/plain": [
       "array([0, 1])"
      ]
     },
     "execution_count": 25,
     "metadata": {},
     "output_type": "execute_result"
    }
   ],
   "source": [
    "model.classes_"
   ]
  },
  {
   "cell_type": "code",
   "execution_count": 26,
   "metadata": {},
   "outputs": [
    {
     "data": {
      "text/plain": [
       "array([1])"
      ]
     },
     "execution_count": 26,
     "metadata": {},
     "output_type": "execute_result"
    }
   ],
   "source": [
    "model.predict(vect.transform([\"Just saw 'The League of Gentlemen: Apocalypse' at a special screening in Manchester, with Mark Gatiss and Reece Shearsmith of the League in attendance.<br /><br />At the back was Peter Kay (who has a brief cameo in the film) affectionately heckling at the back during the Q & A session after the film.<br /><br />The film was complicated (in a good way) and very very funny. It follows Geoff Tipps, Hilary Briss and Herr Lipp as they try and save fictional Rosyton Vasey from the disinterest of their creators.<br /><br />The League play a wide range of their characters and themselves (or character based on themselves) and are ably supported by the cream of British character and comedy actors such as Bernard Hill, Victoria Wood and David Warner.<br /><br />Warner is a particular stand out reminding me of his smooth and cutting turn in 'Time Bandits'.<br /><br />The film swims in and out of various realities and allows some of the denizen's of Rosyton Vasey some space to grow beyond their usual limits of their comedy shtick.<br /><br />Steve Pemberton's Herr Lipp has a great Bretchian moment near the end of the movie and has to make a decision about his purpose and meaning in life which brings a lump to the throat at an unexpected moment and surprises you with its tender affection for the characters.<br /><br />This echoes something Mark and Reece said in the Q & A afterwards, that the plot of the league being tired of their famous characters is spurious and that the whole film is really a love letter to them.<br /><br />For a format that started as a radio character-based sketch show, these guys have really evolved the idea so far as to sustain a movie which takes you on a journey through fiction, 'reality', comedy, tragedy and a pleasing journey for two of the less obvious characters to carry a long form story from their 70 odd existing creations.<br /><br />The fans of the show will love it. It pays off dedication and attention to detail in spades, the uninitiated may be a little lost, but the joy of the LoG was always the ability to almost instantly tune into their acutely observed characters and take the stylistic leap into farce and expressionistic movie homage.<br /><br />There are homages a plenty in this one including 'The Shining' and 'La Belle et la Bete', to name but two I spotted and they ably demonstrate their love for cinema and history with a segment in 1690's England that makes perfect sense when you're engaged with the movie.<br /><br />What can I say, I marvelled, boggled, emoted and snickered throughout and they have definitely pulled off what many have failed at. A successful British TV comedy to cinema translation.<br /><br />If you've watched and enjoyed 'The League of Gentlemen' in the past, go see it; you will enjoy.<br /><br />If you haven't, rent/buy a DVD and then go see it.<br /><br />Well done guys and thanks for the charming and humorous Q & A.\"]))"
   ]
  },
  {
   "cell_type": "code",
   "execution_count": 27,
   "metadata": {},
   "outputs": [
    {
     "data": {
      "text/plain": [
       "array([[1.22195896e-04, 9.99877804e-01]])"
      ]
     },
     "execution_count": 27,
     "metadata": {},
     "output_type": "execute_result"
    }
   ],
   "source": [
    "model.predict_proba(vect.transform([\"Just saw 'The League of Gentlemen: Apocalypse' at a special screening in Manchester, with Mark Gatiss and Reece Shearsmith of the League in attendance.<br /><br />At the back was Peter Kay (who has a brief cameo in the film) affectionately heckling at the back during the Q & A session after the film.<br /><br />The film was complicated (in a good way) and very very funny. It follows Geoff Tipps, Hilary Briss and Herr Lipp as they try and save fictional Rosyton Vasey from the disinterest of their creators.<br /><br />The League play a wide range of their characters and themselves (or character based on themselves) and are ably supported by the cream of British character and comedy actors such as Bernard Hill, Victoria Wood and David Warner.<br /><br />Warner is a particular stand out reminding me of his smooth and cutting turn in 'Time Bandits'.<br /><br />The film swims in and out of various realities and allows some of the denizen's of Rosyton Vasey some space to grow beyond their usual limits of their comedy shtick.<br /><br />Steve Pemberton's Herr Lipp has a great Bretchian moment near the end of the movie and has to make a decision about his purpose and meaning in life which brings a lump to the throat at an unexpected moment and surprises you with its tender affection for the characters.<br /><br />This echoes something Mark and Reece said in the Q & A afterwards, that the plot of the league being tired of their famous characters is spurious and that the whole film is really a love letter to them.<br /><br />For a format that started as a radio character-based sketch show, these guys have really evolved the idea so far as to sustain a movie which takes you on a journey through fiction, 'reality', comedy, tragedy and a pleasing journey for two of the less obvious characters to carry a long form story from their 70 odd existing creations.<br /><br />The fans of the show will love it. It pays off dedication and attention to detail in spades, the uninitiated may be a little lost, but the joy of the LoG was always the ability to almost instantly tune into their acutely observed characters and take the stylistic leap into farce and expressionistic movie homage.<br /><br />There are homages a plenty in this one including 'The Shining' and 'La Belle et la Bete', to name but two I spotted and they ably demonstrate their love for cinema and history with a segment in 1690's England that makes perfect sense when you're engaged with the movie.<br /><br />What can I say, I marvelled, boggled, emoted and snickered throughout and they have definitely pulled off what many have failed at. A successful British TV comedy to cinema translation.<br /><br />If you've watched and enjoyed 'The League of Gentlemen' in the past, go see it; you will enjoy.<br /><br />If you haven't, rent/buy a DVD and then go see it.<br /><br />Well done guys and thanks for the charming and humorous Q & A.\"]))"
   ]
  },
  {
   "cell_type": "code",
   "execution_count": 28,
   "metadata": {},
   "outputs": [
    {
     "ename": "SyntaxError",
     "evalue": "invalid syntax (<ipython-input-28-e4e1415ce32c>, line 1)",
     "output_type": "error",
     "traceback": [
      "\u001b[0;36m  File \u001b[0;32m\"<ipython-input-28-e4e1415ce32c>\"\u001b[0;36m, line \u001b[0;32m1\u001b[0m\n\u001b[0;31m    Just saw 'The League of Gentlemen: Apocalypse' at a special screening in Manchester, with Mark Gatiss and Reece Shearsmith of the League in attendance.<br /><br />At the back was Peter Kay (who has a brief cameo in the film) affectionately heckling at the back during the Q & A session after the film.<br /><br />The film was complicated (in a good way) and very very funny. It follows Geoff Tipps, Hilary Briss and Herr Lipp as they try and save fictional Rosyton Vasey from the disinterest of their creators.<br /><br />The League play a wide range of their characters and themselves (or character based on themselves) and are ably supported by the cream of British character and comedy actors such as Bernard Hill, Victoria Wood and David Warner.<br /><br />Warner is a particular stand out reminding me of his smooth and cutting turn in 'Time Bandits'.<br /><br />The film swims in and out of various realities and allows some of the denizen's of Rosyton Vasey some space to grow beyond their usual limits of their comedy shtick.<br /><br />Steve Pemberton's Herr Lipp has a great Bretchian moment near the end of the movie and has to make a decision about his purpose and meaning in life which brings a lump to the throat at an unexpected moment and surprises you with its tender affection for the characters.<br /><br />This echoes something Mark and Reece said in the Q & A afterwards, that the plot of the league being tired of their famous characters is spurious and that the whole film is really a love letter to them.<br /><br />For a format that started as a radio character-based sketch show, these guys have really evolved the idea so far as to sustain a movie which takes you on a journey through fiction, 'reality', comedy, tragedy and a pleasing journey for two of the less obvious characters to carry a long form story from their 70 odd existing creations.<br /><br />The fans of the show will love it. It pays off dedication and attention to detail in spades, the uninitiated may be a little lost, but the joy of the LoG was always the ability to almost instantly tune into their acutely observed characters and take the stylistic leap into farce and expressionistic movie homage.<br /><br />There are homages a plenty in this one including 'The Shining' and 'La Belle et la Bete', to name but two I spotted and they ably demonstrate their love for cinema and history with a segment in 1690's England that makes perfect sense when you're engaged with the movie.<br /><br />What can I say, I marvelled, boggled, emoted and snickered throughout and they have definitely pulled off what many have failed at. A successful British TV comedy to cinema translation.<br /><br />If you've watched and enjoyed 'The League of Gentlemen' in the past, go see it; you will enjoy.<br /><br />If you haven't, rent/buy a DVD and then go see it.<br /><br />Well done guys and thanks for the charming and humorous Q & A.\u001b[0m\n\u001b[0m           ^\u001b[0m\n\u001b[0;31mSyntaxError\u001b[0m\u001b[0;31m:\u001b[0m invalid syntax\n"
     ]
    }
   ],
   "source": [
    "Just saw 'The League of Gentlemen: Apocalypse' at a special screening in Manchester, with Mark Gatiss and Reece Shearsmith of the League in attendance.<br /><br />At the back was Peter Kay (who has a brief cameo in the film) affectionately heckling at the back during the Q & A session after the film.<br /><br />The film was complicated (in a good way) and very very funny. It follows Geoff Tipps, Hilary Briss and Herr Lipp as they try and save fictional Rosyton Vasey from the disinterest of their creators.<br /><br />The League play a wide range of their characters and themselves (or character based on themselves) and are ably supported by the cream of British character and comedy actors such as Bernard Hill, Victoria Wood and David Warner.<br /><br />Warner is a particular stand out reminding me of his smooth and cutting turn in 'Time Bandits'.<br /><br />The film swims in and out of various realities and allows some of the denizen's of Rosyton Vasey some space to grow beyond their usual limits of their comedy shtick.<br /><br />Steve Pemberton's Herr Lipp has a great Bretchian moment near the end of the movie and has to make a decision about his purpose and meaning in life which brings a lump to the throat at an unexpected moment and surprises you with its tender affection for the characters.<br /><br />This echoes something Mark and Reece said in the Q & A afterwards, that the plot of the league being tired of their famous characters is spurious and that the whole film is really a love letter to them.<br /><br />For a format that started as a radio character-based sketch show, these guys have really evolved the idea so far as to sustain a movie which takes you on a journey through fiction, 'reality', comedy, tragedy and a pleasing journey for two of the less obvious characters to carry a long form story from their 70 odd existing creations.<br /><br />The fans of the show will love it. It pays off dedication and attention to detail in spades, the uninitiated may be a little lost, but the joy of the LoG was always the ability to almost instantly tune into their acutely observed characters and take the stylistic leap into farce and expressionistic movie homage.<br /><br />There are homages a plenty in this one including 'The Shining' and 'La Belle et la Bete', to name but two I spotted and they ably demonstrate their love for cinema and history with a segment in 1690's England that makes perfect sense when you're engaged with the movie.<br /><br />What can I say, I marvelled, boggled, emoted and snickered throughout and they have definitely pulled off what many have failed at. A successful British TV comedy to cinema translation.<br /><br />If you've watched and enjoyed 'The League of Gentlemen' in the past, go see it; you will enjoy.<br /><br />If you haven't, rent/buy a DVD and then go see it.<br /><br />Well done guys and thanks for the charming and humorous Q & A."
   ]
  },
  {
   "cell_type": "code",
   "execution_count": 30,
   "metadata": {},
   "outputs": [
    {
     "name": "stdout",
     "output_type": "stream",
     "text": [
      "small coeff : {} ['worst' 'waste' 'awful' 'disappointment' 'poorly' 'boring' 'fails'\n",
      " 'disappointing' 'lacks' 'save' 'terrible' 'mess' 'horrible' 'dull'\n",
      " 'laughable' 'worse' 'badly' 'forgettable' 'ridiculous' 'poor' 'weak'\n",
      " 'avoid' 'unfunny' 'lousy' 'lame' 'waste time' 'one worst' 'unfortunately'\n",
      " 'annoying' 'photo' 'predictable' 'baldwin' 'unless' 'obnoxious' 'wonder'\n",
      " 'mildly' 'britney' 'boredom' 'attempt' 'mediocre' 'confusing'\n",
      " 'uninteresting' 'pass' 'pointless' 'appears' 'hoping' 'connect' 'animal'\n",
      " 'bad' 'brain']\n",
      "large coeff : {} ['excellent' 'funniest' 'amazing' 'perfect' 'superb' 'wonderful' 'subtle'\n",
      " 'incredible' 'touching' 'wonderfully' 'favorite' 'refreshing' 'enjoyable'\n",
      " 'movie watch' 'kurosawa' 'must see' 'surprisingly' 'definitely worth'\n",
      " 'rare' 'perfectly' 'noir' 'gem' 'entertaining' 'unique' 'necessary'\n",
      " 'today' 'fantastic' 'underrated' 'hilarious' 'unlike' 'well worth'\n",
      " 'delightful' 'fascinating' 'hooked' 'recommended' 'brilliant' 'verhoeven'\n",
      " 'sweet' 'com' 'surprised' 'scariest' 'enjoyed' 'bravo' 'tight' 'best'\n",
      " 'highly' 'highly recommend' 'sensitive' 'jackie' 'pretty good']\n"
     ]
    }
   ],
   "source": [
    "\n",
    "feature_name=np.array(vect.get_feature_names())\n",
    "sort_coeff=model.coef_[0].argsort()\n",
    "print (\"small coeff : {}\",format(feature_name[sort_coeff[:50]]))\n",
    "print (\"large coeff : {}\",format(feature_name[sort_coeff[:-51:-1]]))"
   ]
  },
  {
   "cell_type": "code",
   "execution_count": null,
   "metadata": {},
   "outputs": [],
   "source": [
    "Kmeans\n",
    "decision tree \n",
    "naive baye's\n",
    "random forest\n"
   ]
  }
 ],
 "metadata": {
  "kernelspec": {
   "display_name": "Python 3",
   "language": "python",
   "name": "python3"
  },
  "language_info": {
   "codemirror_mode": {
    "name": "ipython",
    "version": 3
   },
   "file_extension": ".py",
   "mimetype": "text/x-python",
   "name": "python",
   "nbconvert_exporter": "python",
   "pygments_lexer": "ipython3",
   "version": "3.6.5"
  }
 },
 "nbformat": 4,
 "nbformat_minor": 2
}
