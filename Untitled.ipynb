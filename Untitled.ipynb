{
 "cells": [
  {
   "cell_type": "code",
   "execution_count": 1,
   "metadata": {},
   "outputs": [],
   "source": [
    "from docx import Document\n",
    "import pdfkit as pk"
   ]
  },
  {
   "cell_type": "code",
   "execution_count": 10,
   "metadata": {},
   "outputs": [],
   "source": [
    "def faq_docu(fname):\n",
    "    d=Document(fname)\n",
    "    question=[]\n",
    "    content=[]\n",
    "    answer=[]\n",
    "    for paragraph in d.paragraphs:\n",
    "        content.append(paragraph.text.strip())\n",
    "        for run in paragraph.runs:\n",
    "            if run.bold:\n",
    "                question.append(run.text)\n",
    "    for i in range(1,len(question)-1):\n",
    "        answer.append(content[content.index(question[i])+1:content.index(question[i+1])][1])\n",
    "    return answer,question"
   ]
  },
  {
   "cell_type": "code",
   "execution_count": 11,
   "metadata": {},
   "outputs": [],
   "source": [
    "if __name__=='__main__':\n",
    "    fname='./subject_pool_faq_sample.doc'\n",
    "    if fname.endswith(('.doc','.docx')):\n",
    "        ans,ques=faq_docu(fname)\n",
    "    elif fname.endswith('.pdf'):\n",
    "        print \"hi\"\n",
    "    elif fname.endswith(('.html','.htm')):\n",
    "        pk.from_file(fname, fname+'.pdf')\n",
    "    else:\n",
    "        pk.from_url(fname,fname+'.pdf')"
   ]
  },
  {
   "cell_type": "code",
   "execution_count": null,
   "metadata": {},
   "outputs": [],
   "source": []
  },
  {
   "cell_type": "code",
   "execution_count": null,
   "metadata": {},
   "outputs": [],
   "source": []
  }
 ],
 "metadata": {
  "kernelspec": {
   "display_name": "Python 2",
   "language": "python",
   "name": "python2"
  },
  "language_info": {
   "codemirror_mode": {
    "name": "ipython",
    "version": 2
   },
   "file_extension": ".py",
   "mimetype": "text/x-python",
   "name": "python",
   "nbconvert_exporter": "python",
   "pygments_lexer": "ipython2",
   "version": "2.7.14"
  }
 },
 "nbformat": 4,
 "nbformat_minor": 2
}
