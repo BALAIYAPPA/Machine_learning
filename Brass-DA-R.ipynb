{
 "cells": [
  {
   "cell_type": "code",
   "execution_count": 3,
   "metadata": {},
   "outputs": [
    {
     "name": "stdout",
     "output_type": "stream",
     "text": [
      "[1] \"hello apple\"\n"
     ]
    }
   ],
   "source": [
    "print(paste(\"hello\",\"apple\"))"
   ]
  },
  {
   "cell_type": "code",
   "execution_count": 4,
   "metadata": {},
   "outputs": [
    {
     "name": "stdout",
     "output_type": "stream",
     "text": [
      "hello apple"
     ]
    }
   ],
   "source": [
    "cat(\"hello\",\"apple\")"
   ]
  },
  {
   "cell_type": "code",
   "execution_count": 17,
   "metadata": {},
   "outputs": [],
   "source": [
    "a <- 5 \n",
    "b <- 3.14\n",
    "c <- \"apple\"\n",
    "d <- TRUE\n",
    "e <- c(\"a\",\"apple\",1)"
   ]
  },
  {
   "cell_type": "code",
   "execution_count": 11,
   "metadata": {},
   "outputs": [
    {
     "name": "stdout",
     "output_type": "stream",
     "text": [
      "[1] \"logical\"\n"
     ]
    }
   ],
   "source": [
    "print(class(d))"
   ]
  },
  {
   "cell_type": "code",
   "execution_count": 14,
   "metadata": {},
   "outputs": [],
   "source": [
    "5 -> a"
   ]
  },
  {
   "cell_type": "code",
   "execution_count": 22,
   "metadata": {},
   "outputs": [],
   "source": [
    "#print(class(e[3]))"
   ]
  },
  {
   "cell_type": "code",
   "execution_count": 25,
   "metadata": {},
   "outputs": [
    {
     "data": {
      "text/html": [
       "'numeric'"
      ],
      "text/latex": [
       "'numeric'"
      ],
      "text/markdown": [
       "'numeric'"
      ],
      "text/plain": [
       "[1] \"numeric\""
      ]
     },
     "metadata": {},
     "output_type": "display_data"
    }
   ],
   "source": [
    "class(a)"
   ]
  },
  {
   "cell_type": "code",
   "execution_count": 31,
   "metadata": {},
   "outputs": [
    {
     "ename": "ERROR",
     "evalue": "Error in as.character(a) * 3: non-numeric argument to binary operator\n",
     "output_type": "error",
     "traceback": [
      "Error in as.character(a) * 3: non-numeric argument to binary operator\nTraceback:\n"
     ]
    }
   ],
   "source": []
  },
  {
   "cell_type": "code",
   "execution_count": 29,
   "metadata": {},
   "outputs": [
    {
     "data": {
      "text/html": [
       "615"
      ],
      "text/latex": [
       "615"
      ],
      "text/markdown": [
       "615"
      ],
      "text/plain": [
       "[1] 615"
      ]
     },
     "metadata": {},
     "output_type": "display_data"
    }
   ],
   "source": [
    "555+55+5"
   ]
  },
  {
   "cell_type": "code",
   "execution_count": 56,
   "metadata": {},
   "outputs": [],
   "source": [
    "n <- as.character(5)"
   ]
  },
  {
   "cell_type": "code",
   "execution_count": 57,
   "metadata": {},
   "outputs": [
    {
     "name": "stdout",
     "output_type": "stream",
     "text": [
      "5 5 5"
     ]
    }
   ],
   "source": [
    "ans <- as.numeric(cat(n,n,n))"
   ]
  },
  {
   "cell_type": "code",
   "execution_count": 58,
   "metadata": {},
   "outputs": [
    {
     "name": "stdout",
     "output_type": "stream",
     "text": [
      "numeric(0)\n"
     ]
    }
   ],
   "source": [
    "print(ans)"
   ]
  },
  {
   "cell_type": "code",
   "execution_count": 63,
   "metadata": {},
   "outputs": [
    {
     "data": {
      "text/html": [
       "'character'"
      ],
      "text/latex": [
       "'character'"
      ],
      "text/markdown": [
       "'character'"
      ],
      "text/plain": [
       "[1] \"character\""
      ]
     },
     "metadata": {},
     "output_type": "display_data"
    }
   ],
   "source": [
    "class()"
   ]
  },
  {
   "cell_type": "code",
   "execution_count": 64,
   "metadata": {},
   "outputs": [],
   "source": [
    "ans<-paste(rep(n,3))"
   ]
  },
  {
   "cell_type": "code",
   "execution_count": 65,
   "metadata": {},
   "outputs": [
    {
     "name": "stdout",
     "output_type": "stream",
     "text": [
      "[1] \"5\" \"5\" \"5\"\n"
     ]
    }
   ],
   "source": [
    "print(ans)"
   ]
  },
  {
   "cell_type": "code",
   "execution_count": 77,
   "metadata": {},
   "outputs": [
    {
     "name": "stdout",
     "output_type": "stream",
     "text": [
      "Enter the numerical value :hi\n"
     ]
    },
    {
     "name": "stderr",
     "output_type": "stream",
     "text": [
      "Warning message in eval(expr, envir, enclos):\n",
      "“NAs introduced by coercion”"
     ]
    }
   ],
   "source": [
    "num<-as.numeric(readline(prompt = \"Enter the numerical value :\"))"
   ]
  },
  {
   "cell_type": "code",
   "execution_count": 78,
   "metadata": {},
   "outputs": [
    {
     "name": "stdout",
     "output_type": "stream",
     "text": [
      "[1] \"numeric\"\n"
     ]
    }
   ],
   "source": [
    "print(class(num))"
   ]
  },
  {
   "cell_type": "code",
   "execution_count": 79,
   "metadata": {},
   "outputs": [
    {
     "name": "stdout",
     "output_type": "stream",
     "text": [
      "[1] NA\n"
     ]
    }
   ],
   "source": [
    "print(num)"
   ]
  },
  {
   "cell_type": "code",
   "execution_count": 75,
   "metadata": {},
   "outputs": [
    {
     "name": "stdout",
     "output_type": "stream",
     "text": [
      "[1] 5\n",
      "[1] 3.14\n"
     ]
    }
   ],
   "source": [
    "print(a)\n",
    "print(b)"
   ]
  },
  {
   "cell_type": "code",
   "execution_count": 82,
   "metadata": {},
   "outputs": [
    {
     "data": {
      "text/html": [
       "1"
      ],
      "text/latex": [
       "1"
      ],
      "text/markdown": [
       "1"
      ],
      "text/plain": [
       "[1] 1"
      ]
     },
     "metadata": {},
     "output_type": "display_data"
    }
   ],
   "source": [
    "4%%3"
   ]
  },
  {
   "cell_type": "code",
   "execution_count": 103,
   "metadata": {},
   "outputs": [
    {
     "name": "stdout",
     "output_type": "stream",
     "text": [
      "Enter the numerical value :5\n",
      "[1] \"odd\"\n"
     ]
    }
   ],
   "source": [
    "num <- as.numeric(readline(prompt = \"Enter the numerical value :\"))\n",
    "if (num%%4==0){\n",
    "    print(\"divisible by 4 and even\")\n",
    "} else if (num%%2==0){\n",
    "    print(\"even\")\n",
    "} else {\n",
    "    print(\"odd\")\n",
    "}"
   ]
  },
  {
   "cell_type": "code",
   "execution_count": 91,
   "metadata": {},
   "outputs": [
    {
     "data": {
      "text/html": [
       "<ol class=list-inline>\n",
       "\t<li>'a'</li>\n",
       "\t<li>'ans'</li>\n",
       "\t<li>'b'</li>\n",
       "\t<li>'c'</li>\n",
       "\t<li>'d'</li>\n",
       "\t<li>'e'</li>\n",
       "\t<li>'n'</li>\n",
       "\t<li>'num'</li>\n",
       "</ol>\n"
      ],
      "text/latex": [
       "\\begin{enumerate*}\n",
       "\\item 'a'\n",
       "\\item 'ans'\n",
       "\\item 'b'\n",
       "\\item 'c'\n",
       "\\item 'd'\n",
       "\\item 'e'\n",
       "\\item 'n'\n",
       "\\item 'num'\n",
       "\\end{enumerate*}\n"
      ],
      "text/markdown": [
       "1. 'a'\n",
       "2. 'ans'\n",
       "3. 'b'\n",
       "4. 'c'\n",
       "5. 'd'\n",
       "6. 'e'\n",
       "7. 'n'\n",
       "8. 'num'\n",
       "\n",
       "\n"
      ],
      "text/plain": [
       "[1] \"a\"   \"ans\" \"b\"   \"c\"   \"d\"   \"e\"   \"n\"   \"num\""
      ]
     },
     "metadata": {},
     "output_type": "display_data"
    }
   ],
   "source": [
    "ls()"
   ]
  },
  {
   "cell_type": "code",
   "execution_count": 99,
   "metadata": {},
   "outputs": [],
   "source": [
    "n <- LETTERS[1:10]"
   ]
  },
  {
   "cell_type": "code",
   "execution_count": 100,
   "metadata": {},
   "outputs": [
    {
     "data": {
      "text/html": [
       "<ol class=list-inline>\n",
       "\t<li>'A'</li>\n",
       "\t<li>'B'</li>\n",
       "\t<li>'C'</li>\n",
       "\t<li>'D'</li>\n",
       "\t<li>'E'</li>\n",
       "\t<li>'F'</li>\n",
       "\t<li>'G'</li>\n",
       "\t<li>'H'</li>\n",
       "\t<li>'I'</li>\n",
       "\t<li>'J'</li>\n",
       "</ol>\n"
      ],
      "text/latex": [
       "\\begin{enumerate*}\n",
       "\\item 'A'\n",
       "\\item 'B'\n",
       "\\item 'C'\n",
       "\\item 'D'\n",
       "\\item 'E'\n",
       "\\item 'F'\n",
       "\\item 'G'\n",
       "\\item 'H'\n",
       "\\item 'I'\n",
       "\\item 'J'\n",
       "\\end{enumerate*}\n"
      ],
      "text/markdown": [
       "1. 'A'\n",
       "2. 'B'\n",
       "3. 'C'\n",
       "4. 'D'\n",
       "5. 'E'\n",
       "6. 'F'\n",
       "7. 'G'\n",
       "8. 'H'\n",
       "9. 'I'\n",
       "10. 'J'\n",
       "\n",
       "\n"
      ],
      "text/plain": [
       " [1] \"A\" \"B\" \"C\" \"D\" \"E\" \"F\" \"G\" \"H\" \"I\" \"J\""
      ]
     },
     "metadata": {},
     "output_type": "display_data"
    }
   ],
   "source": [
    "n"
   ]
  },
  {
   "cell_type": "code",
   "execution_count": 105,
   "metadata": {},
   "outputs": [
    {
     "ename": "ERROR",
     "evalue": "Error in parse(text = x, srcfile = src): <text>:1:1: unexpected '|'\n1: |\n    ^\n",
     "output_type": "error",
     "traceback": [
      "Error in parse(text = x, srcfile = src): <text>:1:1: unexpected '|'\n1: |\n    ^\nTraceback:\n"
     ]
    }
   ],
   "source": []
  },
  {
   "cell_type": "code",
   "execution_count": 106,
   "metadata": {},
   "outputs": [
    {
     "data": {
      "text/html": [
       "9"
      ],
      "text/latex": [
       "9"
      ],
      "text/markdown": [
       "9"
      ],
      "text/plain": [
       "[1] 9"
      ]
     },
     "metadata": {},
     "output_type": "display_data"
    }
   ],
   "source": [
    "3^2"
   ]
  },
  {
   "cell_type": "code",
   "execution_count": 107,
   "metadata": {},
   "outputs": [],
   "source": [
    "#switch\n",
    "#repeat\n",
    "#while\n",
    "#for\n",
    "#function\n",
    "#dataframe\n",
    "#list\n"
   ]
  },
  {
   "cell_type": "code",
   "execution_count": 114,
   "metadata": {},
   "outputs": [
    {
     "data": {
      "text/html": [
       "'The area of the circle with radius 5 cm is 80 sq.cm'"
      ],
      "text/latex": [
       "'The area of the circle with radius 5 cm is 80 sq.cm'"
      ],
      "text/markdown": [
       "'The area of the circle with radius 5 cm is 80 sq.cm'"
      ],
      "text/plain": [
       "[1] \"The area of the circle with radius 5 cm is 80 sq.cm\""
      ]
     },
     "metadata": {},
     "output_type": "display_data"
    }
   ],
   "source": [
    "\"The area of the circle with radius 5 cm is 80 sq.cm\""
   ]
  },
  {
   "cell_type": "code",
   "execution_count": 115,
   "metadata": {},
   "outputs": [],
   "source": [
    "r<-5\n",
    "area<-80\n"
   ]
  },
  {
   "cell_type": "code",
   "execution_count": 122,
   "metadata": {},
   "outputs": [
    {
     "name": "stdout",
     "output_type": "stream",
     "text": [
      "[1] \"The area of the circle with radius 5  cm is 80  sq.cm\"\n"
     ]
    }
   ],
   "source": [
    "print(paste(\"The area of the circle with radius\",r,\" cm is\",area,\" sq.cm\"))"
   ]
  },
  {
   "cell_type": "code",
   "execution_count": 120,
   "metadata": {},
   "outputs": [
    {
     "data": {
      "text/html": [
       "<span style=white-space:pre-wrap>'The area of the circle with radius 5  cm is 80  sq.cm'</span>"
      ],
      "text/latex": [
       "'The area of the circle with radius 5  cm is 80  sq.cm'"
      ],
      "text/markdown": [
       "<span style=white-space:pre-wrap>'The area of the circle with radius 5  cm is 80  sq.cm'</span>"
      ],
      "text/plain": [
       "[1] \"The area of the circle with radius 5  cm is 80  sq.cm\""
      ]
     },
     "metadata": {},
     "output_type": "display_data"
    }
   ],
   "source": []
  },
  {
   "cell_type": "code",
   "execution_count": 8,
   "metadata": {},
   "outputs": [
    {
     "name": "stdout",
     "output_type": "stream",
     "text": [
      "[1] \"hello\"\n",
      "[1] \"pass 5\"\n",
      "[1] 5\n"
     ]
    }
   ],
   "source": [
    "repeat{\n",
    "print(\"hello\")\n",
    "b <- sample(20,1)\n",
    "print(paste(\"pass\",b))\n",
    "if (b<=5){\n",
    "   print(b)\n",
    "   break\n",
    "}\n",
    "}"
   ]
  },
  {
   "cell_type": "code",
   "execution_count": 7,
   "metadata": {},
   "outputs": [
    {
     "name": "stdout",
     "output_type": "stream",
     "text": [
      "Enter your choice :rock\n",
      "Enter Comp's choice :rock\n",
      "Enter your choice :paper\n",
      "Enter Comp's choice :paper\n",
      "Enter your choice :rock\n",
      "Enter Comp's choice :paper\n",
      "Do you want to continue? y/nn\n",
      "[1] \"Your choice is  rock and computer choice is  rock\"\n",
      "[1] \"Game is tie\"\n",
      "[1] \"Your choice is  paper and computer choice is  paper\"\n",
      "[1] \"Game is tie\"\n",
      "[1] \"Your choice is  rock and computer choice is  paper\"\n",
      "[1] \"Computer won the game\"\n"
     ]
    }
   ],
   "source": [
    "repeat {\n",
    "    user <- readline(prompt = \"Enter your choice :\")\n",
    "    comp <- readline(prompt = \"Enter Comp's choice :\")\n",
    "    if (user==\"quit\"||user==\"q\"){\n",
    "         print (\"Good Bye....\")\n",
    "         break\n",
    "    }\n",
    "    print(paste(\"Your choice is \",user,\"and computer choice is \",comp))\n",
    "    if (user==comp){ \n",
    "        print(\"Game is tie\")\n",
    "        next\n",
    "    } else if (user==\"rock\") {\n",
    "          if (comp==\"scissor\") {\n",
    "              print (\"user won the game\")\n",
    "           } else {\n",
    "              print (\"Computer won the game\")\n",
    "           }\n",
    "    } else if (user==\"scissor\") {\n",
    "           if (comp==\"paper\") {\n",
    "              print (\"user won the game\")\n",
    "           } else {\n",
    "              print (\"computer won the game\")\n",
    "           }\n",
    "    } else if (user==\"paper\") {\n",
    "            if (comp==\"rock\") {\n",
    "              print (\"user won the game\")\n",
    "            } else {\n",
    "              print (\"computer won the game\")\n",
    "            }\n",
    "    } else {\n",
    "            print (\"Have a nice day....!!!\")\n",
    "    }\n",
    "    opt <- readline(prompt = \"Do you want to continue? y/n \")\n",
    "    if (opt!=\"y\"){\n",
    "        break\n",
    "    }\n",
    "}"
   ]
  },
  {
   "cell_type": "code",
   "execution_count": 12,
   "metadata": {},
   "outputs": [
    {
     "name": "stdout",
     "output_type": "stream",
     "text": [
      "[1] \"hello\"\n",
      "[1] \"hello\"\n",
      "[1] \"hello\"\n",
      "[1] \"hello\"\n",
      "[1] \"hello\"\n"
     ]
    }
   ],
   "source": [
    "cnt<-1\n",
    "while (cnt<=5){\n",
    "    print(\"hello\")\n",
    "    cnt <- cnt+1\n",
    "}"
   ]
  },
  {
   "cell_type": "code",
   "execution_count": 32,
   "metadata": {},
   "outputs": [],
   "source": [
    "x<- \"fruit\""
   ]
  },
  {
   "cell_type": "code",
   "execution_count": 33,
   "metadata": {},
   "outputs": [],
   "source": [
    "y <- switch(\n",
    "    x,\"color\"=\"red\",\"object\"=\"rectangle\",\"fruit\"=\"mango\")"
   ]
  },
  {
   "cell_type": "code",
   "execution_count": 34,
   "metadata": {},
   "outputs": [
    {
     "data": {
      "text/html": [
       "'mango'"
      ],
      "text/latex": [
       "'mango'"
      ],
      "text/markdown": [
       "'mango'"
      ],
      "text/plain": [
       "[1] \"mango\""
      ]
     },
     "metadata": {},
     "output_type": "display_data"
    }
   ],
   "source": [
    "y"
   ]
  },
  {
   "cell_type": "code",
   "execution_count": 37,
   "metadata": {},
   "outputs": [
    {
     "data": {
      "text/html": [
       "5.5"
      ],
      "text/latex": [
       "5.5"
      ],
      "text/markdown": [
       "5.5"
      ],
      "text/plain": [
       "[1] 5.5"
      ]
     },
     "metadata": {},
     "output_type": "display_data"
    },
    {
     "data": {
      "text/html": [
       "9.16666666666667"
      ],
      "text/latex": [
       "9.16666666666667"
      ],
      "text/markdown": [
       "9.16666666666667"
      ],
      "text/plain": [
       "[1] 9.166667"
      ]
     },
     "metadata": {},
     "output_type": "display_data"
    },
    {
     "data": {
      "text/html": [
       "3.02765035409749"
      ],
      "text/latex": [
       "3.02765035409749"
      ],
      "text/markdown": [
       "3.02765035409749"
      ],
      "text/plain": [
       "[1] 3.02765"
      ]
     },
     "metadata": {},
     "output_type": "display_data"
    }
   ],
   "source": [
    "mean(1:10)\n",
    "var(1:10)\n",
    "sd(1:10)"
   ]
  },
  {
   "cell_type": "code",
   "execution_count": 39,
   "metadata": {},
   "outputs": [
    {
     "data": {
      "text/html": [
       "<ol class=list-inline>\n",
       "\t<li>72</li>\n",
       "\t<li>15</li>\n",
       "</ol>\n"
      ],
      "text/latex": [
       "\\begin{enumerate*}\n",
       "\\item 72\n",
       "\\item 15\n",
       "\\end{enumerate*}\n"
      ],
      "text/markdown": [
       "1. 72\n",
       "2. 15\n",
       "\n",
       "\n"
      ],
      "text/plain": [
       "[1] 72 15"
      ]
     },
     "metadata": {},
     "output_type": "display_data"
    }
   ],
   "source": [
    "sample(5:100,2)"
   ]
  },
  {
   "cell_type": "code",
   "execution_count": 40,
   "metadata": {},
   "outputs": [],
   "source": [
    "choice <- list(\"rock\",\"paper\",\"scissor\")"
   ]
  },
  {
   "cell_type": "code",
   "execution_count": 44,
   "metadata": {},
   "outputs": [
    {
     "data": {
      "text/html": [
       "<ol>\n",
       "\t<li>'rock'</li>\n",
       "\t<li>'paper'</li>\n",
       "\t<li>'scissor'</li>\n",
       "</ol>\n"
      ],
      "text/latex": [
       "\\begin{enumerate}\n",
       "\\item 'rock'\n",
       "\\item 'paper'\n",
       "\\item 'scissor'\n",
       "\\end{enumerate}\n"
      ],
      "text/markdown": [
       "1. 'rock'\n",
       "2. 'paper'\n",
       "3. 'scissor'\n",
       "\n",
       "\n"
      ],
      "text/plain": [
       "[[1]]\n",
       "[1] \"rock\"\n",
       "\n",
       "[[2]]\n",
       "[1] \"paper\"\n",
       "\n",
       "[[3]]\n",
       "[1] \"scissor\"\n"
      ]
     },
     "metadata": {},
     "output_type": "display_data"
    }
   ],
   "source": [
    "choice"
   ]
  },
  {
   "cell_type": "code",
   "execution_count": 47,
   "metadata": {},
   "outputs": [
    {
     "data": {
      "text/html": [
       "<ol>\n",
       "\t<li>'paper'</li>\n",
       "</ol>\n"
      ],
      "text/latex": [
       "\\begin{enumerate}\n",
       "\\item 'paper'\n",
       "\\end{enumerate}\n"
      ],
      "text/markdown": [
       "1. 'paper'\n",
       "\n",
       "\n"
      ],
      "text/plain": [
       "[[1]]\n",
       "[1] \"paper\"\n"
      ]
     },
     "metadata": {},
     "output_type": "display_data"
    }
   ],
   "source": [
    "sample(choice,1)"
   ]
  },
  {
   "cell_type": "code",
   "execution_count": 64,
   "metadata": {},
   "outputs": [
    {
     "ename": "ERROR",
     "evalue": "Error in parse(text = x, srcfile = src): <text>:11:21: unexpected '||'\n10:     attempt<-attempt+1\n11:     if (user==\"low\")||\n                        ^\n",
     "output_type": "error",
     "traceback": [
      "Error in parse(text = x, srcfile = src): <text>:11:21: unexpected '||'\n10:     attempt<-attempt+1\n11:     if (user==\"low\")||\n                        ^\nTraceback:\n"
     ]
    }
   ],
   "source": [
    "min<-0\n",
    "max<-100\n",
    "attempt<-0\n",
    "i<-0\n",
    "while (i<1) {\n",
    "    print(\"Think any number between 0-100 and keep it with you, let me find out!!\")\n",
    "    comp<-sample(min:max,1)\n",
    "    print(sprintf(\"\\nIsn't it %d ?\",comp))\n",
    "    user<-readline(prompt = \"Enter the option \\n a.high \\n b.low \\n c.Bingo \\n\")\n",
    "    attempt<-attempt+1\n",
    "    if (user==\"low\")||(user==\"b\") {\n",
    "        min<-comp+1\n",
    "        next\n",
    "    } else if (user==\"high\") || (user==\"a\") {\n",
    "        max<-comp-1\n",
    "        next\n",
    "    } else if (user==\"bingo\") || (user==\"c\") {\n",
    "        print (\"\\nThe number is in your mind is %d and computer took %d attempts\"%(comp,attempt))\n",
    "        break\n",
    "    } else {\n",
    "        print (\"\\nPlease enter the valid option\")\n",
    "        break\n",
    "}\n",
    "}\n"
   ]
  },
  {
   "cell_type": "code",
   "execution_count": 65,
   "metadata": {},
   "outputs": [],
   "source": [
    "x<-list(1,1,2,3,4,4)"
   ]
  },
  {
   "cell_type": "code",
   "execution_count": 66,
   "metadata": {},
   "outputs": [
    {
     "data": {
      "text/html": [
       "<ol>\n",
       "\t<li>1</li>\n",
       "\t<li>2</li>\n",
       "\t<li>3</li>\n",
       "\t<li>4</li>\n",
       "</ol>\n"
      ],
      "text/latex": [
       "\\begin{enumerate}\n",
       "\\item 1\n",
       "\\item 2\n",
       "\\item 3\n",
       "\\item 4\n",
       "\\end{enumerate}\n"
      ],
      "text/markdown": [
       "1. 1\n",
       "2. 2\n",
       "3. 3\n",
       "4. 4\n",
       "\n",
       "\n"
      ],
      "text/plain": [
       "[[1]]\n",
       "[1] 1\n",
       "\n",
       "[[2]]\n",
       "[1] 2\n",
       "\n",
       "[[3]]\n",
       "[1] 3\n",
       "\n",
       "[[4]]\n",
       "[1] 4\n"
      ]
     },
     "metadata": {},
     "output_type": "display_data"
    }
   ],
   "source": [
    "unique(x)"
   ]
  },
  {
   "cell_type": "code",
   "execution_count": 1,
   "metadata": {},
   "outputs": [],
   "source": [
    "#function\n",
    "#for loop\n",
    "#list"
   ]
  },
  {
   "cell_type": "code",
   "execution_count": 2,
   "metadata": {},
   "outputs": [],
   "source": [
    "l <- list(1,2,3,'a','b','c','apple','ball',c(5,6,'e'))"
   ]
  },
  {
   "cell_type": "code",
   "execution_count": 9,
   "metadata": {},
   "outputs": [
    {
     "data": {
      "text/html": [
       "<ol>\n",
       "\t<li><ol class=list-inline>\n",
       "\t<li>'5'</li>\n",
       "\t<li>'6'</li>\n",
       "\t<li>'e'</li>\n",
       "</ol>\n",
       "</li>\n",
       "</ol>\n"
      ],
      "text/latex": [
       "\\begin{enumerate}\n",
       "\\item \\begin{enumerate*}\n",
       "\\item '5'\n",
       "\\item '6'\n",
       "\\item 'e'\n",
       "\\end{enumerate*}\n",
       "\n",
       "\\end{enumerate}\n"
      ],
      "text/markdown": [
       "1. 1. '5'\n",
       "2. '6'\n",
       "3. 'e'\n",
       "\n",
       "\n",
       "\n",
       "\n",
       "\n"
      ],
      "text/plain": [
       "[[1]]\n",
       "[1] \"5\" \"6\" \"e\"\n"
      ]
     },
     "metadata": {},
     "output_type": "display_data"
    }
   ],
   "source": [
    "l[9]"
   ]
  },
  {
   "cell_type": "code",
   "execution_count": 10,
   "metadata": {},
   "outputs": [],
   "source": [
    "l <- c(l,\"mango\")"
   ]
  },
  {
   "cell_type": "code",
   "execution_count": 12,
   "metadata": {},
   "outputs": [],
   "source": [
    "j <- l"
   ]
  },
  {
   "cell_type": "code",
   "execution_count": 13,
   "metadata": {},
   "outputs": [
    {
     "data": {
      "text/html": [
       "<ol>\n",
       "\t<li>1</li>\n",
       "\t<li>2</li>\n",
       "\t<li>3</li>\n",
       "\t<li>'a'</li>\n",
       "\t<li>'b'</li>\n",
       "\t<li>'c'</li>\n",
       "\t<li>'apple'</li>\n",
       "\t<li>'ball'</li>\n",
       "\t<li><ol class=list-inline>\n",
       "\t<li>'5'</li>\n",
       "\t<li>'6'</li>\n",
       "\t<li>'e'</li>\n",
       "</ol>\n",
       "</li>\n",
       "\t<li>'mango'</li>\n",
       "</ol>\n"
      ],
      "text/latex": [
       "\\begin{enumerate}\n",
       "\\item 1\n",
       "\\item 2\n",
       "\\item 3\n",
       "\\item 'a'\n",
       "\\item 'b'\n",
       "\\item 'c'\n",
       "\\item 'apple'\n",
       "\\item 'ball'\n",
       "\\item \\begin{enumerate*}\n",
       "\\item '5'\n",
       "\\item '6'\n",
       "\\item 'e'\n",
       "\\end{enumerate*}\n",
       "\n",
       "\\item 'mango'\n",
       "\\end{enumerate}\n"
      ],
      "text/markdown": [
       "1. 1\n",
       "2. 2\n",
       "3. 3\n",
       "4. 'a'\n",
       "5. 'b'\n",
       "6. 'c'\n",
       "7. 'apple'\n",
       "8. 'ball'\n",
       "9. 1. '5'\n",
       "2. '6'\n",
       "3. 'e'\n",
       "\n",
       "\n",
       "\n",
       "10. 'mango'\n",
       "\n",
       "\n"
      ],
      "text/plain": [
       "[[1]]\n",
       "[1] 1\n",
       "\n",
       "[[2]]\n",
       "[1] 2\n",
       "\n",
       "[[3]]\n",
       "[1] 3\n",
       "\n",
       "[[4]]\n",
       "[1] \"a\"\n",
       "\n",
       "[[5]]\n",
       "[1] \"b\"\n",
       "\n",
       "[[6]]\n",
       "[1] \"c\"\n",
       "\n",
       "[[7]]\n",
       "[1] \"apple\"\n",
       "\n",
       "[[8]]\n",
       "[1] \"ball\"\n",
       "\n",
       "[[9]]\n",
       "[1] \"5\" \"6\" \"e\"\n",
       "\n",
       "[[10]]\n",
       "[1] \"mango\"\n"
      ]
     },
     "metadata": {},
     "output_type": "display_data"
    }
   ],
   "source": [
    "j"
   ]
  },
  {
   "cell_type": "code",
   "execution_count": 18,
   "metadata": {},
   "outputs": [
    {
     "name": "stdout",
     "output_type": "stream",
     "text": [
      "[1] 65\n",
      "[1] 66\n",
      "[1] 67\n",
      "[1] 68\n",
      "[1] 69\n",
      "[1] 70\n",
      "[1] 71\n",
      "[1] 72\n",
      "[1] 73\n",
      "[1] 74\n"
     ]
    }
   ],
   "source": [
    "for (i in LETTERS[1:10]){\n",
    "    print(utf8ToInt(i))\n",
    "}"
   ]
  },
  {
   "cell_type": "code",
   "execution_count": 23,
   "metadata": {},
   "outputs": [],
   "source": [
    "i <- 10\n",
    "e <- list()"
   ]
  },
  {
   "cell_type": "code",
   "execution_count": 24,
   "metadata": {},
   "outputs": [],
   "source": [
    "e <- c(e,i)"
   ]
  },
  {
   "cell_type": "code",
   "execution_count": 25,
   "metadata": {},
   "outputs": [
    {
     "data": {
      "text/html": [
       "<ol>\n",
       "\t<li>10</li>\n",
       "</ol>\n"
      ],
      "text/latex": [
       "\\begin{enumerate}\n",
       "\\item 10\n",
       "\\end{enumerate}\n"
      ],
      "text/markdown": [
       "1. 10\n",
       "\n",
       "\n"
      ],
      "text/plain": [
       "[[1]]\n",
       "[1] 10\n"
      ]
     },
     "metadata": {},
     "output_type": "display_data"
    }
   ],
   "source": [
    "e"
   ]
  },
  {
   "cell_type": "code",
   "execution_count": 27,
   "metadata": {},
   "outputs": [
    {
     "data": {
      "text/html": [
       "<ol>\n",
       "\t<li>1</li>\n",
       "\t<li>2</li>\n",
       "\t<li>3</li>\n",
       "\t<li>'a'</li>\n",
       "\t<li>'b'</li>\n",
       "\t<li>'c'</li>\n",
       "\t<li>'apple'</li>\n",
       "\t<li>'ball'</li>\n",
       "\t<li><ol class=list-inline>\n",
       "\t<li>'5'</li>\n",
       "\t<li>'6'</li>\n",
       "\t<li>'e'</li>\n",
       "</ol>\n",
       "</li>\n",
       "\t<li>'mango'</li>\n",
       "</ol>\n"
      ],
      "text/latex": [
       "\\begin{enumerate}\n",
       "\\item 1\n",
       "\\item 2\n",
       "\\item 3\n",
       "\\item 'a'\n",
       "\\item 'b'\n",
       "\\item 'c'\n",
       "\\item 'apple'\n",
       "\\item 'ball'\n",
       "\\item \\begin{enumerate*}\n",
       "\\item '5'\n",
       "\\item '6'\n",
       "\\item 'e'\n",
       "\\end{enumerate*}\n",
       "\n",
       "\\item 'mango'\n",
       "\\end{enumerate}\n"
      ],
      "text/markdown": [
       "1. 1\n",
       "2. 2\n",
       "3. 3\n",
       "4. 'a'\n",
       "5. 'b'\n",
       "6. 'c'\n",
       "7. 'apple'\n",
       "8. 'ball'\n",
       "9. 1. '5'\n",
       "2. '6'\n",
       "3. 'e'\n",
       "\n",
       "\n",
       "\n",
       "10. 'mango'\n",
       "\n",
       "\n"
      ],
      "text/plain": [
       "[[1]]\n",
       "[1] 1\n",
       "\n",
       "[[2]]\n",
       "[1] 2\n",
       "\n",
       "[[3]]\n",
       "[1] 3\n",
       "\n",
       "[[4]]\n",
       "[1] \"a\"\n",
       "\n",
       "[[5]]\n",
       "[1] \"b\"\n",
       "\n",
       "[[6]]\n",
       "[1] \"c\"\n",
       "\n",
       "[[7]]\n",
       "[1] \"apple\"\n",
       "\n",
       "[[8]]\n",
       "[1] \"ball\"\n",
       "\n",
       "[[9]]\n",
       "[1] \"5\" \"6\" \"e\"\n",
       "\n",
       "[[10]]\n",
       "[1] \"mango\"\n"
      ]
     },
     "metadata": {},
     "output_type": "display_data"
    }
   ],
   "source": [
    "l"
   ]
  },
  {
   "cell_type": "code",
   "execution_count": 33,
   "metadata": {},
   "outputs": [
    {
     "name": "stdout",
     "output_type": "stream",
     "text": [
      "[1] \"yes\"\n"
     ]
    }
   ],
   "source": [
    "if (any(l!=\"a\")) {\n",
    "    print(\"yes\")\n",
    "}"
   ]
  },
  {
   "cell_type": "code",
   "execution_count": 50,
   "metadata": {},
   "outputs": [
    {
     "ename": "ERROR",
     "evalue": "Error in \"u\" %notin% l: could not find function \"%notin%\"\n",
     "output_type": "error",
     "traceback": [
      "Error in \"u\" %notin% l: could not find function \"%notin%\"\nTraceback:\n"
     ]
    }
   ],
   "source": [
    "if ('u' %in% l) {\n",
    "    next\n",
    "} else {\n",
    "    \n",
    "}"
   ]
  },
  {
   "cell_type": "code",
   "execution_count": 35,
   "metadata": {},
   "outputs": [
    {
     "data": {
      "text/html": [
       "TRUE"
      ],
      "text/latex": [
       "TRUE"
      ],
      "text/markdown": [
       "TRUE"
      ],
      "text/plain": [
       "[1] TRUE"
      ]
     },
     "metadata": {},
     "output_type": "display_data"
    }
   ],
   "source": [
    "any(l==\"a\")"
   ]
  },
  {
   "cell_type": "code",
   "execution_count": 51,
   "metadata": {},
   "outputs": [
    {
     "ename": "ERROR",
     "evalue": "Error in 1:10 %notin% c(1, 3, 5, 9): could not find function \"%notin%\"\n",
     "output_type": "error",
     "traceback": [
      "Error in 1:10 %notin% c(1, 3, 5, 9): could not find function \"%notin%\"\nTraceback:\n"
     ]
    }
   ],
   "source": [
    "1:10 %notin% c(1,3,5,9)\n",
    "sstr <- c(\"c\",\"ab\",\"B\",\"bba\",\"c\",NA,\"@\",\"bla\",\"a\",\"Ba\",\"%\")\n",
    "sstr[sstr %notin% c(letters, LETTERS)]"
   ]
  },
  {
   "cell_type": "code",
   "execution_count": 68,
   "metadata": {},
   "outputs": [],
   "source": [
    "add <- function(a,b){\n",
    "    print(paste(a+b,a*b))\n",
    "}"
   ]
  },
  {
   "cell_type": "code",
   "execution_count": 72,
   "metadata": {},
   "outputs": [
    {
     "name": "stdout",
     "output_type": "stream",
     "text": [
      "Enter the value for a :14\n",
      "Enter the value for b :6\n",
      "[1] \"20 84\"\n"
     ]
    }
   ],
   "source": [
    "a <- as.numeric(readline(prompt = \"Enter the value for a :\"))\n",
    "b <- as.numeric(readline(prompt = \"Enter the value for b :\"))   \n",
    "add(a,b)"
   ]
  },
  {
   "cell_type": "code",
   "execution_count": 71,
   "metadata": {},
   "outputs": [
    {
     "data": {
      "text/html": [
       "'54 200'"
      ],
      "text/latex": [
       "'54 200'"
      ],
      "text/markdown": [
       "'54 200'"
      ],
      "text/plain": [
       "[1] \"54 200\""
      ]
     },
     "metadata": {},
     "output_type": "display_data"
    }
   ],
   "source": [
    "s"
   ]
  },
  {
   "cell_type": "code",
   "execution_count": null,
   "metadata": {},
   "outputs": [],
   "source": []
  }
 ],
 "metadata": {
  "kernelspec": {
   "display_name": "R",
   "language": "R",
   "name": "ir"
  },
  "language_info": {
   "codemirror_mode": "r",
   "file_extension": ".r",
   "mimetype": "text/x-r-source",
   "name": "R",
   "pygments_lexer": "r",
   "version": "3.4.4"
  }
 },
 "nbformat": 4,
 "nbformat_minor": 2
}
