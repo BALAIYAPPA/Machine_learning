{
 "cells": [
  {
   "cell_type": "code",
   "execution_count": 3,
   "metadata": {},
   "outputs": [
    {
     "name": "stdout",
     "output_type": "stream",
     "text": [
      "[1] \"hello apple\"\n"
     ]
    }
   ],
   "source": [
    "print(paste(\"hello\",\"apple\"))"
   ]
  },
  {
   "cell_type": "code",
   "execution_count": 4,
   "metadata": {},
   "outputs": [
    {
     "name": "stdout",
     "output_type": "stream",
     "text": [
      "hello apple"
     ]
    }
   ],
   "source": [
    "cat(\"hello\",\"apple\")"
   ]
  },
  {
   "cell_type": "code",
   "execution_count": 17,
   "metadata": {},
   "outputs": [],
   "source": [
    "a <- 5 \n",
    "b <- 3.14\n",
    "c <- \"apple\"\n",
    "d <- TRUE\n",
    "e <- c(\"a\",\"apple\",1)"
   ]
  },
  {
   "cell_type": "code",
   "execution_count": 11,
   "metadata": {},
   "outputs": [
    {
     "name": "stdout",
     "output_type": "stream",
     "text": [
      "[1] \"logical\"\n"
     ]
    }
   ],
   "source": [
    "print(class(d))"
   ]
  },
  {
   "cell_type": "code",
   "execution_count": 14,
   "metadata": {},
   "outputs": [],
   "source": [
    "5 -> a"
   ]
  },
  {
   "cell_type": "code",
   "execution_count": 22,
   "metadata": {},
   "outputs": [],
   "source": [
    "#print(class(e[3]))"
   ]
  },
  {
   "cell_type": "code",
   "execution_count": 25,
   "metadata": {},
   "outputs": [
    {
     "data": {
      "text/html": [
       "'numeric'"
      ],
      "text/latex": [
       "'numeric'"
      ],
      "text/markdown": [
       "'numeric'"
      ],
      "text/plain": [
       "[1] \"numeric\""
      ]
     },
     "metadata": {},
     "output_type": "display_data"
    }
   ],
   "source": [
    "class(a)"
   ]
  },
  {
   "cell_type": "code",
   "execution_count": 31,
   "metadata": {},
   "outputs": [
    {
     "ename": "ERROR",
     "evalue": "Error in as.character(a) * 3: non-numeric argument to binary operator\n",
     "output_type": "error",
     "traceback": [
      "Error in as.character(a) * 3: non-numeric argument to binary operator\nTraceback:\n"
     ]
    }
   ],
   "source": []
  },
  {
   "cell_type": "code",
   "execution_count": 29,
   "metadata": {},
   "outputs": [
    {
     "data": {
      "text/html": [
       "615"
      ],
      "text/latex": [
       "615"
      ],
      "text/markdown": [
       "615"
      ],
      "text/plain": [
       "[1] 615"
      ]
     },
     "metadata": {},
     "output_type": "display_data"
    }
   ],
   "source": [
    "555+55+5"
   ]
  },
  {
   "cell_type": "code",
   "execution_count": 56,
   "metadata": {},
   "outputs": [],
   "source": [
    "n <- as.character(5)"
   ]
  },
  {
   "cell_type": "code",
   "execution_count": 57,
   "metadata": {},
   "outputs": [
    {
     "name": "stdout",
     "output_type": "stream",
     "text": [
      "5 5 5"
     ]
    }
   ],
   "source": [
    "ans <- as.numeric(cat(n,n,n))"
   ]
  },
  {
   "cell_type": "code",
   "execution_count": 58,
   "metadata": {},
   "outputs": [
    {
     "name": "stdout",
     "output_type": "stream",
     "text": [
      "numeric(0)\n"
     ]
    }
   ],
   "source": [
    "print(ans)"
   ]
  },
  {
   "cell_type": "code",
   "execution_count": 63,
   "metadata": {},
   "outputs": [
    {
     "data": {
      "text/html": [
       "'character'"
      ],
      "text/latex": [
       "'character'"
      ],
      "text/markdown": [
       "'character'"
      ],
      "text/plain": [
       "[1] \"character\""
      ]
     },
     "metadata": {},
     "output_type": "display_data"
    }
   ],
   "source": [
    "class()"
   ]
  },
  {
   "cell_type": "code",
   "execution_count": 64,
   "metadata": {},
   "outputs": [],
   "source": [
    "ans<-paste(rep(n,3))"
   ]
  },
  {
   "cell_type": "code",
   "execution_count": 65,
   "metadata": {},
   "outputs": [
    {
     "name": "stdout",
     "output_type": "stream",
     "text": [
      "[1] \"5\" \"5\" \"5\"\n"
     ]
    }
   ],
   "source": [
    "print(ans)"
   ]
  },
  {
   "cell_type": "code",
   "execution_count": 77,
   "metadata": {},
   "outputs": [
    {
     "name": "stdout",
     "output_type": "stream",
     "text": [
      "Enter the numerical value :hi\n"
     ]
    },
    {
     "name": "stderr",
     "output_type": "stream",
     "text": [
      "Warning message in eval(expr, envir, enclos):\n",
      "“NAs introduced by coercion”"
     ]
    }
   ],
   "source": [
    "num<-as.numeric(readline(prompt = \"Enter the numerical value :\"))"
   ]
  },
  {
   "cell_type": "code",
   "execution_count": 78,
   "metadata": {},
   "outputs": [
    {
     "name": "stdout",
     "output_type": "stream",
     "text": [
      "[1] \"numeric\"\n"
     ]
    }
   ],
   "source": [
    "print(class(num))"
   ]
  },
  {
   "cell_type": "code",
   "execution_count": 79,
   "metadata": {},
   "outputs": [
    {
     "name": "stdout",
     "output_type": "stream",
     "text": [
      "[1] NA\n"
     ]
    }
   ],
   "source": [
    "print(num)"
   ]
  },
  {
   "cell_type": "code",
   "execution_count": 75,
   "metadata": {},
   "outputs": [
    {
     "name": "stdout",
     "output_type": "stream",
     "text": [
      "[1] 5\n",
      "[1] 3.14\n"
     ]
    }
   ],
   "source": [
    "print(a)\n",
    "print(b)"
   ]
  },
  {
   "cell_type": "code",
   "execution_count": null,
   "metadata": {},
   "outputs": [],
   "source": [
    "sharmasaravanan.1993@gmail.com"
   ]
  },
  {
   "cell_type": "code",
   "execution_count": 82,
   "metadata": {},
   "outputs": [
    {
     "data": {
      "text/html": [
       "1"
      ],
      "text/latex": [
       "1"
      ],
      "text/markdown": [
       "1"
      ],
      "text/plain": [
       "[1] 1"
      ]
     },
     "metadata": {},
     "output_type": "display_data"
    }
   ],
   "source": [
    "4%%3"
   ]
  },
  {
   "cell_type": "code",
   "execution_count": 103,
   "metadata": {},
   "outputs": [
    {
     "name": "stdout",
     "output_type": "stream",
     "text": [
      "Enter the numerical value :5\n",
      "[1] \"odd\"\n"
     ]
    }
   ],
   "source": [
    "num <- as.numeric(readline(prompt = \"Enter the numerical value :\"))\n",
    "if (num%%4==0){\n",
    "    print(\"divisible by 4 and even\")\n",
    "} else if (num%%2==0){\n",
    "    print(\"even\")\n",
    "} else {\n",
    "    print(\"odd\")\n",
    "}"
   ]
  },
  {
   "cell_type": "code",
   "execution_count": 91,
   "metadata": {},
   "outputs": [
    {
     "data": {
      "text/html": [
       "<ol class=list-inline>\n",
       "\t<li>'a'</li>\n",
       "\t<li>'ans'</li>\n",
       "\t<li>'b'</li>\n",
       "\t<li>'c'</li>\n",
       "\t<li>'d'</li>\n",
       "\t<li>'e'</li>\n",
       "\t<li>'n'</li>\n",
       "\t<li>'num'</li>\n",
       "</ol>\n"
      ],
      "text/latex": [
       "\\begin{enumerate*}\n",
       "\\item 'a'\n",
       "\\item 'ans'\n",
       "\\item 'b'\n",
       "\\item 'c'\n",
       "\\item 'd'\n",
       "\\item 'e'\n",
       "\\item 'n'\n",
       "\\item 'num'\n",
       "\\end{enumerate*}\n"
      ],
      "text/markdown": [
       "1. 'a'\n",
       "2. 'ans'\n",
       "3. 'b'\n",
       "4. 'c'\n",
       "5. 'd'\n",
       "6. 'e'\n",
       "7. 'n'\n",
       "8. 'num'\n",
       "\n",
       "\n"
      ],
      "text/plain": [
       "[1] \"a\"   \"ans\" \"b\"   \"c\"   \"d\"   \"e\"   \"n\"   \"num\""
      ]
     },
     "metadata": {},
     "output_type": "display_data"
    }
   ],
   "source": [
    "ls()"
   ]
  },
  {
   "cell_type": "code",
   "execution_count": 99,
   "metadata": {},
   "outputs": [],
   "source": [
    "n <- LETTERS[1:10]"
   ]
  },
  {
   "cell_type": "code",
   "execution_count": 100,
   "metadata": {},
   "outputs": [
    {
     "data": {
      "text/html": [
       "<ol class=list-inline>\n",
       "\t<li>'A'</li>\n",
       "\t<li>'B'</li>\n",
       "\t<li>'C'</li>\n",
       "\t<li>'D'</li>\n",
       "\t<li>'E'</li>\n",
       "\t<li>'F'</li>\n",
       "\t<li>'G'</li>\n",
       "\t<li>'H'</li>\n",
       "\t<li>'I'</li>\n",
       "\t<li>'J'</li>\n",
       "</ol>\n"
      ],
      "text/latex": [
       "\\begin{enumerate*}\n",
       "\\item 'A'\n",
       "\\item 'B'\n",
       "\\item 'C'\n",
       "\\item 'D'\n",
       "\\item 'E'\n",
       "\\item 'F'\n",
       "\\item 'G'\n",
       "\\item 'H'\n",
       "\\item 'I'\n",
       "\\item 'J'\n",
       "\\end{enumerate*}\n"
      ],
      "text/markdown": [
       "1. 'A'\n",
       "2. 'B'\n",
       "3. 'C'\n",
       "4. 'D'\n",
       "5. 'E'\n",
       "6. 'F'\n",
       "7. 'G'\n",
       "8. 'H'\n",
       "9. 'I'\n",
       "10. 'J'\n",
       "\n",
       "\n"
      ],
      "text/plain": [
       " [1] \"A\" \"B\" \"C\" \"D\" \"E\" \"F\" \"G\" \"H\" \"I\" \"J\""
      ]
     },
     "metadata": {},
     "output_type": "display_data"
    }
   ],
   "source": [
    "n"
   ]
  },
  {
   "cell_type": "code",
   "execution_count": 105,
   "metadata": {},
   "outputs": [
    {
     "ename": "ERROR",
     "evalue": "Error in parse(text = x, srcfile = src): <text>:1:1: unexpected '|'\n1: |\n    ^\n",
     "output_type": "error",
     "traceback": [
      "Error in parse(text = x, srcfile = src): <text>:1:1: unexpected '|'\n1: |\n    ^\nTraceback:\n"
     ]
    }
   ],
   "source": [
    "16.3"
   ]
  },
  {
   "cell_type": "code",
   "execution_count": 106,
   "metadata": {},
   "outputs": [
    {
     "data": {
      "text/html": [
       "9"
      ],
      "text/latex": [
       "9"
      ],
      "text/markdown": [
       "9"
      ],
      "text/plain": [
       "[1] 9"
      ]
     },
     "metadata": {},
     "output_type": "display_data"
    }
   ],
   "source": [
    "3^2"
   ]
  },
  {
   "cell_type": "code",
   "execution_count": 107,
   "metadata": {},
   "outputs": [],
   "source": [
    "#switch\n",
    "#repeat\n",
    "#while\n",
    "#for\n",
    "#function\n",
    "#dataframe\n",
    "#list\n"
   ]
  },
  {
   "cell_type": "code",
   "execution_count": 114,
   "metadata": {},
   "outputs": [
    {
     "data": {
      "text/html": [
       "'The area of the circle with radius 5 cm is 80 sq.cm'"
      ],
      "text/latex": [
       "'The area of the circle with radius 5 cm is 80 sq.cm'"
      ],
      "text/markdown": [
       "'The area of the circle with radius 5 cm is 80 sq.cm'"
      ],
      "text/plain": [
       "[1] \"The area of the circle with radius 5 cm is 80 sq.cm\""
      ]
     },
     "metadata": {},
     "output_type": "display_data"
    }
   ],
   "source": [
    "\"The area of the circle with radius 5 cm is 80 sq.cm\""
   ]
  },
  {
   "cell_type": "code",
   "execution_count": 115,
   "metadata": {},
   "outputs": [],
   "source": [
    "r<-5\n",
    "area<-80\n"
   ]
  },
  {
   "cell_type": "code",
   "execution_count": 122,
   "metadata": {},
   "outputs": [
    {
     "name": "stdout",
     "output_type": "stream",
     "text": [
      "[1] \"The area of the circle with radius 5  cm is 80  sq.cm\"\n"
     ]
    }
   ],
   "source": [
    "print(paste(\"The area of the circle with radius\",r,\" cm is\",area,\" sq.cm\"))"
   ]
  },
  {
   "cell_type": "code",
   "execution_count": 120,
   "metadata": {},
   "outputs": [
    {
     "data": {
      "text/html": [
       "<span style=white-space:pre-wrap>'The area of the circle with radius 5  cm is 80  sq.cm'</span>"
      ],
      "text/latex": [
       "'The area of the circle with radius 5  cm is 80  sq.cm'"
      ],
      "text/markdown": [
       "<span style=white-space:pre-wrap>'The area of the circle with radius 5  cm is 80  sq.cm'</span>"
      ],
      "text/plain": [
       "[1] \"The area of the circle with radius 5  cm is 80  sq.cm\""
      ]
     },
     "metadata": {},
     "output_type": "display_data"
    }
   ],
   "source": []
  },
  {
   "cell_type": "code",
   "execution_count": 8,
   "metadata": {},
   "outputs": [
    {
     "name": "stdout",
     "output_type": "stream",
     "text": [
      "[1] \"hello\"\n",
      "[1] \"pass 5\"\n",
      "[1] 5\n"
     ]
    }
   ],
   "source": [
    "repeat{\n",
    "print(\"hello\")\n",
    "b <- sample(20,1)\n",
    "print(paste(\"pass\",b))\n",
    "if (b<=5){\n",
    "   print(b)\n",
    "   break\n",
    "}\n",
    "}"
   ]
  },
  {
   "cell_type": "code",
   "execution_count": 7,
   "metadata": {},
   "outputs": [
    {
     "name": "stdout",
     "output_type": "stream",
     "text": [
      "Enter your choice :rock\n",
      "Enter Comp's choice :rock\n",
      "Enter your choice :paper\n",
      "Enter Comp's choice :paper\n",
      "Enter your choice :rock\n",
      "Enter Comp's choice :paper\n",
      "Do you want to continue? y/nn\n",
      "[1] \"Your choice is  rock and computer choice is  rock\"\n",
      "[1] \"Game is tie\"\n",
      "[1] \"Your choice is  paper and computer choice is  paper\"\n",
      "[1] \"Game is tie\"\n",
      "[1] \"Your choice is  rock and computer choice is  paper\"\n",
      "[1] \"Computer won the game\"\n"
     ]
    }
   ],
   "source": [
    "repeat {\n",
    "    user <- readline(prompt = \"Enter your choice :\")\n",
    "    comp <- readline(prompt = \"Enter Comp's choice :\")\n",
    "    if (user==\"quit\"||user==\"q\"){\n",
    "         print (\"Good Bye....\")\n",
    "         break\n",
    "    }\n",
    "    print(paste(\"Your choice is \",user,\"and computer choice is \",comp))\n",
    "    if (user==comp){ \n",
    "        print(\"Game is tie\")\n",
    "        next\n",
    "    } else if (user==\"rock\") {\n",
    "          if (comp==\"scissor\") {\n",
    "              print (\"user won the game\")\n",
    "           } else {\n",
    "              print (\"Computer won the game\")\n",
    "           }\n",
    "    } else if (user==\"scissor\") {\n",
    "           if (comp==\"paper\") {\n",
    "              print (\"user won the game\")\n",
    "           } else {\n",
    "              print (\"computer won the game\")\n",
    "           }\n",
    "    } else if (user==\"paper\") {\n",
    "            if (comp==\"rock\") {\n",
    "              print (\"user won the game\")\n",
    "            } else {\n",
    "              print (\"computer won the game\")\n",
    "            }\n",
    "    } else {\n",
    "            print (\"Have a nice day....!!!\")\n",
    "    }\n",
    "    opt <- readline(prompt = \"Do you want to continue? y/n \")\n",
    "    if (opt!=\"y\"){\n",
    "        break\n",
    "    }\n",
    "}"
   ]
  },
  {
   "cell_type": "code",
   "execution_count": 12,
   "metadata": {},
   "outputs": [
    {
     "name": "stdout",
     "output_type": "stream",
     "text": [
      "[1] \"hello\"\n",
      "[1] \"hello\"\n",
      "[1] \"hello\"\n",
      "[1] \"hello\"\n",
      "[1] \"hello\"\n"
     ]
    }
   ],
   "source": [
    "cnt<-1\n",
    "while (cnt<=5){\n",
    "    print(\"hello\")\n",
    "    cnt <- cnt+1\n",
    "}"
   ]
  },
  {
   "cell_type": "code",
   "execution_count": 32,
   "metadata": {},
   "outputs": [],
   "source": [
    "x<- \"fruit\""
   ]
  },
  {
   "cell_type": "code",
   "execution_count": 33,
   "metadata": {},
   "outputs": [],
   "source": [
    "y <- switch(\n",
    "    x,\"color\"=\"red\",\"object\"=\"rectangle\",\"fruit\"=\"mango\")"
   ]
  },
  {
   "cell_type": "code",
   "execution_count": 34,
   "metadata": {},
   "outputs": [
    {
     "data": {
      "text/html": [
       "'mango'"
      ],
      "text/latex": [
       "'mango'"
      ],
      "text/markdown": [
       "'mango'"
      ],
      "text/plain": [
       "[1] \"mango\""
      ]
     },
     "metadata": {},
     "output_type": "display_data"
    }
   ],
   "source": [
    "y"
   ]
  },
  {
   "cell_type": "code",
   "execution_count": 37,
   "metadata": {},
   "outputs": [
    {
     "data": {
      "text/html": [
       "5.5"
      ],
      "text/latex": [
       "5.5"
      ],
      "text/markdown": [
       "5.5"
      ],
      "text/plain": [
       "[1] 5.5"
      ]
     },
     "metadata": {},
     "output_type": "display_data"
    },
    {
     "data": {
      "text/html": [
       "9.16666666666667"
      ],
      "text/latex": [
       "9.16666666666667"
      ],
      "text/markdown": [
       "9.16666666666667"
      ],
      "text/plain": [
       "[1] 9.166667"
      ]
     },
     "metadata": {},
     "output_type": "display_data"
    },
    {
     "data": {
      "text/html": [
       "3.02765035409749"
      ],
      "text/latex": [
       "3.02765035409749"
      ],
      "text/markdown": [
       "3.02765035409749"
      ],
      "text/plain": [
       "[1] 3.02765"
      ]
     },
     "metadata": {},
     "output_type": "display_data"
    }
   ],
   "source": [
    "mean(1:10)\n",
    "var(1:10)\n",
    "sd(1:10)"
   ]
  },
  {
   "cell_type": "code",
   "execution_count": 39,
   "metadata": {},
   "outputs": [
    {
     "data": {
      "text/html": [
       "<ol class=list-inline>\n",
       "\t<li>72</li>\n",
       "\t<li>15</li>\n",
       "</ol>\n"
      ],
      "text/latex": [
       "\\begin{enumerate*}\n",
       "\\item 72\n",
       "\\item 15\n",
       "\\end{enumerate*}\n"
      ],
      "text/markdown": [
       "1. 72\n",
       "2. 15\n",
       "\n",
       "\n"
      ],
      "text/plain": [
       "[1] 72 15"
      ]
     },
     "metadata": {},
     "output_type": "display_data"
    }
   ],
   "source": [
    "sample(5:100,2)"
   ]
  },
  {
   "cell_type": "code",
   "execution_count": 40,
   "metadata": {},
   "outputs": [],
   "source": [
    "choice <- list(\"rock\",\"paper\",\"scissor\")"
   ]
  },
  {
   "cell_type": "code",
   "execution_count": 44,
   "metadata": {},
   "outputs": [
    {
     "data": {
      "text/html": [
       "<ol>\n",
       "\t<li>'rock'</li>\n",
       "\t<li>'paper'</li>\n",
       "\t<li>'scissor'</li>\n",
       "</ol>\n"
      ],
      "text/latex": [
       "\\begin{enumerate}\n",
       "\\item 'rock'\n",
       "\\item 'paper'\n",
       "\\item 'scissor'\n",
       "\\end{enumerate}\n"
      ],
      "text/markdown": [
       "1. 'rock'\n",
       "2. 'paper'\n",
       "3. 'scissor'\n",
       "\n",
       "\n"
      ],
      "text/plain": [
       "[[1]]\n",
       "[1] \"rock\"\n",
       "\n",
       "[[2]]\n",
       "[1] \"paper\"\n",
       "\n",
       "[[3]]\n",
       "[1] \"scissor\"\n"
      ]
     },
     "metadata": {},
     "output_type": "display_data"
    }
   ],
   "source": [
    "choice"
   ]
  },
  {
   "cell_type": "code",
   "execution_count": 47,
   "metadata": {},
   "outputs": [
    {
     "data": {
      "text/html": [
       "<ol>\n",
       "\t<li>'paper'</li>\n",
       "</ol>\n"
      ],
      "text/latex": [
       "\\begin{enumerate}\n",
       "\\item 'paper'\n",
       "\\end{enumerate}\n"
      ],
      "text/markdown": [
       "1. 'paper'\n",
       "\n",
       "\n"
      ],
      "text/plain": [
       "[[1]]\n",
       "[1] \"paper\"\n"
      ]
     },
     "metadata": {},
     "output_type": "display_data"
    }
   ],
   "source": [
    "sample(choice,1)"
   ]
  },
  {
   "cell_type": "code",
   "execution_count": 64,
   "metadata": {},
   "outputs": [
    {
     "ename": "ERROR",
     "evalue": "Error in parse(text = x, srcfile = src): <text>:11:21: unexpected '||'\n10:     attempt<-attempt+1\n11:     if (user==\"low\")||\n                        ^\n",
     "output_type": "error",
     "traceback": [
      "Error in parse(text = x, srcfile = src): <text>:11:21: unexpected '||'\n10:     attempt<-attempt+1\n11:     if (user==\"low\")||\n                        ^\nTraceback:\n"
     ]
    }
   ],
   "source": [
    "min<-0\n",
    "max<-100\n",
    "attempt<-0\n",
    "i<-0\n",
    "while (i<1) {\n",
    "    print(\"Think any number between 0-100 and keep it with you, let me find out!!\")\n",
    "    comp<-sample(min:max,1)\n",
    "    print(sprintf(\"\\nIsn't it %d ?\",comp))\n",
    "    user<-readline(prompt = \"Enter the option \\n a.high \\n b.low \\n c.Bingo \\n\")\n",
    "    attempt<-attempt+1\n",
    "    if (user==\"low\")||(user==\"b\") {\n",
    "        min<-comp+1\n",
    "        next\n",
    "    } else if (user==\"high\") || (user==\"a\") {\n",
    "        max<-comp-1\n",
    "        next\n",
    "    } else if (user==\"bingo\") || (user==\"c\") {\n",
    "        print (\"\\nThe number is in your mind is %d and computer took %d attempts\"%(comp,attempt))\n",
    "        break\n",
    "    } else {\n",
    "        print (\"\\nPlease enter the valid option\")\n",
    "        break\n",
    "}\n",
    "}\n"
   ]
  },
  {
   "cell_type": "code",
   "execution_count": 65,
   "metadata": {},
   "outputs": [],
   "source": [
    "x<-list(1,1,2,3,4,4)"
   ]
  },
  {
   "cell_type": "code",
   "execution_count": 66,
   "metadata": {},
   "outputs": [
    {
     "data": {
      "text/html": [
       "<ol>\n",
       "\t<li>1</li>\n",
       "\t<li>2</li>\n",
       "\t<li>3</li>\n",
       "\t<li>4</li>\n",
       "</ol>\n"
      ],
      "text/latex": [
       "\\begin{enumerate}\n",
       "\\item 1\n",
       "\\item 2\n",
       "\\item 3\n",
       "\\item 4\n",
       "\\end{enumerate}\n"
      ],
      "text/markdown": [
       "1. 1\n",
       "2. 2\n",
       "3. 3\n",
       "4. 4\n",
       "\n",
       "\n"
      ],
      "text/plain": [
       "[[1]]\n",
       "[1] 1\n",
       "\n",
       "[[2]]\n",
       "[1] 2\n",
       "\n",
       "[[3]]\n",
       "[1] 3\n",
       "\n",
       "[[4]]\n",
       "[1] 4\n"
      ]
     },
     "metadata": {},
     "output_type": "display_data"
    }
   ],
   "source": [
    "unique(x)"
   ]
  },
  {
   "cell_type": "code",
   "execution_count": 1,
   "metadata": {},
   "outputs": [],
   "source": [
    "#function\n",
    "#for loop\n",
    "#list"
   ]
  },
  {
   "cell_type": "code",
   "execution_count": 2,
   "metadata": {},
   "outputs": [],
   "source": [
    "l <- list(1,2,3,'a','b','c','apple','ball',c(5,6,'e'))"
   ]
  },
  {
   "cell_type": "code",
   "execution_count": 9,
   "metadata": {},
   "outputs": [
    {
     "data": {
      "text/html": [
       "<ol>\n",
       "\t<li><ol class=list-inline>\n",
       "\t<li>'5'</li>\n",
       "\t<li>'6'</li>\n",
       "\t<li>'e'</li>\n",
       "</ol>\n",
       "</li>\n",
       "</ol>\n"
      ],
      "text/latex": [
       "\\begin{enumerate}\n",
       "\\item \\begin{enumerate*}\n",
       "\\item '5'\n",
       "\\item '6'\n",
       "\\item 'e'\n",
       "\\end{enumerate*}\n",
       "\n",
       "\\end{enumerate}\n"
      ],
      "text/markdown": [
       "1. 1. '5'\n",
       "2. '6'\n",
       "3. 'e'\n",
       "\n",
       "\n",
       "\n",
       "\n",
       "\n"
      ],
      "text/plain": [
       "[[1]]\n",
       "[1] \"5\" \"6\" \"e\"\n"
      ]
     },
     "metadata": {},
     "output_type": "display_data"
    }
   ],
   "source": [
    "l[9]"
   ]
  },
  {
   "cell_type": "code",
   "execution_count": 10,
   "metadata": {},
   "outputs": [],
   "source": [
    "l <- c(l,\"mango\")"
   ]
  },
  {
   "cell_type": "code",
   "execution_count": 12,
   "metadata": {},
   "outputs": [],
   "source": [
    "j <- l"
   ]
  },
  {
   "cell_type": "code",
   "execution_count": 13,
   "metadata": {},
   "outputs": [
    {
     "data": {
      "text/html": [
       "<ol>\n",
       "\t<li>1</li>\n",
       "\t<li>2</li>\n",
       "\t<li>3</li>\n",
       "\t<li>'a'</li>\n",
       "\t<li>'b'</li>\n",
       "\t<li>'c'</li>\n",
       "\t<li>'apple'</li>\n",
       "\t<li>'ball'</li>\n",
       "\t<li><ol class=list-inline>\n",
       "\t<li>'5'</li>\n",
       "\t<li>'6'</li>\n",
       "\t<li>'e'</li>\n",
       "</ol>\n",
       "</li>\n",
       "\t<li>'mango'</li>\n",
       "</ol>\n"
      ],
      "text/latex": [
       "\\begin{enumerate}\n",
       "\\item 1\n",
       "\\item 2\n",
       "\\item 3\n",
       "\\item 'a'\n",
       "\\item 'b'\n",
       "\\item 'c'\n",
       "\\item 'apple'\n",
       "\\item 'ball'\n",
       "\\item \\begin{enumerate*}\n",
       "\\item '5'\n",
       "\\item '6'\n",
       "\\item 'e'\n",
       "\\end{enumerate*}\n",
       "\n",
       "\\item 'mango'\n",
       "\\end{enumerate}\n"
      ],
      "text/markdown": [
       "1. 1\n",
       "2. 2\n",
       "3. 3\n",
       "4. 'a'\n",
       "5. 'b'\n",
       "6. 'c'\n",
       "7. 'apple'\n",
       "8. 'ball'\n",
       "9. 1. '5'\n",
       "2. '6'\n",
       "3. 'e'\n",
       "\n",
       "\n",
       "\n",
       "10. 'mango'\n",
       "\n",
       "\n"
      ],
      "text/plain": [
       "[[1]]\n",
       "[1] 1\n",
       "\n",
       "[[2]]\n",
       "[1] 2\n",
       "\n",
       "[[3]]\n",
       "[1] 3\n",
       "\n",
       "[[4]]\n",
       "[1] \"a\"\n",
       "\n",
       "[[5]]\n",
       "[1] \"b\"\n",
       "\n",
       "[[6]]\n",
       "[1] \"c\"\n",
       "\n",
       "[[7]]\n",
       "[1] \"apple\"\n",
       "\n",
       "[[8]]\n",
       "[1] \"ball\"\n",
       "\n",
       "[[9]]\n",
       "[1] \"5\" \"6\" \"e\"\n",
       "\n",
       "[[10]]\n",
       "[1] \"mango\"\n"
      ]
     },
     "metadata": {},
     "output_type": "display_data"
    }
   ],
   "source": [
    "j"
   ]
  },
  {
   "cell_type": "code",
   "execution_count": 18,
   "metadata": {},
   "outputs": [
    {
     "name": "stdout",
     "output_type": "stream",
     "text": [
      "[1] 65\n",
      "[1] 66\n",
      "[1] 67\n",
      "[1] 68\n",
      "[1] 69\n",
      "[1] 70\n",
      "[1] 71\n",
      "[1] 72\n",
      "[1] 73\n",
      "[1] 74\n"
     ]
    }
   ],
   "source": [
    "for (i in LETTERS[1:10]){\n",
    "    print(utf8ToInt(i))\n",
    "}"
   ]
  },
  {
   "cell_type": "code",
   "execution_count": 23,
   "metadata": {},
   "outputs": [],
   "source": [
    "i <- 10\n",
    "e <- list()"
   ]
  },
  {
   "cell_type": "code",
   "execution_count": 24,
   "metadata": {},
   "outputs": [],
   "source": [
    "e <- c(e,i)"
   ]
  },
  {
   "cell_type": "code",
   "execution_count": 25,
   "metadata": {},
   "outputs": [
    {
     "data": {
      "text/html": [
       "<ol>\n",
       "\t<li>10</li>\n",
       "</ol>\n"
      ],
      "text/latex": [
       "\\begin{enumerate}\n",
       "\\item 10\n",
       "\\end{enumerate}\n"
      ],
      "text/markdown": [
       "1. 10\n",
       "\n",
       "\n"
      ],
      "text/plain": [
       "[[1]]\n",
       "[1] 10\n"
      ]
     },
     "metadata": {},
     "output_type": "display_data"
    }
   ],
   "source": [
    "e"
   ]
  },
  {
   "cell_type": "code",
   "execution_count": 27,
   "metadata": {},
   "outputs": [
    {
     "data": {
      "text/html": [
       "<ol>\n",
       "\t<li>1</li>\n",
       "\t<li>2</li>\n",
       "\t<li>3</li>\n",
       "\t<li>'a'</li>\n",
       "\t<li>'b'</li>\n",
       "\t<li>'c'</li>\n",
       "\t<li>'apple'</li>\n",
       "\t<li>'ball'</li>\n",
       "\t<li><ol class=list-inline>\n",
       "\t<li>'5'</li>\n",
       "\t<li>'6'</li>\n",
       "\t<li>'e'</li>\n",
       "</ol>\n",
       "</li>\n",
       "\t<li>'mango'</li>\n",
       "</ol>\n"
      ],
      "text/latex": [
       "\\begin{enumerate}\n",
       "\\item 1\n",
       "\\item 2\n",
       "\\item 3\n",
       "\\item 'a'\n",
       "\\item 'b'\n",
       "\\item 'c'\n",
       "\\item 'apple'\n",
       "\\item 'ball'\n",
       "\\item \\begin{enumerate*}\n",
       "\\item '5'\n",
       "\\item '6'\n",
       "\\item 'e'\n",
       "\\end{enumerate*}\n",
       "\n",
       "\\item 'mango'\n",
       "\\end{enumerate}\n"
      ],
      "text/markdown": [
       "1. 1\n",
       "2. 2\n",
       "3. 3\n",
       "4. 'a'\n",
       "5. 'b'\n",
       "6. 'c'\n",
       "7. 'apple'\n",
       "8. 'ball'\n",
       "9. 1. '5'\n",
       "2. '6'\n",
       "3. 'e'\n",
       "\n",
       "\n",
       "\n",
       "10. 'mango'\n",
       "\n",
       "\n"
      ],
      "text/plain": [
       "[[1]]\n",
       "[1] 1\n",
       "\n",
       "[[2]]\n",
       "[1] 2\n",
       "\n",
       "[[3]]\n",
       "[1] 3\n",
       "\n",
       "[[4]]\n",
       "[1] \"a\"\n",
       "\n",
       "[[5]]\n",
       "[1] \"b\"\n",
       "\n",
       "[[6]]\n",
       "[1] \"c\"\n",
       "\n",
       "[[7]]\n",
       "[1] \"apple\"\n",
       "\n",
       "[[8]]\n",
       "[1] \"ball\"\n",
       "\n",
       "[[9]]\n",
       "[1] \"5\" \"6\" \"e\"\n",
       "\n",
       "[[10]]\n",
       "[1] \"mango\"\n"
      ]
     },
     "metadata": {},
     "output_type": "display_data"
    }
   ],
   "source": [
    "l"
   ]
  },
  {
   "cell_type": "code",
   "execution_count": 33,
   "metadata": {},
   "outputs": [
    {
     "name": "stdout",
     "output_type": "stream",
     "text": [
      "[1] \"yes\"\n"
     ]
    }
   ],
   "source": [
    "if (any(l!=\"a\")) {\n",
    "    print(\"yes\")\n",
    "}"
   ]
  },
  {
   "cell_type": "code",
   "execution_count": 50,
   "metadata": {},
   "outputs": [
    {
     "ename": "ERROR",
     "evalue": "Error in \"u\" %notin% l: could not find function \"%notin%\"\n",
     "output_type": "error",
     "traceback": [
      "Error in \"u\" %notin% l: could not find function \"%notin%\"\nTraceback:\n"
     ]
    }
   ],
   "source": [
    "if ('u' %in% l) {\n",
    "    next\n",
    "} else {\n",
    "    \n",
    "}"
   ]
  },
  {
   "cell_type": "code",
   "execution_count": 35,
   "metadata": {},
   "outputs": [
    {
     "data": {
      "text/html": [
       "TRUE"
      ],
      "text/latex": [
       "TRUE"
      ],
      "text/markdown": [
       "TRUE"
      ],
      "text/plain": [
       "[1] TRUE"
      ]
     },
     "metadata": {},
     "output_type": "display_data"
    }
   ],
   "source": [
    "any(l==\"a\")"
   ]
  },
  {
   "cell_type": "code",
   "execution_count": 51,
   "metadata": {},
   "outputs": [
    {
     "ename": "ERROR",
     "evalue": "Error in 1:10 %notin% c(1, 3, 5, 9): could not find function \"%notin%\"\n",
     "output_type": "error",
     "traceback": [
      "Error in 1:10 %notin% c(1, 3, 5, 9): could not find function \"%notin%\"\nTraceback:\n"
     ]
    }
   ],
   "source": [
    "1:10 %notin% c(1,3,5,9)\n",
    "sstr <- c(\"c\",\"ab\",\"B\",\"bba\",\"c\",NA,\"@\",\"bla\",\"a\",\"Ba\",\"%\")\n",
    "sstr[sstr %notin% c(letters, LETTERS)]"
   ]
  },
  {
   "cell_type": "code",
   "execution_count": 68,
   "metadata": {},
   "outputs": [],
   "source": [
    "add <- function(a,b){\n",
    "    print(paste(a+b,a*b))\n",
    "}"
   ]
  },
  {
   "cell_type": "code",
   "execution_count": 72,
   "metadata": {},
   "outputs": [
    {
     "name": "stdout",
     "output_type": "stream",
     "text": [
      "Enter the value for a :14\n",
      "Enter the value for b :6\n",
      "[1] \"20 84\"\n"
     ]
    }
   ],
   "source": [
    "a <- as.numeric(readline(prompt = \"Enter the value for a :\"))\n",
    "b <- as.numeric(readline(prompt = \"Enter the value for b :\"))   \n",
    "add(a,b)"
   ]
  },
  {
   "cell_type": "code",
   "execution_count": 71,
   "metadata": {},
   "outputs": [
    {
     "data": {
      "text/html": [
       "'54 200'"
      ],
      "text/latex": [
       "'54 200'"
      ],
      "text/markdown": [
       "'54 200'"
      ],
      "text/plain": [
       "[1] \"54 200\""
      ]
     },
     "metadata": {},
     "output_type": "display_data"
    }
   ],
   "source": [
    "s"
   ]
  },
  {
   "cell_type": "code",
   "execution_count": 6,
   "metadata": {},
   "outputs": [],
   "source": [
    "l <- list(2,3,4,5,6)"
   ]
  },
  {
   "cell_type": "code",
   "execution_count": 7,
   "metadata": {},
   "outputs": [
    {
     "data": {
      "text/html": [
       "<ol>\n",
       "\t<li>2</li>\n",
       "\t<li>3</li>\n",
       "\t<li>4</li>\n",
       "\t<li>5</li>\n",
       "\t<li>6</li>\n",
       "</ol>\n"
      ],
      "text/latex": [
       "\\begin{enumerate}\n",
       "\\item 2\n",
       "\\item 3\n",
       "\\item 4\n",
       "\\item 5\n",
       "\\item 6\n",
       "\\end{enumerate}\n"
      ],
      "text/markdown": [
       "1. 2\n",
       "2. 3\n",
       "3. 4\n",
       "4. 5\n",
       "5. 6\n",
       "\n",
       "\n"
      ],
      "text/plain": [
       "[[1]]\n",
       "[1] 2\n",
       "\n",
       "[[2]]\n",
       "[1] 3\n",
       "\n",
       "[[3]]\n",
       "[1] 4\n",
       "\n",
       "[[4]]\n",
       "[1] 5\n",
       "\n",
       "[[5]]\n",
       "[1] 6\n"
      ]
     },
     "metadata": {},
     "output_type": "display_data"
    }
   ],
   "source": [
    "l"
   ]
  },
  {
   "cell_type": "code",
   "execution_count": 12,
   "metadata": {},
   "outputs": [],
   "source": [
    "txtData <- read.delim(\"./brass.txt\",header = FALSE)"
   ]
  },
  {
   "cell_type": "code",
   "execution_count": 21,
   "metadata": {},
   "outputs": [],
   "source": [
    "second <- txtData[1,]"
   ]
  },
  {
   "cell_type": "code",
   "execution_count": 22,
   "metadata": {},
   "outputs": [
    {
     "data": {
      "text/html": [
       "Hello\n",
       "<details>\n",
       "\t<summary style=display:list-item;cursor:pointer>\n",
       "\t\t<strong>Levels</strong>:\n",
       "\t</summary>\n",
       "\t<ol class=list-inline>\n",
       "\t\t<li>'Hello'</li>\n",
       "\t\t<li>'hey'</li>\n",
       "\t\t<li>'how are you?'</li>\n",
       "\t\t<li>'how do you do?'</li>\n",
       "\t\t<li>'I am fine'</li>\n",
       "\t\t<li>'I am good'</li>\n",
       "\t</ol>\n",
       "</details>"
      ],
      "text/latex": [
       "Hello\n",
       "\\emph{Levels}: \\begin{enumerate*}\n",
       "\\item 'Hello'\n",
       "\\item 'hey'\n",
       "\\item 'how are you?'\n",
       "\\item 'how do you do?'\n",
       "\\item 'I am fine'\n",
       "\\item 'I am good'\n",
       "\\end{enumerate*}\n"
      ],
      "text/markdown": [
       "Hello\n",
       "**Levels**: 1. 'Hello'\n",
       "2. 'hey'\n",
       "3. 'how are you?'\n",
       "4. 'how do you do?'\n",
       "5. 'I am fine'\n",
       "6. 'I am good'\n",
       "\n",
       "\n"
      ],
      "text/plain": [
       "[1] Hello\n",
       "Levels: Hello hey how are you? how do you do? I am fine I am good"
      ]
     },
     "metadata": {},
     "output_type": "display_data"
    }
   ],
   "source": [
    "second"
   ]
  },
  {
   "cell_type": "code",
   "execution_count": 24,
   "metadata": {},
   "outputs": [
    {
     "data": {
      "text/html": [
       "Hello\n",
       "<details>\n",
       "\t<summary style=display:list-item;cursor:pointer>\n",
       "\t\t<strong>Levels</strong>:\n",
       "\t</summary>\n",
       "\t<ol class=list-inline>\n",
       "\t\t<li>'Hello'</li>\n",
       "\t\t<li>'hey'</li>\n",
       "\t\t<li>'how are you?'</li>\n",
       "\t\t<li>'how do you do?'</li>\n",
       "\t\t<li>'I am fine'</li>\n",
       "\t\t<li>'I am good'</li>\n",
       "\t</ol>\n",
       "</details>"
      ],
      "text/latex": [
       "Hello\n",
       "\\emph{Levels}: \\begin{enumerate*}\n",
       "\\item 'Hello'\n",
       "\\item 'hey'\n",
       "\\item 'how are you?'\n",
       "\\item 'how do you do?'\n",
       "\\item 'I am fine'\n",
       "\\item 'I am good'\n",
       "\\end{enumerate*}\n"
      ],
      "text/markdown": [
       "Hello\n",
       "**Levels**: 1. 'Hello'\n",
       "2. 'hey'\n",
       "3. 'how are you?'\n",
       "4. 'how do you do?'\n",
       "5. 'I am fine'\n",
       "6. 'I am good'\n",
       "\n",
       "\n"
      ],
      "text/plain": [
       "[1] Hello\n",
       "Levels: Hello hey how are you? how do you do? I am fine I am good"
      ]
     },
     "metadata": {},
     "output_type": "display_data"
    }
   ],
   "source": [
    "txtData[1,]"
   ]
  },
  {
   "cell_type": "code",
   "execution_count": 25,
   "metadata": {},
   "outputs": [
    {
     "data": {
      "text/html": [
       "<ol class=list-inline>\n",
       "\t<li>Hello</li>\n",
       "\t<li>how are you?</li>\n",
       "\t<li>I am fine</li>\n",
       "\t<li>hey</li>\n",
       "\t<li>how do you do?</li>\n",
       "\t<li>I am good</li>\n",
       "</ol>\n",
       "\n",
       "<details>\n",
       "\t<summary style=display:list-item;cursor:pointer>\n",
       "\t\t<strong>Levels</strong>:\n",
       "\t</summary>\n",
       "\t<ol class=list-inline>\n",
       "\t\t<li>'Hello'</li>\n",
       "\t\t<li>'hey'</li>\n",
       "\t\t<li>'how are you?'</li>\n",
       "\t\t<li>'how do you do?'</li>\n",
       "\t\t<li>'I am fine'</li>\n",
       "\t\t<li>'I am good'</li>\n",
       "\t</ol>\n",
       "</details>"
      ],
      "text/latex": [
       "\\begin{enumerate*}\n",
       "\\item Hello\n",
       "\\item how are you?\n",
       "\\item I am fine\n",
       "\\item hey\n",
       "\\item how do you do?\n",
       "\\item I am good\n",
       "\\end{enumerate*}\n",
       "\n",
       "\\emph{Levels}: \\begin{enumerate*}\n",
       "\\item 'Hello'\n",
       "\\item 'hey'\n",
       "\\item 'how are you?'\n",
       "\\item 'how do you do?'\n",
       "\\item 'I am fine'\n",
       "\\item 'I am good'\n",
       "\\end{enumerate*}\n"
      ],
      "text/markdown": [
       "1. Hello\n",
       "2. how are you?\n",
       "3. I am fine\n",
       "4. hey\n",
       "5. how do you do?\n",
       "6. I am good\n",
       "\n",
       "\n",
       "\n",
       "**Levels**: 1. 'Hello'\n",
       "2. 'hey'\n",
       "3. 'how are you?'\n",
       "4. 'how do you do?'\n",
       "5. 'I am fine'\n",
       "6. 'I am good'\n",
       "\n",
       "\n"
      ],
      "text/plain": [
       "[1] Hello          how are you?   I am fine      hey            how do you do?\n",
       "[6] I am good     \n",
       "Levels: Hello hey how are you? how do you do? I am fine I am good"
      ]
     },
     "metadata": {},
     "output_type": "display_data"
    }
   ],
   "source": [
    "txtData[,1]"
   ]
  },
  {
   "cell_type": "code",
   "execution_count": 35,
   "metadata": {},
   "outputs": [],
   "source": [
    "csvData <- read.csv(\"./fruits_vege.csv\")"
   ]
  },
  {
   "cell_type": "code",
   "execution_count": 34,
   "metadata": {},
   "outputs": [
    {
     "data": {
      "text/html": [
       "<table>\n",
       "<thead><tr><th scope=col>X</th><th scope=col>fruit</th><th scope=col>vegetable</th><th scope=col>fruits.2</th><th scope=col>vegetable.2</th></tr></thead>\n",
       "<tbody>\n",
       "\t<tr><td>a         </td><td>apple     </td><td>onion     </td><td>apple     </td><td>onion     </td></tr>\n",
       "\t<tr><td>b         </td><td>mango     </td><td>potato    </td><td>mango     </td><td>potato    </td></tr>\n",
       "\t<tr><td>c         </td><td>orange    </td><td>beans     </td><td>pine apple</td><td>carrot    </td></tr>\n",
       "</tbody>\n",
       "</table>\n"
      ],
      "text/latex": [
       "\\begin{tabular}{r|lllll}\n",
       " X & fruit & vegetable & fruits.2 & vegetable.2\\\\\n",
       "\\hline\n",
       "\t a          & apple      & onion      & apple      & onion     \\\\\n",
       "\t b          & mango      & potato     & mango      & potato    \\\\\n",
       "\t c          & orange     & beans      & pine apple & carrot    \\\\\n",
       "\\end{tabular}\n"
      ],
      "text/markdown": [
       "\n",
       "X | fruit | vegetable | fruits.2 | vegetable.2 | \n",
       "|---|---|---|\n",
       "| a          | apple      | onion      | apple      | onion      | \n",
       "| b          | mango      | potato     | mango      | potato     | \n",
       "| c          | orange     | beans      | pine apple | carrot     | \n",
       "\n",
       "\n"
      ],
      "text/plain": [
       "  X fruit  vegetable fruits.2   vegetable.2\n",
       "1 a apple  onion     apple      onion      \n",
       "2 b mango  potato    mango      potato     \n",
       "3 c orange beans     pine apple carrot     "
      ]
     },
     "metadata": {},
     "output_type": "display_data"
    }
   ],
   "source": [
    "csvData"
   ]
  },
  {
   "cell_type": "code",
   "execution_count": 37,
   "metadata": {},
   "outputs": [
    {
     "name": "stdout",
     "output_type": "stream",
     "text": [
      "[1] onion  potato beans \n",
      "Levels: beans onion potato\n"
     ]
    }
   ],
   "source": [
    "print(csvData$vegetable)"
   ]
  },
  {
   "cell_type": "code",
   "execution_count": 42,
   "metadata": {},
   "outputs": [
    {
     "data": {
      "text/html": [
       "<ol class=list-inline>\n",
       "\t<li>apple</li>\n",
       "\t<li>mango</li>\n",
       "</ol>\n",
       "\n",
       "<details>\n",
       "\t<summary style=display:list-item;cursor:pointer>\n",
       "\t\t<strong>Levels</strong>:\n",
       "\t</summary>\n",
       "\t<ol class=list-inline>\n",
       "\t\t<li>'apple'</li>\n",
       "\t\t<li>'mango'</li>\n",
       "\t\t<li>'orange'</li>\n",
       "\t</ol>\n",
       "</details>"
      ],
      "text/latex": [
       "\\begin{enumerate*}\n",
       "\\item apple\n",
       "\\item mango\n",
       "\\end{enumerate*}\n",
       "\n",
       "\\emph{Levels}: \\begin{enumerate*}\n",
       "\\item 'apple'\n",
       "\\item 'mango'\n",
       "\\item 'orange'\n",
       "\\end{enumerate*}\n"
      ],
      "text/markdown": [
       "1. apple\n",
       "2. mango\n",
       "\n",
       "\n",
       "\n",
       "**Levels**: 1. 'apple'\n",
       "2. 'mango'\n",
       "3. 'orange'\n",
       "\n",
       "\n"
      ],
      "text/plain": [
       "[1] apple mango\n",
       "Levels: apple mango orange"
      ]
     },
     "metadata": {},
     "output_type": "display_data"
    }
   ],
   "source": [
    "csvData[1:2,2]"
   ]
  },
  {
   "cell_type": "code",
   "execution_count": 43,
   "metadata": {},
   "outputs": [
    {
     "data": {
      "text/html": [
       "<ol class=list-inline>\n",
       "\t<li>apple</li>\n",
       "\t<li>mango</li>\n",
       "\t<li>pine apple</li>\n",
       "</ol>\n",
       "\n",
       "<details>\n",
       "\t<summary style=display:list-item;cursor:pointer>\n",
       "\t\t<strong>Levels</strong>:\n",
       "\t</summary>\n",
       "\t<ol class=list-inline>\n",
       "\t\t<li>'apple'</li>\n",
       "\t\t<li>'mango'</li>\n",
       "\t\t<li>'pine apple'</li>\n",
       "\t</ol>\n",
       "</details>"
      ],
      "text/latex": [
       "\\begin{enumerate*}\n",
       "\\item apple\n",
       "\\item mango\n",
       "\\item pine apple\n",
       "\\end{enumerate*}\n",
       "\n",
       "\\emph{Levels}: \\begin{enumerate*}\n",
       "\\item 'apple'\n",
       "\\item 'mango'\n",
       "\\item 'pine apple'\n",
       "\\end{enumerate*}\n"
      ],
      "text/markdown": [
       "1. apple\n",
       "2. mango\n",
       "3. pine apple\n",
       "\n",
       "\n",
       "\n",
       "**Levels**: 1. 'apple'\n",
       "2. 'mango'\n",
       "3. 'pine apple'\n",
       "\n",
       "\n"
      ],
      "text/plain": [
       "[1] apple      mango      pine apple\n",
       "Levels: apple mango pine apple"
      ]
     },
     "metadata": {},
     "output_type": "display_data"
    }
   ],
   "source": [
    "csvData[,\"fruits.2\"]"
   ]
  },
  {
   "cell_type": "code",
   "execution_count": 45,
   "metadata": {},
   "outputs": [
    {
     "data": {
      "text/html": [
       "<ol class=list-inline>\n",
       "\t<li>apple</li>\n",
       "\t<li>mango</li>\n",
       "\t<li>pine apple</li>\n",
       "</ol>\n",
       "\n",
       "<details>\n",
       "\t<summary style=display:list-item;cursor:pointer>\n",
       "\t\t<strong>Levels</strong>:\n",
       "\t</summary>\n",
       "\t<ol class=list-inline>\n",
       "\t\t<li>'apple'</li>\n",
       "\t\t<li>'mango'</li>\n",
       "\t\t<li>'pine apple'</li>\n",
       "\t</ol>\n",
       "</details>"
      ],
      "text/latex": [
       "\\begin{enumerate*}\n",
       "\\item apple\n",
       "\\item mango\n",
       "\\item pine apple\n",
       "\\end{enumerate*}\n",
       "\n",
       "\\emph{Levels}: \\begin{enumerate*}\n",
       "\\item 'apple'\n",
       "\\item 'mango'\n",
       "\\item 'pine apple'\n",
       "\\end{enumerate*}\n"
      ],
      "text/markdown": [
       "1. apple\n",
       "2. mango\n",
       "3. pine apple\n",
       "\n",
       "\n",
       "\n",
       "**Levels**: 1. 'apple'\n",
       "2. 'mango'\n",
       "3. 'pine apple'\n",
       "\n",
       "\n"
      ],
      "text/plain": [
       "[1] apple      mango      pine apple\n",
       "Levels: apple mango pine apple"
      ]
     },
     "metadata": {},
     "output_type": "display_data"
    }
   ],
   "source": [
    "csvData[,4]"
   ]
  },
  {
   "cell_type": "code",
   "execution_count": 46,
   "metadata": {},
   "outputs": [
    {
     "data": {
      "text/html": [
       "<ol class=list-inline>\n",
       "\t<li>'X'</li>\n",
       "\t<li>'fruit'</li>\n",
       "\t<li>'vegetable'</li>\n",
       "\t<li>'fruits.2'</li>\n",
       "\t<li>'vegetable.2'</li>\n",
       "</ol>\n"
      ],
      "text/latex": [
       "\\begin{enumerate*}\n",
       "\\item 'X'\n",
       "\\item 'fruit'\n",
       "\\item 'vegetable'\n",
       "\\item 'fruits.2'\n",
       "\\item 'vegetable.2'\n",
       "\\end{enumerate*}\n"
      ],
      "text/markdown": [
       "1. 'X'\n",
       "2. 'fruit'\n",
       "3. 'vegetable'\n",
       "4. 'fruits.2'\n",
       "5. 'vegetable.2'\n",
       "\n",
       "\n"
      ],
      "text/plain": [
       "[1] \"X\"           \"fruit\"       \"vegetable\"   \"fruits.2\"    \"vegetable.2\""
      ]
     },
     "metadata": {},
     "output_type": "display_data"
    }
   ],
   "source": [
    "names(csvData)"
   ]
  },
  {
   "cell_type": "code",
   "execution_count": 47,
   "metadata": {},
   "outputs": [
    {
     "data": {
      "text/html": [
       "3"
      ],
      "text/latex": [
       "3"
      ],
      "text/markdown": [
       "3"
      ],
      "text/plain": [
       "[1] 3"
      ]
     },
     "metadata": {},
     "output_type": "display_data"
    }
   ],
   "source": [
    "nrow(csvData)"
   ]
  },
  {
   "cell_type": "code",
   "execution_count": 51,
   "metadata": {},
   "outputs": [
    {
     "name": "stdout",
     "output_type": "stream",
     "text": [
      "5 3"
     ]
    }
   ],
   "source": [
    "cat(ncol(csvData),nrow(csvData))"
   ]
  },
  {
   "cell_type": "code",
   "execution_count": 53,
   "metadata": {},
   "outputs": [
    {
     "data": {
      "text/plain": [
       " X        fruit    vegetable       fruits.2 vegetable.2\n",
       " a:1   apple :1   beans :1   apple     :1   carrot:1   \n",
       " b:1   mango :1   onion :1   mango     :1   onion :1   \n",
       " c:1   orange:1   potato:1   pine apple:1   potato:1   "
      ]
     },
     "metadata": {},
     "output_type": "display_data"
    }
   ],
   "source": [
    "summary(csvData)"
   ]
  },
  {
   "cell_type": "code",
   "execution_count": 66,
   "metadata": {},
   "outputs": [],
   "source": [
    "csvData$test <- list(5,8,9)"
   ]
  },
  {
   "cell_type": "code",
   "execution_count": 64,
   "metadata": {},
   "outputs": [
    {
     "data": {
      "text/html": [
       "<table>\n",
       "<thead><tr><th scope=col>X</th><th scope=col>fruit</th><th scope=col>vegetable</th><th scope=col>fruits.2</th><th scope=col>vegetable.2</th><th scope=col>test</th></tr></thead>\n",
       "<tbody>\n",
       "\t<tr><td>a         </td><td>apple     </td><td>onion     </td><td>apple     </td><td>onion     </td><td>5         </td></tr>\n",
       "\t<tr><td>b         </td><td>mango     </td><td>potato    </td><td>mango     </td><td>potato    </td><td>8         </td></tr>\n",
       "\t<tr><td>c         </td><td>orange    </td><td>beans     </td><td>pine apple</td><td>carrot    </td><td>9         </td></tr>\n",
       "</tbody>\n",
       "</table>\n"
      ],
      "text/latex": [
       "\\begin{tabular}{r|llllll}\n",
       " X & fruit & vegetable & fruits.2 & vegetable.2 & test\\\\\n",
       "\\hline\n",
       "\t a          & apple      & onion      & apple      & onion      & 5         \\\\\n",
       "\t b          & mango      & potato     & mango      & potato     & 8         \\\\\n",
       "\t c          & orange     & beans      & pine apple & carrot     & 9         \\\\\n",
       "\\end{tabular}\n"
      ],
      "text/markdown": [
       "\n",
       "X | fruit | vegetable | fruits.2 | vegetable.2 | test | \n",
       "|---|---|---|\n",
       "| a          | apple      | onion      | apple      | onion      | 5          | \n",
       "| b          | mango      | potato     | mango      | potato     | 8          | \n",
       "| c          | orange     | beans      | pine apple | carrot     | 9          | \n",
       "\n",
       "\n"
      ],
      "text/plain": [
       "  X fruit  vegetable fruits.2   vegetable.2 test\n",
       "1 a apple  onion     apple      onion       5   \n",
       "2 b mango  potato    mango      potato      8   \n",
       "3 c orange beans     pine apple carrot      9   "
      ]
     },
     "metadata": {},
     "output_type": "display_data"
    }
   ],
   "source": [
    "csvData"
   ]
  },
  {
   "cell_type": "code",
   "execution_count": 67,
   "metadata": {},
   "outputs": [],
   "source": [
    "tsvData <- read.csv(\"./fruits_vege.tsv\",sep = \"\\t\")"
   ]
  },
  {
   "cell_type": "code",
   "execution_count": 68,
   "metadata": {},
   "outputs": [
    {
     "data": {
      "text/html": [
       "<table>\n",
       "<thead><tr><th scope=col>X</th><th scope=col>fruit</th><th scope=col>vegetable</th><th scope=col>fruits.2</th><th scope=col>vegetable.2</th></tr></thead>\n",
       "<tbody>\n",
       "\t<tr><td>a         </td><td>apple     </td><td>onion     </td><td>apple     </td><td>onion     </td></tr>\n",
       "\t<tr><td>b         </td><td>mango     </td><td>potato    </td><td>mango     </td><td>potato    </td></tr>\n",
       "\t<tr><td>c         </td><td>orange    </td><td>beans     </td><td>pine apple</td><td>carrot    </td></tr>\n",
       "</tbody>\n",
       "</table>\n"
      ],
      "text/latex": [
       "\\begin{tabular}{r|lllll}\n",
       " X & fruit & vegetable & fruits.2 & vegetable.2\\\\\n",
       "\\hline\n",
       "\t a          & apple      & onion      & apple      & onion     \\\\\n",
       "\t b          & mango      & potato     & mango      & potato    \\\\\n",
       "\t c          & orange     & beans      & pine apple & carrot    \\\\\n",
       "\\end{tabular}\n"
      ],
      "text/markdown": [
       "\n",
       "X | fruit | vegetable | fruits.2 | vegetable.2 | \n",
       "|---|---|---|\n",
       "| a          | apple      | onion      | apple      | onion      | \n",
       "| b          | mango      | potato     | mango      | potato     | \n",
       "| c          | orange     | beans      | pine apple | carrot     | \n",
       "\n",
       "\n"
      ],
      "text/plain": [
       "  X fruit  vegetable fruits.2   vegetable.2\n",
       "1 a apple  onion     apple      onion      \n",
       "2 b mango  potato    mango      potato     \n",
       "3 c orange beans     pine apple carrot     "
      ]
     },
     "metadata": {},
     "output_type": "display_data"
    }
   ],
   "source": [
    "tsvData"
   ]
  },
  {
   "cell_type": "code",
   "execution_count": 70,
   "metadata": {},
   "outputs": [],
   "source": [
    "df <- data.frame(a=2:6,b=LETTERS[4:8])"
   ]
  },
  {
   "cell_type": "code",
   "execution_count": 71,
   "metadata": {},
   "outputs": [
    {
     "data": {
      "text/html": [
       "<table>\n",
       "<thead><tr><th scope=col>a</th><th scope=col>b</th></tr></thead>\n",
       "<tbody>\n",
       "\t<tr><td>2</td><td>D</td></tr>\n",
       "\t<tr><td>3</td><td>E</td></tr>\n",
       "\t<tr><td>4</td><td>F</td></tr>\n",
       "\t<tr><td>5</td><td>G</td></tr>\n",
       "\t<tr><td>6</td><td>H</td></tr>\n",
       "</tbody>\n",
       "</table>\n"
      ],
      "text/latex": [
       "\\begin{tabular}{r|ll}\n",
       " a & b\\\\\n",
       "\\hline\n",
       "\t 2 & D\\\\\n",
       "\t 3 & E\\\\\n",
       "\t 4 & F\\\\\n",
       "\t 5 & G\\\\\n",
       "\t 6 & H\\\\\n",
       "\\end{tabular}\n"
      ],
      "text/markdown": [
       "\n",
       "a | b | \n",
       "|---|---|---|---|---|\n",
       "| 2 | D | \n",
       "| 3 | E | \n",
       "| 4 | F | \n",
       "| 5 | G | \n",
       "| 6 | H | \n",
       "\n",
       "\n"
      ],
      "text/plain": [
       "  a b\n",
       "1 2 D\n",
       "2 3 E\n",
       "3 4 F\n",
       "4 5 G\n",
       "5 6 H"
      ]
     },
     "metadata": {},
     "output_type": "display_data"
    }
   ],
   "source": [
    "df"
   ]
  },
  {
   "cell_type": "code",
   "execution_count": 79,
   "metadata": {},
   "outputs": [],
   "source": [
    "write.csv2(df,\"R_CSVdata.ssv\")"
   ]
  },
  {
   "cell_type": "code",
   "execution_count": 77,
   "metadata": {},
   "outputs": [],
   "source": [
    "a.2 <-data.frame(A=LETTERS[1:5],B=1:5)"
   ]
  },
  {
   "cell_type": "code",
   "execution_count": 78,
   "metadata": {},
   "outputs": [
    {
     "data": {
      "text/html": [
       "<table>\n",
       "<thead><tr><th scope=col>A</th><th scope=col>B</th></tr></thead>\n",
       "<tbody>\n",
       "\t<tr><td>A</td><td>1</td></tr>\n",
       "\t<tr><td>B</td><td>2</td></tr>\n",
       "\t<tr><td>C</td><td>3</td></tr>\n",
       "\t<tr><td>D</td><td>4</td></tr>\n",
       "\t<tr><td>E</td><td>5</td></tr>\n",
       "</tbody>\n",
       "</table>\n"
      ],
      "text/latex": [
       "\\begin{tabular}{r|ll}\n",
       " A & B\\\\\n",
       "\\hline\n",
       "\t A & 1\\\\\n",
       "\t B & 2\\\\\n",
       "\t C & 3\\\\\n",
       "\t D & 4\\\\\n",
       "\t E & 5\\\\\n",
       "\\end{tabular}\n"
      ],
      "text/markdown": [
       "\n",
       "A | B | \n",
       "|---|---|---|---|---|\n",
       "| A | 1 | \n",
       "| B | 2 | \n",
       "| C | 3 | \n",
       "| D | 4 | \n",
       "| E | 5 | \n",
       "\n",
       "\n"
      ],
      "text/plain": [
       "  A B\n",
       "1 A 1\n",
       "2 B 2\n",
       "3 C 3\n",
       "4 D 4\n",
       "5 E 5"
      ]
     },
     "metadata": {},
     "output_type": "display_data"
    }
   ],
   "source": [
    "a.2"
   ]
  },
  {
   "cell_type": "code",
   "execution_count": 80,
   "metadata": {},
   "outputs": [],
   "source": [
    "write.table(a.2,\"testing.tsv\",sep = \"\\t\")"
   ]
  },
  {
   "cell_type": "code",
   "execution_count": 82,
   "metadata": {},
   "outputs": [
    {
     "data": {
      "text/html": [
       "<ol class=list-inline>\n",
       "\t<li>C</li>\n",
       "\t<li>D</li>\n",
       "\t<li>E</li>\n",
       "</ol>\n",
       "\n",
       "<details>\n",
       "\t<summary style=display:list-item;cursor:pointer>\n",
       "\t\t<strong>Levels</strong>:\n",
       "\t</summary>\n",
       "\t<ol class=list-inline>\n",
       "\t\t<li>'A'</li>\n",
       "\t\t<li>'B'</li>\n",
       "\t\t<li>'C'</li>\n",
       "\t\t<li>'D'</li>\n",
       "\t\t<li>'E'</li>\n",
       "\t</ol>\n",
       "</details>"
      ],
      "text/latex": [
       "\\begin{enumerate*}\n",
       "\\item C\n",
       "\\item D\n",
       "\\item E\n",
       "\\end{enumerate*}\n",
       "\n",
       "\\emph{Levels}: \\begin{enumerate*}\n",
       "\\item 'A'\n",
       "\\item 'B'\n",
       "\\item 'C'\n",
       "\\item 'D'\n",
       "\\item 'E'\n",
       "\\end{enumerate*}\n"
      ],
      "text/markdown": [
       "1. C\n",
       "2. D\n",
       "3. E\n",
       "\n",
       "\n",
       "\n",
       "**Levels**: 1. 'A'\n",
       "2. 'B'\n",
       "3. 'C'\n",
       "4. 'D'\n",
       "5. 'E'\n",
       "\n",
       "\n"
      ],
      "text/plain": [
       "[1] C D E\n",
       "Levels: A B C D E"
      ]
     },
     "metadata": {},
     "output_type": "display_data"
    }
   ],
   "source": [
    "a.2$A[a.2$B >2]"
   ]
  },
  {
   "cell_type": "code",
   "execution_count": 84,
   "metadata": {},
   "outputs": [
    {
     "data": {
      "text/html": [
       "E\n",
       "<details>\n",
       "\t<summary style=display:list-item;cursor:pointer>\n",
       "\t\t<strong>Levels</strong>:\n",
       "\t</summary>\n",
       "\t<ol class=list-inline>\n",
       "\t\t<li>'A'</li>\n",
       "\t\t<li>'B'</li>\n",
       "\t\t<li>'C'</li>\n",
       "\t\t<li>'D'</li>\n",
       "\t\t<li>'E'</li>\n",
       "\t</ol>\n",
       "</details>"
      ],
      "text/latex": [
       "E\n",
       "\\emph{Levels}: \\begin{enumerate*}\n",
       "\\item 'A'\n",
       "\\item 'B'\n",
       "\\item 'C'\n",
       "\\item 'D'\n",
       "\\item 'E'\n",
       "\\end{enumerate*}\n"
      ],
      "text/markdown": [
       "E\n",
       "**Levels**: 1. 'A'\n",
       "2. 'B'\n",
       "3. 'C'\n",
       "4. 'D'\n",
       "5. 'E'\n",
       "\n",
       "\n"
      ],
      "text/plain": [
       "[1] E\n",
       "Levels: A B C D E"
      ]
     },
     "metadata": {},
     "output_type": "display_data"
    }
   ],
   "source": [
    "a.2$A[max(a.2$B)]"
   ]
  },
  {
   "cell_type": "code",
   "execution_count": null,
   "metadata": {},
   "outputs": [],
   "source": [
    "http://www.bom.gov.au/climate/data/\n",
    "http://jeremy.zawodny.com/blog/archives/006851.html\n",
    "    http://www.statsci.org/data\n",
    "http://en.wikipedia.org/wiki/Dutch_general_election,_2012\n",
    "https://www.youtube.com/watch?v=aKdV5FvXLuI\n"
   ]
  },
  {
   "cell_type": "code",
   "execution_count": null,
   "metadata": {},
   "outputs": [],
   "source": [
    "library(\"ggplot\")"
   ]
  },
  {
   "cell_type": "code",
   "execution_count": 2,
   "metadata": {},
   "outputs": [],
   "source": [
    "n <-c(1,1,1,2,2,3,3,3,4,4,4,4)"
   ]
  },
  {
   "cell_type": "code",
   "execution_count": 11,
   "metadata": {},
   "outputs": [
    {
     "data": {
      "image/png": "[encoded data removed]",
      "text/plain": [
       "Plot with title “Histogram of n”"
      ]
     },
     "metadata": {},
     "output_type": "display_data"
    }
   ],
   "source": [
    "hist(n,breaks = 10)"
   ]
  },
  {
   "cell_type": "code",
   "execution_count": null,
   "metadata": {},
   "outputs": [],
   "source": [
    "plot()\n",
    "barplot\n",
    "pie\n",
    "hist\n"
   ]
  },
  {
   "cell_type": "code",
   "execution_count": 12,
   "metadata": {},
   "outputs": [],
   "source": [
    "data(VADeaths)"
   ]
  },
  {
   "cell_type": "code",
   "execution_count": 13,
   "metadata": {},
   "outputs": [
    {
     "data": {
      "text/html": [
       "<table>\n",
       "<thead><tr><th></th><th scope=col>Rural Male</th><th scope=col>Rural Female</th><th scope=col>Urban Male</th><th scope=col>Urban Female</th></tr></thead>\n",
       "<tbody>\n",
       "\t<tr><th scope=row>50-54</th><td>11.7</td><td> 8.7</td><td>15.4</td><td> 8.4</td></tr>\n",
       "\t<tr><th scope=row>55-59</th><td>18.1</td><td>11.7</td><td>24.3</td><td>13.6</td></tr>\n",
       "\t<tr><th scope=row>60-64</th><td>26.9</td><td>20.3</td><td>37.0</td><td>19.3</td></tr>\n",
       "\t<tr><th scope=row>65-69</th><td>41.0</td><td>30.9</td><td>54.6</td><td>35.1</td></tr>\n",
       "\t<tr><th scope=row>70-74</th><td>66.0</td><td>54.3</td><td>71.1</td><td>50.0</td></tr>\n",
       "</tbody>\n",
       "</table>\n"
      ],
      "text/latex": [
       "\\begin{tabular}{r|llll}\n",
       "  & Rural Male & Rural Female & Urban Male & Urban Female\\\\\n",
       "\\hline\n",
       "\t50-54 & 11.7 &  8.7 & 15.4 &  8.4\\\\\n",
       "\t55-59 & 18.1 & 11.7 & 24.3 & 13.6\\\\\n",
       "\t60-64 & 26.9 & 20.3 & 37.0 & 19.3\\\\\n",
       "\t65-69 & 41.0 & 30.9 & 54.6 & 35.1\\\\\n",
       "\t70-74 & 66.0 & 54.3 & 71.1 & 50.0\\\\\n",
       "\\end{tabular}\n"
      ],
      "text/markdown": [
       "\n",
       "| <!--/--> | Rural Male | Rural Female | Urban Male | Urban Female | \n",
       "|---|---|---|---|---|\n",
       "| 50-54 | 11.7 |  8.7 | 15.4 |  8.4 | \n",
       "| 55-59 | 18.1 | 11.7 | 24.3 | 13.6 | \n",
       "| 60-64 | 26.9 | 20.3 | 37.0 | 19.3 | \n",
       "| 65-69 | 41.0 | 30.9 | 54.6 | 35.1 | \n",
       "| 70-74 | 66.0 | 54.3 | 71.1 | 50.0 | \n",
       "\n",
       "\n"
      ],
      "text/plain": [
       "      Rural Male Rural Female Urban Male Urban Female\n",
       "50-54 11.7        8.7         15.4        8.4        \n",
       "55-59 18.1       11.7         24.3       13.6        \n",
       "60-64 26.9       20.3         37.0       19.3        \n",
       "65-69 41.0       30.9         54.6       35.1        \n",
       "70-74 66.0       54.3         71.1       50.0        "
      ]
     },
     "metadata": {},
     "output_type": "display_data"
    }
   ],
   "source": [
    "VADeaths"
   ]
  },
  {
   "cell_type": "code",
   "execution_count": 40,
   "metadata": {},
   "outputs": [
    {
     "data": {
      "image/png": "[encoded data removed]",
      "text/plain": [
       "Plot with title “Death rate”"
      ]
     },
     "metadata": {},
     "output_type": "display_data"
    }
   ],
   "source": [
    "par(mfrow = c(2,3))\n",
    "library(\"RColorBrewer\")\n",
    "hist(VADeaths,breaks = 10,main = \"Death rate\",col = brewer.pal(8,\"Greys\"))\n",
    "hist(VADeaths,breaks = 7,main = \"Death rate\")\n",
    "hist(VADeaths,breaks = 3,main = \"Death rate\",col=brewer.pal(3,\"Set3\"))\n",
    "hist(VADeaths,breaks = 7,main = \"Death rate\")\n",
    "hist(VADeaths,breaks = 10,main = \"Death rate\")\n",
    "hist(VADeaths,breaks = 7,main = \"Death rate\")\n"
   ]
  },
  {
   "cell_type": "code",
   "execution_count": 30,
   "metadata": {},
   "outputs": [
    {
     "name": "stderr",
     "output_type": "stream",
     "text": [
      "Installing package into ‘/home/sharma/R/x86_64-pc-linux-gnu-library/3.4’\n",
      "(as ‘lib’ is unspecified)\n"
     ]
    }
   ],
   "source": [
    "install.packages(\"RColorBrewer\")"
   ]
  },
  {
   "cell_type": "code",
   "execution_count": 53,
   "metadata": {},
   "outputs": [
    {
     "data": {
      "image/png": "[encoded data removed]",
      "text/plain": [
       "plot without title"
      ]
     },
     "metadata": {},
     "output_type": "display_data"
    }
   ],
   "source": [
    "x <- list(1,2,3,4,5)\n",
    "y <- list(1,4,9,16,25)\n",
    "plot(x,y,type = \"s\",lwd = 10,col = \"blue\")"
   ]
  },
  {
   "cell_type": "code",
   "execution_count": 54,
   "metadata": {},
   "outputs": [],
   "source": [
    "?barplot"
   ]
  },
  {
   "cell_type": "code",
   "execution_count": 60,
   "metadata": {},
   "outputs": [
    {
     "data": {
      "image/png": "[encoded data removed]",
      "text/plain": [
       "plot without title"
      ]
     },
     "metadata": {},
     "output_type": "display_data"
    }
   ],
   "source": [
    "#barplot(VADeaths, plot = TRUE)\n",
    "barplot(VADeaths, plot = TRUE, beside = TRUE)\n",
    "\n"
   ]
  },
  {
   "cell_type": "code",
   "execution_count": 70,
   "metadata": {},
   "outputs": [
    {
     "data": {
      "image/png": "[encoded data removed]",
      "text/plain": [
       "plot without title"
      ]
     },
     "metadata": {},
     "output_type": "display_data"
    }
   ],
   "source": [
    "mp <- barplot(VADeaths)\n",
    "tot <- colMeans(VADeaths)\n",
    "text(mp, tot+3, format(tot),col  = \"blue\")\n"
   ]
  },
  {
   "cell_type": "code",
   "execution_count": 72,
   "metadata": {},
   "outputs": [
    {
     "data": {
      "image/png": "[encoded data removed]",
      "text/plain": [
       "Plot with title “Death Rates in Virginia”"
      ]
     },
     "metadata": {},
     "output_type": "display_data"
    }
   ],
   "source": [
    "barplot(VADeaths, beside = TRUE,\n",
    "        col = c(\"lightblue\", \"mistyrose\", \"lightcyan\",\n",
    "                \"lavender\", \"cornsilk\"),\n",
    "        legend = rownames(VADeaths), ylim = c(0, 100))\n",
    "title(main = \"Death Rates in Virginia\", font.main = 4)"
   ]
  },
  {
   "cell_type": "code",
   "execution_count": 73,
   "metadata": {},
   "outputs": [
    {
     "data": {
      "text/html": [
       "<table>\n",
       "<thead><tr><th></th><th scope=col>Rural Male</th><th scope=col>Rural Female</th><th scope=col>Urban Male</th><th scope=col>Urban Female</th></tr></thead>\n",
       "<tbody>\n",
       "\t<tr><th scope=row>50-54</th><td>11.7</td><td> 8.7</td><td>15.4</td><td> 8.4</td></tr>\n",
       "\t<tr><th scope=row>55-59</th><td>18.1</td><td>11.7</td><td>24.3</td><td>13.6</td></tr>\n",
       "\t<tr><th scope=row>60-64</th><td>26.9</td><td>20.3</td><td>37.0</td><td>19.3</td></tr>\n",
       "\t<tr><th scope=row>65-69</th><td>41.0</td><td>30.9</td><td>54.6</td><td>35.1</td></tr>\n",
       "\t<tr><th scope=row>70-74</th><td>66.0</td><td>54.3</td><td>71.1</td><td>50.0</td></tr>\n",
       "</tbody>\n",
       "</table>\n"
      ],
      "text/latex": [
       "\\begin{tabular}{r|llll}\n",
       "  & Rural Male & Rural Female & Urban Male & Urban Female\\\\\n",
       "\\hline\n",
       "\t50-54 & 11.7 &  8.7 & 15.4 &  8.4\\\\\n",
       "\t55-59 & 18.1 & 11.7 & 24.3 & 13.6\\\\\n",
       "\t60-64 & 26.9 & 20.3 & 37.0 & 19.3\\\\\n",
       "\t65-69 & 41.0 & 30.9 & 54.6 & 35.1\\\\\n",
       "\t70-74 & 66.0 & 54.3 & 71.1 & 50.0\\\\\n",
       "\\end{tabular}\n"
      ],
      "text/markdown": [
       "\n",
       "| <!--/--> | Rural Male | Rural Female | Urban Male | Urban Female | \n",
       "|---|---|---|---|---|\n",
       "| 50-54 | 11.7 |  8.7 | 15.4 |  8.4 | \n",
       "| 55-59 | 18.1 | 11.7 | 24.3 | 13.6 | \n",
       "| 60-64 | 26.9 | 20.3 | 37.0 | 19.3 | \n",
       "| 65-69 | 41.0 | 30.9 | 54.6 | 35.1 | \n",
       "| 70-74 | 66.0 | 54.3 | 71.1 | 50.0 | \n",
       "\n",
       "\n"
      ],
      "text/plain": [
       "      Rural Male Rural Female Urban Male Urban Female\n",
       "50-54 11.7        8.7         15.4        8.4        \n",
       "55-59 18.1       11.7         24.3       13.6        \n",
       "60-64 26.9       20.3         37.0       19.3        \n",
       "65-69 41.0       30.9         54.6       35.1        \n",
       "70-74 66.0       54.3         71.1       50.0        "
      ]
     },
     "metadata": {},
     "output_type": "display_data"
    }
   ],
   "source": [
    "VADeaths"
   ]
  },
  {
   "cell_type": "code",
   "execution_count": 75,
   "metadata": {},
   "outputs": [
    {
     "data": {
      "image/png": "[encoded data removed]",
      "text/plain": [
       "plot without title"
      ]
     },
     "metadata": {},
     "output_type": "display_data"
    }
   ],
   "source": [
    "pie(VADeaths)"
   ]
  },
  {
   "cell_type": "code",
   "execution_count": 76,
   "metadata": {},
   "outputs": [],
   "source": [
    "?pie"
   ]
  },
  {
   "cell_type": "code",
   "execution_count": 78,
   "metadata": {},
   "outputs": [
    {
     "data": {
      "image/png": "[encoded data removed]",
      "text/plain": [
       "plot without title"
      ]
     },
     "metadata": {},
     "output_type": "display_data"
    }
   ],
   "source": [
    "\n",
    "pie.sales <- c(0.12, 0.3, 0.26, 0.16, 0.04, 0.12)\n",
    "names(pie.sales) <- c(\"Blueberry\", \"Cherry\",\n",
    "    \"Apple\", \"Boston Cream\", \"Other\", \"Vanilla Cream\")\n",
    "\n",
    "pie(pie.sales) # default colours\n",
    "pie(pie.sales, col = c(\"purple\", \"violetred1\", \"green3\",\n",
    "                       \"cornsilk\", \"cyan\", \"white\"))\n",
    "pie(pie.sales, col = gray(seq(0.4, 1.0, length = 6)))\n",
    "pie(pie.sales, density = 10, angle = 15 + 10 * 1:6)\n",
    "pie(pie.sales, clockwise = TRUE, main = \"pie(*, clockwise = TRUE)\")\n",
    "segments(0, 0, 0, 1, col = \"red\", lwd = 2)\n",
    "text(0, 1, \"init.angle = 90\", col = \"red\")"
   ]
  },
  {
   "cell_type": "code",
   "execution_count": 79,
   "metadata": {},
   "outputs": [],
   "source": [
    "g <- c(20,35,15,25,5)\n",
    "names(g) <- c(\"a\",\"b\",\"c\",\"d\",\"e\")"
   ]
  },
  {
   "cell_type": "code",
   "execution_count": 81,
   "metadata": {},
   "outputs": [
    {
     "data": {
      "image/png": "[encoded data removed]",
      "text/plain": [
       "plot without title"
      ]
     },
     "metadata": {},
     "output_type": "display_data"
    }
   ],
   "source": [
    "pie(g)"
   ]
  },
  {
   "cell_type": "code",
   "execution_count": 98,
   "metadata": {},
   "outputs": [
    {
     "data": {
      "image/png": "[encoded data removed]",
      "text/plain": [
       "Plot with title “”"
      ]
     },
     "metadata": {},
     "output_type": "display_data"
    }
   ],
   "source": [
    "rannorm <- rnorm(500)\n",
    "hist(rannorm, freq=FALSE, main=\"\", ylim=c(0,0.5))\n",
    "curve(dnorm(x), add=TRUE, col=\"blue\")"
   ]
  },
  {
   "cell_type": "code",
   "execution_count": 84,
   "metadata": {},
   "outputs": [],
   "source": [
    "a <- c(1,2,3)"
   ]
  },
  {
   "cell_type": "code",
   "execution_count": 99,
   "metadata": {},
   "outputs": [],
   "source": [
    "data(iris)"
   ]
  },
  {
   "cell_type": "code",
   "execution_count": 110,
   "metadata": {},
   "outputs": [
    {
     "data": {
      "image/png": "[encoded data removed]",
      "text/plain": [
       "plot without title"
      ]
     },
     "metadata": {},
     "output_type": "display_data"
    }
   ],
   "source": [
    "plot(iris,col = brewer.pal(3,\"Set1\"),pch=16)"
   ]
  },
  {
   "cell_type": "code",
   "execution_count": 101,
   "metadata": {},
   "outputs": [],
   "source": [
    "?plot"
   ]
  },
  {
   "cell_type": "code",
   "execution_count": 112,
   "metadata": {},
   "outputs": [
    {
     "data": {
      "image/png": "[encoded data removed]",
      "text/plain": [
       "plot without title"
      ]
     },
     "metadata": {},
     "output_type": "display_data"
    }
   ],
   "source": [
    "boxplot(iris$Sepal.Length,col = \"blue\")"
   ]
  },
  {
   "cell_type": "code",
   "execution_count": 3,
   "metadata": {},
   "outputs": [
    {
     "data": {
      "image/png": "[encoded data removed]",
      "text/plain": [
       "plot without title"
      ]
     },
     "metadata": {},
     "output_type": "display_data"
    }
   ],
   "source": [
    "df <- read.csv(\"./Advertising.csv\")\n",
    "#plot(df)\n",
    "plot(newspaper~sales,data=df)\n"
   ]
  },
  {
   "cell_type": "code",
   "execution_count": 5,
   "metadata": {},
   "outputs": [
    {
     "name": "stdout",
     "output_type": "stream",
     "text": [
      "       fit      lwr      upr\n",
      "1 20.43318 16.98594 23.88041\n"
     ]
    }
   ],
   "source": [
    "fit<- lm(sales~TV+radio+newspaper,data=df)\n",
    "test.data <- data.frame(TV=75,newspaper=75,radio=75)\n",
    "print(predict(fit,newdata=test.data,interval=\"prediction\"))"
   ]
  },
  {
   "cell_type": "code",
   "execution_count": null,
   "metadata": {},
   "outputs": [],
   "source": []
  }
 ],
 "metadata": {
  "kernelspec": {
   "display_name": "R",
   "language": "R",
   "name": "ir"
  },
  "language_info": {
   "codemirror_mode": "r",
   "file_extension": ".r",
   "mimetype": "text/x-r-source",
   "name": "R",
   "pygments_lexer": "r",
   "version": "3.4.4"
  }
 },
 "nbformat": 4,
 "nbformat_minor": 2
}
