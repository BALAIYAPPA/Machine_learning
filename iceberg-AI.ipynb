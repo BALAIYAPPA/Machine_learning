{
 "cells": [
  {
   "cell_type": "code",
   "execution_count": 2,
   "metadata": {},
   "outputs": [
    {
     "name": "stdout",
     "output_type": "stream",
     "text": [
      "16\n"
     ]
    }
   ],
   "source": [
    "a = 6\n",
    "b = 10\n",
    "print(a+b)\n"
   ]
  },
  {
   "cell_type": "markdown",
   "metadata": {
    "deletable": false,
    "editable": false,
    "run_control": {
     "frozen": true
    },
    "slideshow": {
     "slide_type": "subslide"
    }
   },
   "source": [
    "### Github link\n",
    "\n",
    "https://github.com/sharmasaravanan/Machine_learning"
   ]
  },
  {
   "cell_type": "markdown",
   "metadata": {},
   "source": [
    "### data types\n"
   ]
  },
  {
   "cell_type": "code",
   "execution_count": 19,
   "metadata": {},
   "outputs": [],
   "source": [
    "i = 10 #int\n",
    "f = 3.14 #float\n",
    "b = True #bool\n",
    "s = \"apple\"#string\n"
   ]
  },
  {
   "cell_type": "markdown",
   "metadata": {},
   "source": [
    "### types"
   ]
  },
  {
   "cell_type": "code",
   "execution_count": 20,
   "metadata": {},
   "outputs": [
    {
     "name": "stdout",
     "output_type": "stream",
     "text": [
      "<class 'int'>\n",
      "<class 'float'>\n",
      "<class 'bool'>\n",
      "<class 'str'>\n"
     ]
    }
   ],
   "source": [
    "print(type(i))\n",
    "print(type(f))\n",
    "print(type(b))\n",
    "print(type(s))\n"
   ]
  },
  {
   "cell_type": "code",
   "execution_count": 29,
   "metadata": {},
   "outputs": [
    {
     "name": "stdout",
     "output_type": "stream",
     "text": [
      "apple\n",
      "10\n",
      "Hello world!!\n"
     ]
    }
   ],
   "source": [
    "print(s)\n",
    "print(i)\n",
    "print(\"Hello world!!\")"
   ]
  },
  {
   "cell_type": "code",
   "execution_count": 30,
   "metadata": {},
   "outputs": [
    {
     "name": "stdout",
     "output_type": "stream",
     "text": [
      "1200\n"
     ]
    }
   ],
   "source": [
    "print(1200)"
   ]
  },
  {
   "cell_type": "markdown",
   "metadata": {},
   "source": [
    "### output"
   ]
  },
  {
   "cell_type": "markdown",
   "metadata": {},
   "source": [
    "objectives:-\n",
    "     1. To print \"hello apple\"\n",
    "     2. To print \"hello 10\"\n"
   ]
  },
  {
   "cell_type": "code",
   "execution_count": 43,
   "metadata": {},
   "outputs": [
    {
     "name": "stdout",
     "output_type": "stream",
     "text": [
      "hello apple\n",
      "hello 10\n",
      "-----------------------------------\n",
      "hello apple\n",
      "hello 10\n",
      "-----------------------------------\n",
      "hello apple\n",
      "hello 10\n",
      "-----------------------------------\n",
      "hello apple\n",
      "hello 10\n"
     ]
    }
   ],
   "source": [
    "#method 1\n",
    "print(\"hello \"+s)\n",
    "print(\"hello \"+str(i)) #type casting \n",
    "print(\"-------\"*5) #ignore\n",
    "#method 2\n",
    "print(\"hello\",s)\n",
    "print(\"hello\",i)\n",
    "print(\"-------\"*5) #ignore\n",
    "#method 3\n",
    "print(\"hello %s\"%s) #s => string,d => decimal, f => float\n",
    "print(\"hello %d\"%i)\n",
    "print(\"-------\"*5) #ignore\n",
    "#method 4\n",
    "print(\"hello {}\".format(s))\n",
    "print(\"hello {}\".format(i))"
   ]
  },
  {
   "cell_type": "code",
   "execution_count": 49,
   "metadata": {},
   "outputs": [
    {
     "name": "stdout",
     "output_type": "stream",
     "text": [
      "method-1:\n",
      "\n",
      "\ti bought 2kg of apple for 135 and also bought 3kg of orange for 100.\n",
      "method-2:\n",
      "\n",
      "\ti bought 2 kg of apple  for 135  and also bought 3 kg of orange  for 100 .\n",
      "method-3:\n",
      "\n",
      "\ti bought 2kg of apple for 135 and also bought 3kg of orange for 100.\n",
      "method-4:\n",
      "\n",
      "\ti bought 2kg of apple for 135 and also bought 3kg of orange for 100\n"
     ]
    }
   ],
   "source": [
    "#significance of all the methods\n",
    "# i bought 2kg of apple for 135 and also bought 3kg of orange for 100.\n",
    "fruit1 ='apple'\n",
    "fruit2 ='orange'\n",
    "cost1 = 135\n",
    "cost2 = 100\n",
    "w1 = 2\n",
    "w2 = 3\n",
    "print(\"method-1:\")\n",
    "print(\"\\n\\ti bought \"+str(w1)+\"kg of \"+fruit1+\" for \"+str(cost1)+\" and also bought \"+str(w2)+\"kg of \"+fruit2+\" for \"+str(cost2)+\".\")\n",
    "print(\"method-2:\")\n",
    "print(\"\\n\\ti bought\",w1,\"kg of\",fruit1,\" for\",cost1,\" and also bought\",w2,\"kg of\",fruit2,\" for\",cost2,\".\")\n",
    "print(\"method-3:\")\n",
    "print(\"\\n\\ti bought %dkg of %s for %d and also bought %dkg of %s for %d.\"%(w1,fruit1,cost1,w2,fruit2,cost2))\n",
    "print(\"method-4:\")\n",
    "print(\"\\n\\ti bought {}kg of {} for {} and also bought {}kg of {} for {}\".format(w1,fruit1,cost1,w2,fruit2,cost2))"
   ]
  },
  {
   "cell_type": "markdown",
   "metadata": {},
   "source": [
    "### operator overloading"
   ]
  },
  {
   "cell_type": "code",
   "execution_count": 44,
   "metadata": {},
   "outputs": [
    {
     "data": {
      "text/plain": [
       "10"
      ]
     },
     "execution_count": 44,
     "metadata": {},
     "output_type": "execute_result"
    }
   ],
   "source": [
    "10 + 15 # int (+) int -> arithmetic operation\n",
    "2 * 5 # int (*) int"
   ]
  },
  {
   "cell_type": "code",
   "execution_count": 5,
   "metadata": {},
   "outputs": [
    {
     "name": "stdout",
     "output_type": "stream",
     "text": [
      "hi sharma\n",
      "apple apple apple \n"
     ]
    }
   ],
   "source": [
    "print('hi ' + 'sharma') # string (+) string -> string concatenation\n",
    "print(\"apple \" * 3 )# string (*) string"
   ]
  },
  {
   "cell_type": "code",
   "execution_count": 50,
   "metadata": {},
   "outputs": [
    {
     "name": "stdout",
     "output_type": "stream",
     "text": [
      "hi hello welcome to python\n"
     ]
    }
   ],
   "source": [
    "print(\"hi {1} welcome to {0}\".format(\"python\",\"hello\"))"
   ]
  },
  {
   "cell_type": "markdown",
   "metadata": {
    "deletable": false,
    "editable": false,
    "run_control": {
     "frozen": true
    },
    "solution2": "hidden",
    "solution2_first": true
   },
   "source": [
    "### task-1\n",
    "\n",
    "input:- assign a value to a variable and follow the example\n",
    "\n",
    "example:-\n",
    "\n",
    "input:- n = 5\n",
    "\n",
    "output:- 615\n",
    "\n",
    "operation:- 555+55+5\n"
   ]
  },
  {
   "cell_type": "markdown",
   "metadata": {
    "deletable": false,
    "editable": false,
    "run_control": {
     "frozen": true
    },
    "solution2": "hidden"
   },
   "source": [
    "Solution:-\n",
    "\n",
    "1) n = '4'\n",
    "    <br>ans = int(n*3)+int(n*2)+int(n)\n",
    "    <br>print(ans)\n",
    "\n",
    "2) n = 3\n",
    "    <br>ans = int(str(n)*3)+int(str(n)*2)+n\n",
    "    <br>print(ans)"
   ]
  },
  {
   "cell_type": "markdown",
   "metadata": {},
   "source": [
    "### operators\n",
    "    ### arithmetic operation\n",
    "+, -, *, /, %\n",
    "\n",
    "    ### logical operation\n",
    "and, or , not\n",
    "\n",
    "    ### conditional operation\n",
    "<, >, <=, >=, ==, !=\n",
    "\n",
    "    ### misc operation\n",
    "is, in, not in , not is"
   ]
  },
  {
   "cell_type": "markdown",
   "metadata": {},
   "source": [
    "### input"
   ]
  },
  {
   "cell_type": "code",
   "execution_count": 6,
   "metadata": {},
   "outputs": [
    {
     "name": "stdout",
     "output_type": "stream",
     "text": [
      "Enter the numerical value: 15\n",
      "Enter your name :mango\n"
     ]
    }
   ],
   "source": [
    "num = int(input(\"Enter the numerical value: \"))\n",
    "name = input(\"Enter your name :\")"
   ]
  },
  {
   "cell_type": "code",
   "execution_count": 12,
   "metadata": {},
   "outputs": [
    {
     "name": "stdout",
     "output_type": "stream",
     "text": [
      "<class 'int'>\n",
      "<class 'str'>\n"
     ]
    }
   ],
   "source": [
    "print(type(num))\n",
    "print(type(name))"
   ]
  },
  {
   "cell_type": "markdown",
   "metadata": {
    "deletable": false,
    "editable": false,
    "run_control": {
     "frozen": true
    }
   },
   "source": [
    "### weekly task -1\n",
    "calculate the area of circle, rectangle and triangle by getting appropriate input from the user. \n",
    "Display the output in the following format,\n",
    "\n",
    "\"The area of circle with radius 5 cm is 78.5 sq.cm\n"
   ]
  },
  {
   "cell_type": "markdown",
   "metadata": {},
   "source": [
    "### if-else"
   ]
  },
  {
   "cell_type": "code",
   "execution_count": 10,
   "metadata": {},
   "outputs": [
    {
     "name": "stdout",
     "output_type": "stream",
     "text": [
      "Enter the numerical value: 5\n",
      "5 is odd\n"
     ]
    }
   ],
   "source": [
    "num = int(input(\"Enter the numerical value: \"))\n",
    "if num % 2 != 0:\n",
    "    print(\"%d is odd\"%num)\n",
    "else:\n",
    "    print(\"%d is even\"%num)"
   ]
  },
  {
   "cell_type": "markdown",
   "metadata": {},
   "source": [
    "####  if-else-if"
   ]
  },
  {
   "cell_type": "code",
   "execution_count": 13,
   "metadata": {},
   "outputs": [
    {
     "name": "stdout",
     "output_type": "stream",
     "text": [
      "Enter the numerical value: 5\n",
      "5 is odd\n"
     ]
    }
   ],
   "source": [
    "num = int(input(\"Enter the numerical value: \"))\n",
    "if num % 4 == 0:\n",
    "    print('%d is divisible by 4 and also even'%num)\n",
    "elif num % 2 == 0:\n",
    "    print(\"%d is even\"%num)\n",
    "else:\n",
    "    print(\"%d is odd\"%num)"
   ]
  },
  {
   "cell_type": "markdown",
   "metadata": {},
   "source": [
    "#### Task-2"
   ]
  },
  {
   "cell_type": "markdown",
   "metadata": {
    "deletable": false,
    "editable": false,
    "run_control": {
     "frozen": true
    },
    "solution2": "hidden",
    "solution2_first": true
   },
   "source": [
    "calculate the area of circle, rectangle and triangle based on user's preference by getting appropriate input from the user. \n"
   ]
  },
  {
   "cell_type": "code",
   "execution_count": 27,
   "metadata": {
    "deletable": false,
    "editable": false,
    "run_control": {
     "frozen": true
    },
    "solution2": "hidden"
   },
   "outputs": [
    {
     "name": "stdout",
     "output_type": "stream",
     "text": [
      "Please select any one in the following options \n",
      "a. circle \n",
      "b. rectangle \n",
      "c. triangle \n",
      "g\n",
      "You have chosen invalid input\n"
     ]
    }
   ],
   "source": [
    "choice = input(\"Please select any one in the following options \\na. circle \\nb. rectangle \\nc. triangle \\n\")\n",
    "\n",
    "if choice == 'a' or choice == 'circle':\n",
    "    radius = float(input(\"Enter the radius r of the circle : \"))\n",
    "    area = 3.14 * radius * radius\n",
    "    \n",
    "    print(\"The area of the circle is %0.2f sq.cm\"%area)\n",
    "\n",
    "elif choice == 'b' or choice == 'rectangle':\n",
    "    length = float(input(\"Enter the length l of the rectangle : \"))\n",
    "    width = float(input(\"Enter the width w of the rectangle : \"))\n",
    "    area = length * width\n",
    "    \n",
    "    print(\"The area of the rectangle is %0.2f sq.cm\"%area)\n",
    "\n",
    "elif choice == 'c' or choice == 'triangle':\n",
    "    base = float(input(\"Enter the base b of the triangle : \"))\n",
    "    height = float(input(\"Enter the height h of the triangle : \"))\n",
    "    area = (0.5) * base * height\n",
    "    \n",
    "    print(\"The area of the triangle is %0.2f sq.cm\"%area)\n",
    "\n",
    "else:\n",
    "    print(\"You have chosen invalid input\")"
   ]
  },
  {
   "cell_type": "markdown",
   "metadata": {},
   "source": [
    "### while loop"
   ]
  },
  {
   "cell_type": "code",
   "execution_count": 36,
   "metadata": {},
   "outputs": [
    {
     "name": "stdout",
     "output_type": "stream",
     "text": [
      "Enter the numerical value: 36\n",
      "36 is divisible by 4 and also even\n",
      "Enter the numerical value: 15\n",
      "15 is odd\n",
      "Enter the numerical value: 46\n",
      "46 is even\n",
      "Enter the numerical value: 50\n",
      "Skipping....!\n",
      "Enter the numerical value: 15\n",
      "15 is odd\n",
      "Enter the numerical value: 15\n",
      "15 is odd\n",
      "Enter the numerical value: 25\n",
      "Goodbye...!!\n",
      "3\n"
     ]
    }
   ],
   "source": [
    "cnt = 0\n",
    "while True: #inifinite loop\n",
    "    num = int(input(\"Enter the numerical value: \"))\n",
    "    \n",
    "    if num == 25:\n",
    "        print(\"Goodbye...!!\")\n",
    "        print(cnt)\n",
    "        break\n",
    "    elif num == 50:\n",
    "        print(\"Skipping....!\")\n",
    "        continue\n",
    "    elif num == 15:\n",
    "        cnt += 1\n",
    "        pass\n",
    "        \n",
    "    if num % 4 == 0:\n",
    "        print('%d is divisible by 4 and also even'%num)\n",
    "    elif num % 2 == 0:\n",
    "        print(\"%d is even\"%num)\n",
    "    else:\n",
    "        print(\"%d is odd\"%num)"
   ]
  },
  {
   "cell_type": "code",
   "execution_count": 38,
   "metadata": {},
   "outputs": [
    {
     "name": "stdout",
     "output_type": "stream",
     "text": [
      "Enter the numerical value: 45\n",
      "45 is odd\n",
      "Enter the numerical value: 50\n",
      "Skipping....!\n",
      "Enter the numerical value: 47\n",
      "47 is odd\n",
      "Enter the numerical value: 88\n",
      "88 is divisible by 4 and also even\n"
     ]
    }
   ],
   "source": [
    "cnt = 0\n",
    "i = 1\n",
    "while i<=3: #condition based loop\n",
    "    num = int(input(\"Enter the numerical value: \"))\n",
    "    \n",
    "    if num == 25:\n",
    "        print(\"Goodbye...!!\")\n",
    "        print(cnt)\n",
    "        break\n",
    "    elif num == 50:\n",
    "        print(\"Skipping....!\")\n",
    "        continue\n",
    "    elif num == 15:\n",
    "        cnt += 1\n",
    "        pass\n",
    "        \n",
    "    if num % 4 == 0:\n",
    "        print('%d is divisible by 4 and also even'%num)\n",
    "    elif num % 2 == 0:\n",
    "        print(\"%d is even\"%num)\n",
    "    else:\n",
    "        print(\"%d is odd\"%num)\n",
    "    i += 1"
   ]
  },
  {
   "cell_type": "code",
   "execution_count": 39,
   "metadata": {},
   "outputs": [
    {
     "name": "stdout",
     "output_type": "stream",
     "text": [
      "Enter the numerical value: 96\n",
      "96 is divisible by 4 and also even\n",
      "Do you want to continue? \n",
      "y or ny\n",
      "Enter the numerical value: 14\n",
      "14 is even\n",
      "Do you want to continue? \n",
      "y or nn\n"
     ]
    }
   ],
   "source": [
    "cnt = 0\n",
    "opt = 'y'\n",
    "while opt == 'y':  #user's option loop\n",
    "    num = int(input(\"Enter the numerical value: \"))\n",
    "\n",
    "    if num == 25:\n",
    "        print(\"Goodbye...!!\")\n",
    "        print(cnt)\n",
    "        break\n",
    "    elif num == 50:\n",
    "        print(\"Skipping....!\")\n",
    "        continue\n",
    "    elif num == 15:\n",
    "        cnt += 1\n",
    "        pass\n",
    "\n",
    "    if num % 4 == 0:\n",
    "        print('%d is divisible by 4 and also even' % num)\n",
    "    elif num % 2 == 0:\n",
    "        print(\"%d is even\" % num)\n",
    "    else:\n",
    "        print(\"%d is odd\" % num)\n",
    "    opt = input(\"Do you want to continue? \\ny or n :-\")"
   ]
  },
  {
   "cell_type": "markdown",
   "metadata": {
    "deletable": false,
    "editable": false,
    "run_control": {
     "frozen": true
    }
   },
   "source": [
    "### weekly task -2"
   ]
  },
  {
   "cell_type": "markdown",
   "metadata": {
    "deletable": false,
    "editable": false,
    "run_control": {
     "frozen": true
    }
   },
   "source": [
    "Write a python code to play rock paper scissor game for two users, which should satisfy the following conditions.\n",
    "\n",
    "1. Rock beats scissor\n",
    "2. Scissor beats paper\n",
    "3. Paper beats rock\n",
    "\n"
   ]
  },
  {
   "cell_type": "markdown",
   "metadata": {
    "deletable": false,
    "editable": false,
    "run_control": {
     "frozen": true
    }
   },
   "source": [
    "### weekly task -3"
   ]
  },
  {
   "cell_type": "markdown",
   "metadata": {
    "deletable": false,
    "editable": false,
    "run_control": {
     "frozen": true
    }
   },
   "source": [
    "Write a python program to guess the computer generated number and also the display the number of choice you are taking to find the number.\n",
    "\n",
    "Use the following snippet to generate number\n",
    "\n",
    "import random as r\n",
    "\n",
    "comp = r.randint(0,100)\n"
   ]
  },
  {
   "cell_type": "code",
   "execution_count": null,
   "metadata": {},
   "outputs": [],
   "source": []
  }
 ],
 "metadata": {
  "kernelspec": {
   "display_name": "Python 3",
   "language": "python",
   "name": "python3"
  },
  "language_info": {
   "codemirror_mode": {
    "name": "ipython",
    "version": 3
   },
   "file_extension": ".py",
   "mimetype": "text/x-python",
   "name": "python",
   "nbconvert_exporter": "python",
   "pygments_lexer": "ipython3",
   "version": "3.6.6"
  },
  "toc": {
   "base_numbering": 1,
   "nav_menu": {},
   "number_sections": true,
   "sideBar": true,
   "skip_h1_title": false,
   "title_cell": "Table of Contents",
   "title_sidebar": "Contents",
   "toc_cell": false,
   "toc_position": {},
   "toc_section_display": true,
   "toc_window_display": false
  },
  "varInspector": {
   "cols": {
    "lenName": 16,
    "lenType": 16,
    "lenVar": 40
   },
   "kernels_config": {
    "python": {
     "delete_cmd_postfix": "",
     "delete_cmd_prefix": "del ",
     "library": "var_list.py",
     "varRefreshCmd": "print(var_dic_list())"
    },
    "r": {
     "delete_cmd_postfix": ") ",
     "delete_cmd_prefix": "rm(",
     "library": "var_list.r",
     "varRefreshCmd": "cat(var_dic_list()) "
    }
   },
   "types_to_exclude": [
    "module",
    "function",
    "builtin_function_or_method",
    "instance",
    "_Feature"
   ],
   "window_display": false
  }
 },
 "nbformat": 4,
 "nbformat_minor": 2
}
